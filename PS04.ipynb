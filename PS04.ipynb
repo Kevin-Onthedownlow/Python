{
 "cells": [
  {
   "cell_type": "markdown",
   "metadata": {},
   "source": [
    "## BME 202 - Problem Set 04: Pulsing jellyfish (20 pts)\n",
    "\n",
    "### Due 23:59, 11th November 2019\n"
   ]
  },
  {
   "cell_type": "markdown",
   "metadata": {},
   "source": [
    "#### The Assignment"
   ]
  },
  {
   "cell_type": "markdown",
   "metadata": {},
   "source": [
    "In tutorial t03c, we extracted information from movies of pulsing jellyfish.  For this assignment, you must develop an image analysis pipeline for the Cassiopea pulsation movies.  Pose a set of hypotheses or questions to answer (see examples at end of t03c); and then compare and contrast measurements for day-time and night-time pulsing data, and among the individual jellyfish.  Graphically present your results, discuss any/all conclusions from your data analysis, and provide suggestions for further experiments you may have based on what is implicated by your data."
   ]
  },
  {
   "cell_type": "markdown",
   "metadata": {},
   "source": [
    "#### To turn in:\n",
    "\n",
    "Submit one zip'd file per group, which contains the .ipynb file, a .pdf of that file, and finally, the .csv file(s) of your ROIs (see t03c).  Name files according to (first initial + last name) of each group member (e.g., PS04_nnibras_jtreweek).  For ease of grading, you must call-up the original data without changing the name of the folders: 'cassiopea_pulsation', or 'day', or 'night'. So, your first lines of code for daytime and night-time image data should look something like this:\n",
    "\n",
    "    data_dir = '../data/cassiopea_pulsation/day'\n",
    "\n",
    "    data_dir = '../data/cassiopea_pulsation/night'\n",
    "\n",
    "If you change any of these three folder names for when you call-up the data in your .ipynb file, the TA will NOT grade your PS04.\n",
    "\n",
    "As a reminder, your group (2-3 students) should be composed of classmates in your discussion section as you will be working on this assignment in-class on Friday November 8th. (You are free to attend a different discussion section.) \n",
    "\n",
    "**Contributions:** Reminder - students should list a contributions section (e.g., Tanja Trojan hypothesized what parameters might be interesting to look at, Tommy Trojan coded up the plotting for EDA, both Tanja and Tommy analysed plots and decided on statistical analysis approach in order to draw conclusions)."
   ]
  },
  {
   "cell_type": "code",
   "execution_count": null,
   "metadata": {},
   "outputs": [],
   "source": []
  }
 ],
 "metadata": {
  "kernelspec": {
   "display_name": "Python 3",
   "language": "python",
   "name": "python3"
  },
  "language_info": {
   "codemirror_mode": {
    "name": "ipython",
    "version": 3
   },
   "file_extension": ".py",
   "mimetype": "text/x-python",
   "name": "python",
   "nbconvert_exporter": "python",
   "pygments_lexer": "ipython3",
   "version": "3.7.3"
  }
 },
 "nbformat": 4,
 "nbformat_minor": 4
}
