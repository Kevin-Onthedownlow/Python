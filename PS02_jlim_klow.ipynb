{
 "cells": [
  {
   "cell_type": "markdown",
   "metadata": {},
   "source": [
    "# BME 202, Fall 2019: Problem set 02 - Sleep Data Analysis \n",
    "\n",
    "## Due 23:59, Thursday, 26-September\n",
    "\n",
    "#### Please note: I am giving you **more time than usual** to complete this problem set so that you have plenty of time to review all tutorials. DO NOT postpone starting until the last minute!"
   ]
  },
  {
   "cell_type": "markdown",
   "metadata": {},
   "source": [
    "**General Instructions:**  You should complete this homework in your small groups; please name the file with: \"PS02_ + first initial + last name_\" for each group member (e.g., \"PS02_nnibras_jtreweek.IPYNB\".  For record-keeping purposes, each group member must submit an IPYNB file of the same filename through Blackboard Assignments.  Please list all group member names at the top of the assignment.  While the actual content should be identical among members of the same group, each person should summarize every group member's relative contribution to the assignment (a few sentences total - this may be done as a group or individually).  This contribution block should appear at the very end of the IPYNB file in a separate markdown cell.\n",
    "\n",
    "**Formatting guidelines:**  Regarding python notebooks, every block of code or written\n",
    "explanation of a single idea should be in a separate cell.  Code should be commented appropriately, and markdown cells must be formatted neatly in Latex.  When applicable, figures/graphs should have a title, x-label, y-label, scale, legend and/or caption.  If there is any question as to what is being displayed, explain in words to clarify.  Include both a watermark cell and the author contribution cell (discussed above) at the end of the notebook."
   ]
  },
  {
   "cell_type": "markdown",
   "metadata": {},
   "source": [
    "<br/>"
   ]
  },
  {
   "cell_type": "markdown",
   "metadata": {},
   "source": [
    "### t02 Problem 1. Exploring fish sleep data, 20 pts \n",
    "\n",
    "In the journal club and data analysis tutorials of this week, we have been studying the neural and genetic bases of sleep, using zebrafish as a model organism.  You even started to analyze some real sleep data from zebrafish while learning how to create tidy datasets and plot these data.  In this problem, you will work with your group to come up with some good ways to parametrize sleep behavior and estimate the values of these parameters.\n",
    "\n",
    "Choose two different ways to parametrize sleep behavior.  You can use sleep metrics from puiblished work (i.e., the [Prober, et al. paper](https://doi.org/10.1523/JNEUROSCI.4332-06.2006), from the JC club paper [Oikonomou, et al. paper](https://doi.org/10.1016/j.neuron.2019.05.038)) or you can invent your own (obviously, creativity/originality will be rewarded in the grade).  For each of the ways of parametrizing sleep, provide instructive plots and estimate the values of the parameters.  Be sure to discuss the rationale behind choosing your parametrizations.\n",
    "\n",
    "Note that there is a lot of debate among the community of scientists studying sleep how to best quantify the behavior. This is generally true in studies of behavior, and much of the process of understanding the measurements is deciding on what to use as metrics.  This problem obviously has no right answer.  What is important is that you can provide a clear rational for your choices.\n",
    "\n",
    "As you work through this problem, much of what you will do is exploratory data analysis.  You will work with data frames to compute the behavioral metrics of interest and make instructive plots. Again, this problem is intentionally open-ended.  You are taking a data set and making plots that you might put in a presentation or in a paper to describe the behavior.  As you do the analysis, provide text that justifies your choice (i.e., of which analyses are relevant) and discuss the conclusions (about zebrafish sleep) that can be drawn from your analyses.\n",
    "\n",
    "You can use the resampled data set that we generated in Tutorial t02, or you can use the original data set.  If you rename the data set, *you must specify which data you are using as a starting point in your submitted IPYNB file*."
   ]
  },
  {
   "cell_type": "markdown",
   "metadata": {},
   "source": [
    "# Problem Set #2: Sleep Data Analysis\n",
    "#### Members: Kevin Low, Lim Jian Loong Jethro\n",
    "\n",
    "We used the unmodified, original data set \"130315_1A_aanat2.csv\" for our manipulation and later parametrization."
   ]
  },
  {
   "cell_type": "code",
   "execution_count": 1,
   "metadata": {},
   "outputs": [],
   "source": [
    "# First, import the necessary packages we will be using\n",
    "import numpy as np\n",
    "import pandas as pd\n",
    "import itertools\n",
    "\n",
    "import altair as alt\n",
    "import altair_catplot as altcat"
   ]
  },
  {
   "cell_type": "code",
   "execution_count": 2,
   "metadata": {},
   "outputs": [],
   "source": [
    "# Call the data and put into the pandas df\n",
    "df = pd.read_csv('C:/Users/kevin/BME202/t02/130315_1A_aanat2.csv', comment = '#')\n",
    "\n",
    "# Load the genoytpe file as df_gt for later use\n",
    "df_gt = pd.read_csv('C:/Users/kevin/BME202/t02/fish_genotypes.txt',\n",
    "                   delimiter = '\\t',\n",
    "                    comment = '#',\n",
    "                    header = [0,1]\n",
    "                   )"
   ]
  },
  {
   "cell_type": "code",
   "execution_count": 3,
   "metadata": {},
   "outputs": [],
   "source": [
    "# Resets the colums to be on the 2nd level of indexing\n",
    "df_gt.columns = df_gt.columns.get_level_values(1)\n",
    "\n",
    "#Set the column names as the names of the genotypes\n",
    "df_gt.columns = ['wt', 'het', 'mut']"
   ]
  },
  {
   "cell_type": "code",
   "execution_count": 4,
   "metadata": {},
   "outputs": [],
   "source": [
    "# Tidy up the DataFrame\n",
    "df_gt = pd.melt(df_gt, var_name='genotype', value_name='location')\n",
    "\n",
    "# Drop the rows that have a NaN in them\n",
    "df_gt = df_gt.dropna()\n",
    "\n",
    "# Reset index to account for the dropped rows\n",
    "df_gt = df_gt.reset_index(drop=True)\n",
    "\n",
    "# Change the fish numbers to int data types\n",
    "df_gt.loc[:,'location'] = df_gt.loc[:,'location'].astype(int)\n",
    "\n",
    "# Merge the genotype data and activity data int one\n",
    "df = pd.merge(df, df_gt)"
   ]
  },
  {
   "cell_type": "code",
   "execution_count": 5,
   "metadata": {},
   "outputs": [
    {
     "data": {
      "text/html": [
       "<div>\n",
       "<style scoped>\n",
       "    .dataframe tbody tr th:only-of-type {\n",
       "        vertical-align: middle;\n",
       "    }\n",
       "\n",
       "    .dataframe tbody tr th {\n",
       "        vertical-align: top;\n",
       "    }\n",
       "\n",
       "    .dataframe thead th {\n",
       "        text-align: right;\n",
       "    }\n",
       "</style>\n",
       "<table border=\"1\" class=\"dataframe\">\n",
       "  <thead>\n",
       "    <tr style=\"text-align: right;\">\n",
       "      <th></th>\n",
       "      <th>location</th>\n",
       "      <th>activity</th>\n",
       "      <th>time</th>\n",
       "      <th>zeit</th>\n",
       "      <th>zeit_ind</th>\n",
       "      <th>day</th>\n",
       "      <th>genotype</th>\n",
       "      <th>light</th>\n",
       "    </tr>\n",
       "  </thead>\n",
       "  <tbody>\n",
       "    <tr>\n",
       "      <th>0</th>\n",
       "      <td>1</td>\n",
       "      <td>0.6</td>\n",
       "      <td>2013-03-15 18:31:09</td>\n",
       "      <td>-14.480833</td>\n",
       "      <td>-869</td>\n",
       "      <td>4</td>\n",
       "      <td>het</td>\n",
       "      <td>True</td>\n",
       "    </tr>\n",
       "    <tr>\n",
       "      <th>1</th>\n",
       "      <td>1</td>\n",
       "      <td>1.9</td>\n",
       "      <td>2013-03-15 18:32:09</td>\n",
       "      <td>-14.464167</td>\n",
       "      <td>-868</td>\n",
       "      <td>4</td>\n",
       "      <td>het</td>\n",
       "      <td>True</td>\n",
       "    </tr>\n",
       "    <tr>\n",
       "      <th>2</th>\n",
       "      <td>1</td>\n",
       "      <td>1.9</td>\n",
       "      <td>2013-03-15 18:33:09</td>\n",
       "      <td>-14.447500</td>\n",
       "      <td>-867</td>\n",
       "      <td>4</td>\n",
       "      <td>het</td>\n",
       "      <td>True</td>\n",
       "    </tr>\n",
       "    <tr>\n",
       "      <th>3</th>\n",
       "      <td>1</td>\n",
       "      <td>13.4</td>\n",
       "      <td>2013-03-15 18:34:09</td>\n",
       "      <td>-14.430833</td>\n",
       "      <td>-866</td>\n",
       "      <td>4</td>\n",
       "      <td>het</td>\n",
       "      <td>True</td>\n",
       "    </tr>\n",
       "    <tr>\n",
       "      <th>4</th>\n",
       "      <td>1</td>\n",
       "      <td>15.4</td>\n",
       "      <td>2013-03-15 18:35:09</td>\n",
       "      <td>-14.414167</td>\n",
       "      <td>-865</td>\n",
       "      <td>4</td>\n",
       "      <td>het</td>\n",
       "      <td>True</td>\n",
       "    </tr>\n",
       "  </tbody>\n",
       "</table>\n",
       "</div>"
      ],
      "text/plain": [
       "   location  activity                time       zeit  zeit_ind  day genotype  \\\n",
       "0         1       0.6 2013-03-15 18:31:09 -14.480833      -869    4      het   \n",
       "1         1       1.9 2013-03-15 18:32:09 -14.464167      -868    4      het   \n",
       "2         1       1.9 2013-03-15 18:33:09 -14.447500      -867    4      het   \n",
       "3         1      13.4 2013-03-15 18:34:09 -14.430833      -866    4      het   \n",
       "4         1      15.4 2013-03-15 18:35:09 -14.414167      -865    4      het   \n",
       "\n",
       "   light  \n",
       "0   True  \n",
       "1   True  \n",
       "2   True  \n",
       "3   True  \n",
       "4   True  "
      ]
     },
     "execution_count": 5,
     "metadata": {},
     "output_type": "execute_result"
    }
   ],
   "source": [
    "# changing data type of time column values to time\n",
    "df['time'] = pd.to_datetime(df['time'])\n",
    "\n",
    "# determines the light condition of data point based on time\n",
    "df['light'] = ( (df['time'].dt.time >= pd.to_datetime('9:00:00').time())\n",
    "               & (df['time'].dt.time <= pd.to_datetime('23:00:00').time())\n",
    "              )\n",
    "\n",
    "# Viewing the compiled and tidied data set\n",
    "df.head()"
   ]
  },
  {
   "cell_type": "code",
   "execution_count": 6,
   "metadata": {},
   "outputs": [
    {
     "data": {
      "text/html": [
       "<div>\n",
       "<style scoped>\n",
       "    .dataframe tbody tr th:only-of-type {\n",
       "        vertical-align: middle;\n",
       "    }\n",
       "\n",
       "    .dataframe tbody tr th {\n",
       "        vertical-align: top;\n",
       "    }\n",
       "\n",
       "    .dataframe thead th {\n",
       "        text-align: right;\n",
       "    }\n",
       "</style>\n",
       "<table border=\"1\" class=\"dataframe\">\n",
       "  <thead>\n",
       "    <tr style=\"text-align: right;\">\n",
       "      <th></th>\n",
       "      <th>location</th>\n",
       "      <th>time</th>\n",
       "      <th>zeit</th>\n",
       "      <th>zeit_ind</th>\n",
       "      <th>day</th>\n",
       "      <th>genotype</th>\n",
       "      <th>light</th>\n",
       "      <th>asleep</th>\n",
       "    </tr>\n",
       "  </thead>\n",
       "  <tbody>\n",
       "    <tr>\n",
       "      <th>0</th>\n",
       "      <td>1</td>\n",
       "      <td>2013-03-15 18:31:09</td>\n",
       "      <td>-14.480833</td>\n",
       "      <td>-869</td>\n",
       "      <td>4</td>\n",
       "      <td>het</td>\n",
       "      <td>True</td>\n",
       "      <td>False</td>\n",
       "    </tr>\n",
       "    <tr>\n",
       "      <th>1</th>\n",
       "      <td>1</td>\n",
       "      <td>2013-03-15 18:32:09</td>\n",
       "      <td>-14.464167</td>\n",
       "      <td>-868</td>\n",
       "      <td>4</td>\n",
       "      <td>het</td>\n",
       "      <td>True</td>\n",
       "      <td>False</td>\n",
       "    </tr>\n",
       "    <tr>\n",
       "      <th>2</th>\n",
       "      <td>1</td>\n",
       "      <td>2013-03-15 18:33:09</td>\n",
       "      <td>-14.447500</td>\n",
       "      <td>-867</td>\n",
       "      <td>4</td>\n",
       "      <td>het</td>\n",
       "      <td>True</td>\n",
       "      <td>False</td>\n",
       "    </tr>\n",
       "    <tr>\n",
       "      <th>3</th>\n",
       "      <td>1</td>\n",
       "      <td>2013-03-15 18:34:09</td>\n",
       "      <td>-14.430833</td>\n",
       "      <td>-866</td>\n",
       "      <td>4</td>\n",
       "      <td>het</td>\n",
       "      <td>True</td>\n",
       "      <td>False</td>\n",
       "    </tr>\n",
       "    <tr>\n",
       "      <th>4</th>\n",
       "      <td>1</td>\n",
       "      <td>2013-03-15 18:35:09</td>\n",
       "      <td>-14.414167</td>\n",
       "      <td>-865</td>\n",
       "      <td>4</td>\n",
       "      <td>het</td>\n",
       "      <td>True</td>\n",
       "      <td>False</td>\n",
       "    </tr>\n",
       "  </tbody>\n",
       "</table>\n",
       "</div>"
      ],
      "text/plain": [
       "   location                time       zeit  zeit_ind  day genotype  light  \\\n",
       "0         1 2013-03-15 18:31:09 -14.480833      -869    4      het   True   \n",
       "1         1 2013-03-15 18:32:09 -14.464167      -868    4      het   True   \n",
       "2         1 2013-03-15 18:33:09 -14.447500      -867    4      het   True   \n",
       "3         1 2013-03-15 18:34:09 -14.430833      -866    4      het   True   \n",
       "4         1 2013-03-15 18:35:09 -14.414167      -865    4      het   True   \n",
       "\n",
       "   asleep  \n",
       "0   False  \n",
       "1   False  \n",
       "2   False  \n",
       "3   False  \n",
       "4   False  "
      ]
     },
     "execution_count": 6,
     "metadata": {},
     "output_type": "execute_result"
    }
   ],
   "source": [
    "# Creates a boolean list that records whether a fish is asleep or not based on the sleep definition (1 minute of no activity)\n",
    "sleep = df['activity'] == 0\n",
    "\n",
    "# New collumn that marks whether the fish is asleep for that particular minute\n",
    "df['asleep'] = sleep\n",
    "\n",
    "# Removed activity column from the data set, as it is unnecessary data.\n",
    "df_sleep = df.drop(columns = ['activity'])\n",
    "\n",
    "df_sleep.head()"
   ]
  },
  {
   "cell_type": "code",
   "execution_count": 7,
   "metadata": {},
   "outputs": [],
   "source": [
    "# Now, resample 1 minute periods into 10 minute periods, and check how many minutes the fish are asleep per 10 minute period.\n",
    "grouped = df_sleep.groupby('location')\n",
    "resampler = grouped.resample('10min', on='time')\n",
    "\n",
    "# sum total number of minutes the fish is asleep in a given 10-minute interval.\n",
    "sleep_resampled = resampler.sum()['asleep']"
   ]
  },
  {
   "cell_type": "code",
   "execution_count": 8,
   "metadata": {},
   "outputs": [],
   "source": [
    "# Note: Not all 10 minute intervals have 10 observations.\n",
    "# There are 2 observation points where the observers had to step aside rather than manage observations.\n",
    "\n",
    "# rescaling results based on the number of observations\n",
    "sleep_resampled *= 10/resampler.count()['asleep']\n",
    "\n",
    "# Now reset the index\n",
    "sleep_resampled = sleep_resampled.reset_index()"
   ]
  },
  {
   "cell_type": "code",
   "execution_count": 9,
   "metadata": {},
   "outputs": [
    {
     "data": {
      "text/html": [
       "<div>\n",
       "<style scoped>\n",
       "    .dataframe tbody tr th:only-of-type {\n",
       "        vertical-align: middle;\n",
       "    }\n",
       "\n",
       "    .dataframe tbody tr th {\n",
       "        vertical-align: top;\n",
       "    }\n",
       "\n",
       "    .dataframe thead th {\n",
       "        text-align: right;\n",
       "    }\n",
       "</style>\n",
       "<table border=\"1\" class=\"dataframe\">\n",
       "  <thead>\n",
       "    <tr style=\"text-align: right;\">\n",
       "      <th></th>\n",
       "      <th>location</th>\n",
       "      <th>time</th>\n",
       "      <th>zeit</th>\n",
       "      <th>zeit_ind</th>\n",
       "      <th>day</th>\n",
       "      <th>genotype</th>\n",
       "      <th>light</th>\n",
       "      <th>sleep-mins</th>\n",
       "    </tr>\n",
       "  </thead>\n",
       "  <tbody>\n",
       "    <tr>\n",
       "      <th>0</th>\n",
       "      <td>1</td>\n",
       "      <td>2013-03-15 18:30:00</td>\n",
       "      <td>-14.500000</td>\n",
       "      <td>-869</td>\n",
       "      <td>4</td>\n",
       "      <td>het</td>\n",
       "      <td>True</td>\n",
       "      <td>0.0</td>\n",
       "    </tr>\n",
       "    <tr>\n",
       "      <th>1</th>\n",
       "      <td>1</td>\n",
       "      <td>2013-03-15 18:40:00</td>\n",
       "      <td>-14.333333</td>\n",
       "      <td>-860</td>\n",
       "      <td>4</td>\n",
       "      <td>het</td>\n",
       "      <td>True</td>\n",
       "      <td>8.0</td>\n",
       "    </tr>\n",
       "    <tr>\n",
       "      <th>2</th>\n",
       "      <td>1</td>\n",
       "      <td>2013-03-15 18:50:00</td>\n",
       "      <td>-14.166667</td>\n",
       "      <td>-850</td>\n",
       "      <td>4</td>\n",
       "      <td>het</td>\n",
       "      <td>True</td>\n",
       "      <td>10.0</td>\n",
       "    </tr>\n",
       "    <tr>\n",
       "      <th>3</th>\n",
       "      <td>1</td>\n",
       "      <td>2013-03-15 19:00:00</td>\n",
       "      <td>-14.000000</td>\n",
       "      <td>-840</td>\n",
       "      <td>4</td>\n",
       "      <td>het</td>\n",
       "      <td>True</td>\n",
       "      <td>10.0</td>\n",
       "    </tr>\n",
       "    <tr>\n",
       "      <th>4</th>\n",
       "      <td>1</td>\n",
       "      <td>2013-03-15 19:10:00</td>\n",
       "      <td>-13.833333</td>\n",
       "      <td>-830</td>\n",
       "      <td>4</td>\n",
       "      <td>het</td>\n",
       "      <td>True</td>\n",
       "      <td>10.0</td>\n",
       "    </tr>\n",
       "  </tbody>\n",
       "</table>\n",
       "</div>"
      ],
      "text/plain": [
       "   location                time       zeit  zeit_ind  day genotype  light  \\\n",
       "0         1 2013-03-15 18:30:00 -14.500000      -869    4      het   True   \n",
       "1         1 2013-03-15 18:40:00 -14.333333      -860    4      het   True   \n",
       "2         1 2013-03-15 18:50:00 -14.166667      -850    4      het   True   \n",
       "3         1 2013-03-15 19:00:00 -14.000000      -840    4      het   True   \n",
       "4         1 2013-03-15 19:10:00 -13.833333      -830    4      het   True   \n",
       "\n",
       "   sleep-mins  \n",
       "0         0.0  \n",
       "1         8.0  \n",
       "2        10.0  \n",
       "3        10.0  \n",
       "4        10.0  "
      ]
     },
     "execution_count": 9,
     "metadata": {},
     "output_type": "execute_result"
    }
   ],
   "source": [
    "# Next, get a new Dataframe and resample w/out summation\n",
    "df_sleep_resampled = resampler.first()\n",
    "\n",
    "# Resampling happened on location and time columns, so delete\n",
    "del df_sleep_resampled['time']\n",
    "del df_sleep_resampled['location']\n",
    "\n",
    "# Delete original asleep column\n",
    "del df_sleep_resampled['asleep']\n",
    "\n",
    "# Reset the index so the resampled location/time indices go back to their columns\n",
    "df_sleep_resampled = df_sleep_resampled.reset_index()\n",
    "\n",
    "# Add the resampled sleep minutes within each 10-minute window\n",
    "df_sleep_resampled['sleep-mins'] = sleep_resampled['asleep']\n",
    "\n",
    "# Set the Zeitgeber time\n",
    "zeitgeber_0 = pd.to_datetime('2013-03-16 9:00:00')\n",
    "df_sleep_resampled['zeit'] = (df_sleep_resampled['time'] - zeitgeber_0).dt.total_seconds() / 3600\n",
    "\n",
    "# Take a look! With the zero point set at 9:00:00, the zeit numbers are now tidied up.\n",
    "df_sleep_resampled.head()"
   ]
  },
  {
   "cell_type": "code",
   "execution_count": 10,
   "metadata": {},
   "outputs": [],
   "source": [
    "# Obtain mean amount of sleep-minutes within each 10 minute window for each genotype group.\n",
    "averaged_df_sleep = df_sleep_resampled.groupby( ['genotype','zeit_ind']).mean().reset_index()\n",
    "\n",
    "# delete irrelevant location column\n",
    "del averaged_df_sleep['location']"
   ]
  },
  {
   "cell_type": "code",
   "execution_count": 11,
   "metadata": {},
   "outputs": [
    {
     "data": {
      "application/vnd.vegalite.v3+json": {
       "$schema": "https://vega.github.io/schema/vega-lite/v3.4.0.json",
       "config": {
        "axis": {
         "titleFontSize": 20
        },
        "legend": {
         "labelFontSize": 20,
         "symbolSize": 500,
         "titleFontSize": 20
        },
        "mark": {
         "tooltip": null
        },
        "title": {
         "fontSize": 25
        },
        "view": {
         "height": 300,
         "width": 400
        }
       },
       "data": {
        "name": "data-26d44e802a4f7daba3cc536b3acabf06"
       },
       "datasets": {
        "data-26d44e802a4f7daba3cc536b3acabf06": [
         {
          "day": 4,
          "genotype": "het",
          "light": true,
          "sleep-mins": 7.450980392156862,
          "zeit": -14.5,
          "zeit_ind": -869
         },
         {
          "day": 4,
          "genotype": "het",
          "light": true,
          "sleep-mins": 7.676470588235294,
          "zeit": -14.333333333333327,
          "zeit_ind": -860
         },
         {
          "day": 4,
          "genotype": "het",
          "light": true,
          "sleep-mins": 7.911764705882353,
          "zeit": -14.166666666666673,
          "zeit_ind": -850
         },
         {
          "day": 4,
          "genotype": "het",
          "light": true,
          "sleep-mins": 8.558823529411764,
          "zeit": -14,
          "zeit_ind": -840
         },
         {
          "day": 4,
          "genotype": "het",
          "light": true,
          "sleep-mins": 8.294117647058824,
          "zeit": -13.833333333333327,
          "zeit_ind": -830
         },
         {
          "day": 4,
          "genotype": "het",
          "light": true,
          "sleep-mins": 8.058823529411764,
          "zeit": -13.666666666666673,
          "zeit_ind": -820
         },
         {
          "day": 4,
          "genotype": "het",
          "light": true,
          "sleep-mins": 7.676470588235294,
          "zeit": -13.5,
          "zeit_ind": -810
         },
         {
          "day": 4,
          "genotype": "het",
          "light": true,
          "sleep-mins": 7.588235294117647,
          "zeit": -13.333333333333329,
          "zeit_ind": -800
         },
         {
          "day": 4,
          "genotype": "het",
          "light": true,
          "sleep-mins": 7.411764705882353,
          "zeit": -13.166666666666671,
          "zeit_ind": -790
         },
         {
          "day": 4,
          "genotype": "het",
          "light": true,
          "sleep-mins": 6.970588235294118,
          "zeit": -13,
          "zeit_ind": -780
         },
         {
          "day": 4,
          "genotype": "het",
          "light": true,
          "sleep-mins": 7.4411764705882355,
          "zeit": -12.833333333333329,
          "zeit_ind": -770
         },
         {
          "day": 4,
          "genotype": "het",
          "light": true,
          "sleep-mins": 7.470588235294118,
          "zeit": -12.666666666666671,
          "zeit_ind": -760
         },
         {
          "day": 4,
          "genotype": "het",
          "light": true,
          "sleep-mins": 7.411764705882353,
          "zeit": -12.5,
          "zeit_ind": -750
         },
         {
          "day": 4,
          "genotype": "het",
          "light": true,
          "sleep-mins": 7.5588235294117645,
          "zeit": -12.333333333333329,
          "zeit_ind": -740
         },
         {
          "day": 4,
          "genotype": "het",
          "light": true,
          "sleep-mins": 7.235294117647059,
          "zeit": -12.166666666666671,
          "zeit_ind": -730
         },
         {
          "day": 4,
          "genotype": "het",
          "light": true,
          "sleep-mins": 7.735294117647059,
          "zeit": -12,
          "zeit_ind": -720
         },
         {
          "day": 4,
          "genotype": "het",
          "light": true,
          "sleep-mins": 7.411764705882353,
          "zeit": -11.833333333333329,
          "zeit_ind": -710
         },
         {
          "day": 4,
          "genotype": "het",
          "light": true,
          "sleep-mins": 7.264705882352941,
          "zeit": -11.666666666666671,
          "zeit_ind": -700
         },
         {
          "day": 4,
          "genotype": "het",
          "light": true,
          "sleep-mins": 7.882352941176471,
          "zeit": -11.5,
          "zeit_ind": -690
         },
         {
          "day": 4,
          "genotype": "het",
          "light": true,
          "sleep-mins": 7.588235294117647,
          "zeit": -11.333333333333329,
          "zeit_ind": -680
         },
         {
          "day": 4,
          "genotype": "het",
          "light": true,
          "sleep-mins": 7.5,
          "zeit": -11.166666666666671,
          "zeit_ind": -670
         },
         {
          "day": 4,
          "genotype": "het",
          "light": true,
          "sleep-mins": 7.352941176470588,
          "zeit": -11,
          "zeit_ind": -660
         },
         {
          "day": 4,
          "genotype": "het",
          "light": true,
          "sleep-mins": 7,
          "zeit": -10.833333333333329,
          "zeit_ind": -650
         },
         {
          "day": 4,
          "genotype": "het",
          "light": true,
          "sleep-mins": 6.235294117647059,
          "zeit": -10.66666666666667,
          "zeit_ind": -640
         },
         {
          "day": 4,
          "genotype": "het",
          "light": true,
          "sleep-mins": 7.411764705882353,
          "zeit": -10.5,
          "zeit_ind": -630
         },
         {
          "day": 4,
          "genotype": "het",
          "light": true,
          "sleep-mins": 7.735294117647059,
          "zeit": -10.33333333333333,
          "zeit_ind": -620
         },
         {
          "day": 4,
          "genotype": "het",
          "light": true,
          "sleep-mins": 6.705882352941177,
          "zeit": -10.16666666666667,
          "zeit_ind": -610
         },
         {
          "day": 4,
          "genotype": "het",
          "light": false,
          "sleep-mins": 2.2058823529411766,
          "zeit": -10,
          "zeit_ind": -600
         },
         {
          "day": 4,
          "genotype": "het",
          "light": false,
          "sleep-mins": 7.529411764705882,
          "zeit": -9.833333333333332,
          "zeit_ind": -590
         },
         {
          "day": 4,
          "genotype": "het",
          "light": false,
          "sleep-mins": 6.676470588235294,
          "zeit": -9.666666666666668,
          "zeit_ind": -580
         },
         {
          "day": 4,
          "genotype": "het",
          "light": false,
          "sleep-mins": 6.088235294117647,
          "zeit": -9.5,
          "zeit_ind": -570
         },
         {
          "day": 4,
          "genotype": "het",
          "light": false,
          "sleep-mins": 6.617647058823529,
          "zeit": -9.333333333333332,
          "zeit_ind": -560
         },
         {
          "day": 4,
          "genotype": "het",
          "light": false,
          "sleep-mins": 6.0588235294117645,
          "zeit": -9.166666666666668,
          "zeit_ind": -550
         },
         {
          "day": 4,
          "genotype": "het",
          "light": false,
          "sleep-mins": 6.0588235294117645,
          "zeit": -9.000000000000002,
          "zeit_ind": -540
         },
         {
          "day": 4,
          "genotype": "het",
          "light": false,
          "sleep-mins": 5.352941176470588,
          "zeit": -8.833333333333332,
          "zeit_ind": -530
         },
         {
          "day": 4,
          "genotype": "het",
          "light": false,
          "sleep-mins": 5.323529411764706,
          "zeit": -8.666666666666668,
          "zeit_ind": -520
         },
         {
          "day": 4,
          "genotype": "het",
          "light": false,
          "sleep-mins": 5.911764705882353,
          "zeit": -8.500000000000002,
          "zeit_ind": -510
         },
         {
          "day": 4,
          "genotype": "het",
          "light": false,
          "sleep-mins": 5.5,
          "zeit": -8.333333333333334,
          "zeit_ind": -500
         },
         {
          "day": 4,
          "genotype": "het",
          "light": false,
          "sleep-mins": 5.823529411764706,
          "zeit": -8.166666666666666,
          "zeit_ind": -490
         },
         {
          "day": 4,
          "genotype": "het",
          "light": false,
          "sleep-mins": 6,
          "zeit": -8,
          "zeit_ind": -480
         },
         {
          "day": 4,
          "genotype": "het",
          "light": false,
          "sleep-mins": 6.411764705882353,
          "zeit": -7.833333333333336,
          "zeit_ind": -470
         },
         {
          "day": 4,
          "genotype": "het",
          "light": false,
          "sleep-mins": 6.4411764705882355,
          "zeit": -7.666666666666664,
          "zeit_ind": -460
         },
         {
          "day": 4,
          "genotype": "het",
          "light": false,
          "sleep-mins": 5.382352941176471,
          "zeit": -7.5,
          "zeit_ind": -450
         },
         {
          "day": 4,
          "genotype": "het",
          "light": false,
          "sleep-mins": 5.911764705882353,
          "zeit": -7.333333333333337,
          "zeit_ind": -440
         },
         {
          "day": 4,
          "genotype": "het",
          "light": false,
          "sleep-mins": 5.852941176470588,
          "zeit": -7.166666666666663,
          "zeit_ind": -430
         },
         {
          "day": 4,
          "genotype": "het",
          "light": false,
          "sleep-mins": 5.147058823529412,
          "zeit": -7,
          "zeit_ind": -420
         },
         {
          "day": 4,
          "genotype": "het",
          "light": false,
          "sleep-mins": 6.0588235294117645,
          "zeit": -6.833333333333337,
          "zeit_ind": -410
         },
         {
          "day": 4,
          "genotype": "het",
          "light": false,
          "sleep-mins": 5.5,
          "zeit": -6.666666666666664,
          "zeit_ind": -400
         },
         {
          "day": 4,
          "genotype": "het",
          "light": false,
          "sleep-mins": 5.029411764705882,
          "zeit": -6.5,
          "zeit_ind": -390
         },
         {
          "day": 4,
          "genotype": "het",
          "light": false,
          "sleep-mins": 5.323529411764706,
          "zeit": -6.333333333333336,
          "zeit_ind": -380
         },
         {
          "day": 4,
          "genotype": "het",
          "light": false,
          "sleep-mins": 5.205882352941177,
          "zeit": -6.166666666666664,
          "zeit_ind": -370
         },
         {
          "day": 4,
          "genotype": "het",
          "light": false,
          "sleep-mins": 5.647058823529412,
          "zeit": -6,
          "zeit_ind": -360
         },
         {
          "day": 4,
          "genotype": "het",
          "light": false,
          "sleep-mins": 5.352941176470588,
          "zeit": -5.833333333333336,
          "zeit_ind": -350
         },
         {
          "day": 4,
          "genotype": "het",
          "light": false,
          "sleep-mins": 4.794117647058823,
          "zeit": -5.666666666666664,
          "zeit_ind": -340
         },
         {
          "day": 4,
          "genotype": "het",
          "light": false,
          "sleep-mins": 5.088235294117647,
          "zeit": -5.5,
          "zeit_ind": -330
         },
         {
          "day": 4,
          "genotype": "het",
          "light": false,
          "sleep-mins": 5.764705882352941,
          "zeit": -5.333333333333335,
          "zeit_ind": -320
         },
         {
          "day": 4,
          "genotype": "het",
          "light": false,
          "sleep-mins": 4.794117647058823,
          "zeit": -5.166666666666665,
          "zeit_ind": -310
         },
         {
          "day": 4,
          "genotype": "het",
          "light": false,
          "sleep-mins": 4.705882352941177,
          "zeit": -5,
          "zeit_ind": -300
         },
         {
          "day": 4,
          "genotype": "het",
          "light": false,
          "sleep-mins": 5.676470588235294,
          "zeit": -4.833333333333334,
          "zeit_ind": -290
         },
         {
          "day": 4,
          "genotype": "het",
          "light": false,
          "sleep-mins": 5.088235294117647,
          "zeit": -4.666666666666666,
          "zeit_ind": -280
         },
         {
          "day": 4,
          "genotype": "het",
          "light": false,
          "sleep-mins": 4.647058823529412,
          "zeit": -4.500000000000001,
          "zeit_ind": -270
         },
         {
          "day": 4,
          "genotype": "het",
          "light": false,
          "sleep-mins": 4,
          "zeit": -4.333333333333334,
          "zeit_ind": -260
         },
         {
          "day": 4,
          "genotype": "het",
          "light": false,
          "sleep-mins": 4.764705882352941,
          "zeit": -4.166666666666667,
          "zeit_ind": -250
         },
         {
          "day": 4,
          "genotype": "het",
          "light": false,
          "sleep-mins": 4.764705882352941,
          "zeit": -4,
          "zeit_ind": -240
         },
         {
          "day": 4,
          "genotype": "het",
          "light": false,
          "sleep-mins": 3.411764705882353,
          "zeit": -3.833333333333332,
          "zeit_ind": -230
         },
         {
          "day": 4,
          "genotype": "het",
          "light": false,
          "sleep-mins": 4.264705882352941,
          "zeit": -3.6666666666666683,
          "zeit_ind": -220
         },
         {
          "day": 4,
          "genotype": "het",
          "light": false,
          "sleep-mins": 3.735294117647059,
          "zeit": -3.5,
          "zeit_ind": -210
         },
         {
          "day": 4,
          "genotype": "het",
          "light": false,
          "sleep-mins": 3.9411764705882355,
          "zeit": -3.333333333333332,
          "zeit_ind": -200
         },
         {
          "day": 4,
          "genotype": "het",
          "light": false,
          "sleep-mins": 4.411764705882353,
          "zeit": -3.166666666666668,
          "zeit_ind": -190
         },
         {
          "day": 4,
          "genotype": "het",
          "light": false,
          "sleep-mins": 4.0588235294117645,
          "zeit": -3,
          "zeit_ind": -180
         },
         {
          "day": 4,
          "genotype": "het",
          "light": false,
          "sleep-mins": 4.029411764705882,
          "zeit": -2.833333333333332,
          "zeit_ind": -170
         },
         {
          "day": 4,
          "genotype": "het",
          "light": false,
          "sleep-mins": 4.4411764705882355,
          "zeit": -2.6666666666666674,
          "zeit_ind": -160
         },
         {
          "day": 4,
          "genotype": "het",
          "light": false,
          "sleep-mins": 4.735294117647059,
          "zeit": -2.5,
          "zeit_ind": -150
         },
         {
          "day": 4,
          "genotype": "het",
          "light": false,
          "sleep-mins": 3.6176470588235294,
          "zeit": -2.333333333333333,
          "zeit_ind": -140
         },
         {
          "day": 4,
          "genotype": "het",
          "light": false,
          "sleep-mins": 4.4411764705882355,
          "zeit": -2.166666666666667,
          "zeit_ind": -130
         },
         {
          "day": 4,
          "genotype": "het",
          "light": false,
          "sleep-mins": 4.5,
          "zeit": -2,
          "zeit_ind": -120
         },
         {
          "day": 4,
          "genotype": "het",
          "light": false,
          "sleep-mins": 4.5,
          "zeit": -1.8333333333333341,
          "zeit_ind": -110
         },
         {
          "day": 4,
          "genotype": "het",
          "light": false,
          "sleep-mins": 3.8823529411764706,
          "zeit": -1.666666666666666,
          "zeit_ind": -100
         },
         {
          "day": 4,
          "genotype": "het",
          "light": false,
          "sleep-mins": 4.235294117647059,
          "zeit": -1.5,
          "zeit_ind": -90
         },
         {
          "day": 4,
          "genotype": "het",
          "light": false,
          "sleep-mins": 4.029411764705882,
          "zeit": -1.3333333333333337,
          "zeit_ind": -80
         },
         {
          "day": 4,
          "genotype": "het",
          "light": false,
          "sleep-mins": 3.7941176470588234,
          "zeit": -1.1666666666666665,
          "zeit_ind": -70
         },
         {
          "day": 4,
          "genotype": "het",
          "light": false,
          "sleep-mins": 4.352941176470588,
          "zeit": -1,
          "zeit_ind": -60
         },
         {
          "day": 4,
          "genotype": "het",
          "light": false,
          "sleep-mins": 4.5,
          "zeit": -0.833333333333333,
          "zeit_ind": -50
         },
         {
          "day": 4,
          "genotype": "het",
          "light": false,
          "sleep-mins": 4.176470588235294,
          "zeit": -0.6666666666666669,
          "zeit_ind": -40
         },
         {
          "day": 4,
          "genotype": "het",
          "light": false,
          "sleep-mins": 3.588235294117647,
          "zeit": -0.5,
          "zeit_ind": -30
         },
         {
          "day": 4,
          "genotype": "het",
          "light": false,
          "sleep-mins": 3.4411764705882355,
          "zeit": -0.3333333333333334,
          "zeit_ind": -20
         },
         {
          "day": 4,
          "genotype": "het",
          "light": false,
          "sleep-mins": 3.323529411764706,
          "zeit": -0.1666666666666667,
          "zeit_ind": -10
         },
         {
          "day": 5,
          "genotype": "het",
          "light": true,
          "sleep-mins": 1.1470588235294117,
          "zeit": 0,
          "zeit_ind": 0
         },
         {
          "day": 5,
          "genotype": "het",
          "light": true,
          "sleep-mins": 0.8529411764705882,
          "zeit": 0.1666666666666667,
          "zeit_ind": 10
         },
         {
          "day": 5,
          "genotype": "het",
          "light": true,
          "sleep-mins": 2.0294117647058822,
          "zeit": 0.3333333333333334,
          "zeit_ind": 20
         },
         {
          "day": 5,
          "genotype": "het",
          "light": true,
          "sleep-mins": 2.676470588235294,
          "zeit": 0.5,
          "zeit_ind": 30
         },
         {
          "day": 5,
          "genotype": "het",
          "light": true,
          "sleep-mins": 2.9411764705882355,
          "zeit": 0.6666666666666669,
          "zeit_ind": 40
         },
         {
          "day": 5,
          "genotype": "het",
          "light": true,
          "sleep-mins": 2.7941176470588234,
          "zeit": 0.833333333333333,
          "zeit_ind": 50
         },
         {
          "day": 5,
          "genotype": "het",
          "light": true,
          "sleep-mins": 2.5588235294117645,
          "zeit": 1,
          "zeit_ind": 60
         },
         {
          "day": 5,
          "genotype": "het",
          "light": true,
          "sleep-mins": 2.411764705882353,
          "zeit": 1.1666666666666665,
          "zeit_ind": 70
         },
         {
          "day": 5,
          "genotype": "het",
          "light": true,
          "sleep-mins": 1.7352941176470589,
          "zeit": 1.3333333333333337,
          "zeit_ind": 80
         },
         {
          "day": 5,
          "genotype": "het",
          "light": true,
          "sleep-mins": 1.588235294117647,
          "zeit": 1.5,
          "zeit_ind": 90
         },
         {
          "day": 5,
          "genotype": "het",
          "light": true,
          "sleep-mins": 1.088235294117647,
          "zeit": 1.666666666666666,
          "zeit_ind": 100
         },
         {
          "day": 5,
          "genotype": "het",
          "light": true,
          "sleep-mins": 1.6470588235294117,
          "zeit": 1.8333333333333341,
          "zeit_ind": 110
         },
         {
          "day": 5,
          "genotype": "het",
          "light": true,
          "sleep-mins": 1.588235294117647,
          "zeit": 2,
          "zeit_ind": 120
         },
         {
          "day": 5,
          "genotype": "het",
          "light": true,
          "sleep-mins": 1.4705882352941178,
          "zeit": 2.166666666666667,
          "zeit_ind": 130
         },
         {
          "day": 5,
          "genotype": "het",
          "light": true,
          "sleep-mins": 1.6470588235294117,
          "zeit": 2.333333333333333,
          "zeit_ind": 140
         },
         {
          "day": 5,
          "genotype": "het",
          "light": true,
          "sleep-mins": 0.8823529411764706,
          "zeit": 2.5,
          "zeit_ind": 150
         },
         {
          "day": 5,
          "genotype": "het",
          "light": true,
          "sleep-mins": 0.9411764705882353,
          "zeit": 2.6666666666666674,
          "zeit_ind": 160
         },
         {
          "day": 5,
          "genotype": "het",
          "light": true,
          "sleep-mins": 1.3529411764705883,
          "zeit": 2.833333333333332,
          "zeit_ind": 170
         },
         {
          "day": 5,
          "genotype": "het",
          "light": true,
          "sleep-mins": 1.1470588235294117,
          "zeit": 3,
          "zeit_ind": 180
         },
         {
          "day": 5,
          "genotype": "het",
          "light": true,
          "sleep-mins": 1,
          "zeit": 3.166666666666668,
          "zeit_ind": 190
         },
         {
          "day": 5,
          "genotype": "het",
          "light": true,
          "sleep-mins": 1.1176470588235294,
          "zeit": 3.333333333333332,
          "zeit_ind": 200
         },
         {
          "day": 5,
          "genotype": "het",
          "light": true,
          "sleep-mins": 1.588235294117647,
          "zeit": 3.5,
          "zeit_ind": 210
         },
         {
          "day": 5,
          "genotype": "het",
          "light": true,
          "sleep-mins": 1.1764705882352942,
          "zeit": 3.6666666666666683,
          "zeit_ind": 220
         },
         {
          "day": 5,
          "genotype": "het",
          "light": true,
          "sleep-mins": 0.7352941176470589,
          "zeit": 3.833333333333332,
          "zeit_ind": 230
         },
         {
          "day": 5,
          "genotype": "het",
          "light": true,
          "sleep-mins": 0.8823529411764706,
          "zeit": 4,
          "zeit_ind": 240
         },
         {
          "day": 5,
          "genotype": "het",
          "light": true,
          "sleep-mins": 0.9117647058823529,
          "zeit": 4.166666666666667,
          "zeit_ind": 250
         },
         {
          "day": 5,
          "genotype": "het",
          "light": true,
          "sleep-mins": 0.8823529411764706,
          "zeit": 4.333333333333334,
          "zeit_ind": 260
         },
         {
          "day": 5,
          "genotype": "het",
          "light": true,
          "sleep-mins": 0.6470588235294118,
          "zeit": 4.500000000000001,
          "zeit_ind": 270
         },
         {
          "day": 5,
          "genotype": "het",
          "light": true,
          "sleep-mins": 0.8823529411764706,
          "zeit": 4.666666666666666,
          "zeit_ind": 280
         },
         {
          "day": 5,
          "genotype": "het",
          "light": true,
          "sleep-mins": 0.4411764705882353,
          "zeit": 4.833333333333334,
          "zeit_ind": 290
         },
         {
          "day": 5,
          "genotype": "het",
          "light": true,
          "sleep-mins": 0.5882352941176471,
          "zeit": 5,
          "zeit_ind": 300
         },
         {
          "day": 5,
          "genotype": "het",
          "light": true,
          "sleep-mins": 0.7058823529411765,
          "zeit": 5.166666666666665,
          "zeit_ind": 310
         },
         {
          "day": 5,
          "genotype": "het",
          "light": true,
          "sleep-mins": 0.9117647058823529,
          "zeit": 5.333333333333335,
          "zeit_ind": 320
         },
         {
          "day": 5,
          "genotype": "het",
          "light": true,
          "sleep-mins": 0.6470588235294118,
          "zeit": 5.5,
          "zeit_ind": 330
         },
         {
          "day": 5,
          "genotype": "het",
          "light": true,
          "sleep-mins": 0.6176470588235294,
          "zeit": 5.666666666666664,
          "zeit_ind": 340
         },
         {
          "day": 5,
          "genotype": "het",
          "light": true,
          "sleep-mins": 0.6764705882352942,
          "zeit": 5.833333333333336,
          "zeit_ind": 350
         },
         {
          "day": 5,
          "genotype": "het",
          "light": true,
          "sleep-mins": 0.7941176470588235,
          "zeit": 6,
          "zeit_ind": 360
         },
         {
          "day": 5,
          "genotype": "het",
          "light": true,
          "sleep-mins": 0.5588235294117647,
          "zeit": 6.166666666666664,
          "zeit_ind": 370
         },
         {
          "day": 5,
          "genotype": "het",
          "light": true,
          "sleep-mins": 0.5882352941176471,
          "zeit": 6.333333333333336,
          "zeit_ind": 380
         },
         {
          "day": 5,
          "genotype": "het",
          "light": true,
          "sleep-mins": 0.6176470588235294,
          "zeit": 6.5,
          "zeit_ind": 390
         },
         {
          "day": 5,
          "genotype": "het",
          "light": true,
          "sleep-mins": 0.47058823529411764,
          "zeit": 6.666666666666664,
          "zeit_ind": 400
         },
         {
          "day": 5,
          "genotype": "het",
          "light": true,
          "sleep-mins": 0.7941176470588235,
          "zeit": 6.833333333333337,
          "zeit_ind": 410
         },
         {
          "day": 5,
          "genotype": "het",
          "light": true,
          "sleep-mins": 0.7983193277310924,
          "zeit": 7,
          "zeit_ind": 420
         },
         {
          "day": 5,
          "genotype": "het",
          "light": true,
          "sleep-mins": 1.4705882352941178,
          "zeit": 7.166666666666663,
          "zeit_ind": 431
         },
         {
          "day": 5,
          "genotype": "het",
          "light": true,
          "sleep-mins": 1.6470588235294117,
          "zeit": 7.333333333333337,
          "zeit_ind": 441
         },
         {
          "day": 5,
          "genotype": "het",
          "light": true,
          "sleep-mins": 1.1470588235294117,
          "zeit": 7.5,
          "zeit_ind": 451
         },
         {
          "day": 5,
          "genotype": "het",
          "light": true,
          "sleep-mins": 1.5,
          "zeit": 7.666666666666664,
          "zeit_ind": 461
         },
         {
          "day": 5,
          "genotype": "het",
          "light": true,
          "sleep-mins": 0.9117647058823529,
          "zeit": 7.833333333333336,
          "zeit_ind": 471
         },
         {
          "day": 5,
          "genotype": "het",
          "light": true,
          "sleep-mins": 1.5294117647058822,
          "zeit": 8,
          "zeit_ind": 481
         },
         {
          "day": 5,
          "genotype": "het",
          "light": true,
          "sleep-mins": 1.2352941176470589,
          "zeit": 8.166666666666666,
          "zeit_ind": 491
         },
         {
          "day": 5,
          "genotype": "het",
          "light": true,
          "sleep-mins": 1.3529411764705883,
          "zeit": 8.333333333333334,
          "zeit_ind": 501
         },
         {
          "day": 5,
          "genotype": "het",
          "light": true,
          "sleep-mins": 0.8235294117647058,
          "zeit": 8.500000000000002,
          "zeit_ind": 511
         },
         {
          "day": 5,
          "genotype": "het",
          "light": true,
          "sleep-mins": 0.9411764705882353,
          "zeit": 8.666666666666668,
          "zeit_ind": 521
         },
         {
          "day": 5,
          "genotype": "het",
          "light": true,
          "sleep-mins": 1.3529411764705883,
          "zeit": 8.833333333333332,
          "zeit_ind": 531
         },
         {
          "day": 5,
          "genotype": "het",
          "light": true,
          "sleep-mins": 1.088235294117647,
          "zeit": 9.000000000000002,
          "zeit_ind": 541
         },
         {
          "day": 5,
          "genotype": "het",
          "light": true,
          "sleep-mins": 1.1764705882352942,
          "zeit": 9.166666666666668,
          "zeit_ind": 551
         },
         {
          "day": 5,
          "genotype": "het",
          "light": true,
          "sleep-mins": 1.0588235294117647,
          "zeit": 9.333333333333332,
          "zeit_ind": 561
         },
         {
          "day": 5,
          "genotype": "het",
          "light": true,
          "sleep-mins": 1.1470588235294117,
          "zeit": 9.5,
          "zeit_ind": 571
         },
         {
          "day": 5,
          "genotype": "het",
          "light": true,
          "sleep-mins": 1.3529411764705883,
          "zeit": 9.666666666666668,
          "zeit_ind": 581
         },
         {
          "day": 5,
          "genotype": "het",
          "light": true,
          "sleep-mins": 1.1470588235294117,
          "zeit": 9.833333333333332,
          "zeit_ind": 591
         },
         {
          "day": 5,
          "genotype": "het",
          "light": true,
          "sleep-mins": 1.4705882352941178,
          "zeit": 10,
          "zeit_ind": 601
         },
         {
          "day": 5,
          "genotype": "het",
          "light": true,
          "sleep-mins": 1.5,
          "zeit": 10.16666666666667,
          "zeit_ind": 611
         },
         {
          "day": 5,
          "genotype": "het",
          "light": true,
          "sleep-mins": 1.2352941176470589,
          "zeit": 10.33333333333333,
          "zeit_ind": 621
         },
         {
          "day": 5,
          "genotype": "het",
          "light": true,
          "sleep-mins": 1,
          "zeit": 10.5,
          "zeit_ind": 631
         },
         {
          "day": 5,
          "genotype": "het",
          "light": true,
          "sleep-mins": 1.0294117647058822,
          "zeit": 10.66666666666667,
          "zeit_ind": 641
         },
         {
          "day": 5,
          "genotype": "het",
          "light": true,
          "sleep-mins": 0.9705882352941176,
          "zeit": 10.833333333333329,
          "zeit_ind": 651
         },
         {
          "day": 5,
          "genotype": "het",
          "light": true,
          "sleep-mins": 0.7058823529411765,
          "zeit": 11,
          "zeit_ind": 661
         },
         {
          "day": 5,
          "genotype": "het",
          "light": true,
          "sleep-mins": 1.3823529411764706,
          "zeit": 11.166666666666671,
          "zeit_ind": 671
         },
         {
          "day": 5,
          "genotype": "het",
          "light": true,
          "sleep-mins": 1.2941176470588236,
          "zeit": 11.333333333333329,
          "zeit_ind": 681
         },
         {
          "day": 5,
          "genotype": "het",
          "light": true,
          "sleep-mins": 1.1764705882352942,
          "zeit": 11.5,
          "zeit_ind": 691
         },
         {
          "day": 5,
          "genotype": "het",
          "light": true,
          "sleep-mins": 0.9411764705882353,
          "zeit": 11.666666666666671,
          "zeit_ind": 701
         },
         {
          "day": 5,
          "genotype": "het",
          "light": true,
          "sleep-mins": 1.1470588235294117,
          "zeit": 11.833333333333329,
          "zeit_ind": 711
         },
         {
          "day": 5,
          "genotype": "het",
          "light": true,
          "sleep-mins": 1.1764705882352942,
          "zeit": 12,
          "zeit_ind": 721
         },
         {
          "day": 5,
          "genotype": "het",
          "light": true,
          "sleep-mins": 1.2352941176470589,
          "zeit": 12.166666666666671,
          "zeit_ind": 731
         },
         {
          "day": 5,
          "genotype": "het",
          "light": true,
          "sleep-mins": 1.2058823529411764,
          "zeit": 12.333333333333329,
          "zeit_ind": 741
         },
         {
          "day": 5,
          "genotype": "het",
          "light": true,
          "sleep-mins": 0.7058823529411765,
          "zeit": 12.5,
          "zeit_ind": 751
         },
         {
          "day": 5,
          "genotype": "het",
          "light": true,
          "sleep-mins": 0.6176470588235294,
          "zeit": 12.666666666666671,
          "zeit_ind": 761
         },
         {
          "day": 5,
          "genotype": "het",
          "light": true,
          "sleep-mins": 1.088235294117647,
          "zeit": 12.833333333333329,
          "zeit_ind": 771
         },
         {
          "day": 5,
          "genotype": "het",
          "light": true,
          "sleep-mins": 1.5588235294117647,
          "zeit": 13,
          "zeit_ind": 781
         },
         {
          "day": 5,
          "genotype": "het",
          "light": true,
          "sleep-mins": 1.0294117647058822,
          "zeit": 13.166666666666671,
          "zeit_ind": 791
         },
         {
          "day": 5,
          "genotype": "het",
          "light": true,
          "sleep-mins": 1.6764705882352942,
          "zeit": 13.333333333333329,
          "zeit_ind": 801
         },
         {
          "day": 5,
          "genotype": "het",
          "light": true,
          "sleep-mins": 1.5588235294117647,
          "zeit": 13.5,
          "zeit_ind": 811
         },
         {
          "day": 5,
          "genotype": "het",
          "light": true,
          "sleep-mins": 2.1470588235294117,
          "zeit": 13.666666666666673,
          "zeit_ind": 821
         },
         {
          "day": 5,
          "genotype": "het",
          "light": true,
          "sleep-mins": 1.3235294117647058,
          "zeit": 13.833333333333327,
          "zeit_ind": 831
         },
         {
          "day": 5,
          "genotype": "het",
          "light": false,
          "sleep-mins": 1.2058823529411764,
          "zeit": 14,
          "zeit_ind": 841
         },
         {
          "day": 5,
          "genotype": "het",
          "light": false,
          "sleep-mins": 4.235294117647059,
          "zeit": 14.166666666666673,
          "zeit_ind": 851
         },
         {
          "day": 5,
          "genotype": "het",
          "light": false,
          "sleep-mins": 4.705882352941177,
          "zeit": 14.333333333333327,
          "zeit_ind": 861
         },
         {
          "day": 5,
          "genotype": "het",
          "light": false,
          "sleep-mins": 3.411764705882353,
          "zeit": 14.5,
          "zeit_ind": 871
         },
         {
          "day": 5,
          "genotype": "het",
          "light": false,
          "sleep-mins": 3.764705882352941,
          "zeit": 14.666666666666673,
          "zeit_ind": 881
         },
         {
          "day": 5,
          "genotype": "het",
          "light": false,
          "sleep-mins": 3.6470588235294117,
          "zeit": 14.833333333333327,
          "zeit_ind": 891
         },
         {
          "day": 5,
          "genotype": "het",
          "light": false,
          "sleep-mins": 3.9411764705882355,
          "zeit": 15,
          "zeit_ind": 901
         },
         {
          "day": 5,
          "genotype": "het",
          "light": false,
          "sleep-mins": 3.3529411764705883,
          "zeit": 15.166666666666671,
          "zeit_ind": 911
         },
         {
          "day": 5,
          "genotype": "het",
          "light": false,
          "sleep-mins": 3.911764705882353,
          "zeit": 15.333333333333329,
          "zeit_ind": 921
         },
         {
          "day": 5,
          "genotype": "het",
          "light": false,
          "sleep-mins": 2.1176470588235294,
          "zeit": 15.5,
          "zeit_ind": 931
         },
         {
          "day": 5,
          "genotype": "het",
          "light": false,
          "sleep-mins": 2.7058823529411766,
          "zeit": 15.666666666666671,
          "zeit_ind": 941
         },
         {
          "day": 5,
          "genotype": "het",
          "light": false,
          "sleep-mins": 2.5,
          "zeit": 15.833333333333329,
          "zeit_ind": 951
         },
         {
          "day": 5,
          "genotype": "het",
          "light": false,
          "sleep-mins": 3.5588235294117645,
          "zeit": 16,
          "zeit_ind": 961
         },
         {
          "day": 5,
          "genotype": "het",
          "light": false,
          "sleep-mins": 3.676470588235294,
          "zeit": 16.16666666666667,
          "zeit_ind": 971
         },
         {
          "day": 5,
          "genotype": "het",
          "light": false,
          "sleep-mins": 3.7941176470588234,
          "zeit": 16.333333333333332,
          "zeit_ind": 981
         },
         {
          "day": 5,
          "genotype": "het",
          "light": false,
          "sleep-mins": 4.0588235294117645,
          "zeit": 16.500000000000004,
          "zeit_ind": 991
         },
         {
          "day": 5,
          "genotype": "het",
          "light": false,
          "sleep-mins": 4.088235294117647,
          "zeit": 16.666666666666668,
          "zeit_ind": 1001
         },
         {
          "day": 5,
          "genotype": "het",
          "light": false,
          "sleep-mins": 4.735294117647059,
          "zeit": 16.833333333333332,
          "zeit_ind": 1011
         },
         {
          "day": 5,
          "genotype": "het",
          "light": false,
          "sleep-mins": 3.0294117647058822,
          "zeit": 17.000000000000004,
          "zeit_ind": 1021
         },
         {
          "day": 5,
          "genotype": "het",
          "light": false,
          "sleep-mins": 3.3823529411764706,
          "zeit": 17.166666666666668,
          "zeit_ind": 1031
         },
         {
          "day": 5,
          "genotype": "het",
          "light": false,
          "sleep-mins": 3.823529411764706,
          "zeit": 17.333333333333336,
          "zeit_ind": 1041
         },
         {
          "day": 5,
          "genotype": "het",
          "light": false,
          "sleep-mins": 3.8529411764705883,
          "zeit": 17.500000000000004,
          "zeit_ind": 1051
         },
         {
          "day": 5,
          "genotype": "het",
          "light": false,
          "sleep-mins": 4.147058823529412,
          "zeit": 17.666666666666664,
          "zeit_ind": 1061
         },
         {
          "day": 5,
          "genotype": "het",
          "light": false,
          "sleep-mins": 4.029411764705882,
          "zeit": 17.833333333333336,
          "zeit_ind": 1071
         },
         {
          "day": 5,
          "genotype": "het",
          "light": false,
          "sleep-mins": 4.147058823529412,
          "zeit": 18.000000000000004,
          "zeit_ind": 1081
         },
         {
          "day": 5,
          "genotype": "het",
          "light": false,
          "sleep-mins": 3.5294117647058822,
          "zeit": 18.166666666666664,
          "zeit_ind": 1091
         },
         {
          "day": 5,
          "genotype": "het",
          "light": false,
          "sleep-mins": 3.5588235294117645,
          "zeit": 18.333333333333336,
          "zeit_ind": 1101
         },
         {
          "day": 5,
          "genotype": "het",
          "light": false,
          "sleep-mins": 4.5588235294117645,
          "zeit": 18.5,
          "zeit_ind": 1111
         },
         {
          "day": 5,
          "genotype": "het",
          "light": false,
          "sleep-mins": 3.5,
          "zeit": 18.666666666666664,
          "zeit_ind": 1121
         },
         {
          "day": 5,
          "genotype": "het",
          "light": false,
          "sleep-mins": 3.1176470588235294,
          "zeit": 18.833333333333336,
          "zeit_ind": 1131
         },
         {
          "day": 5,
          "genotype": "het",
          "light": false,
          "sleep-mins": 3.5588235294117645,
          "zeit": 19,
          "zeit_ind": 1141
         },
         {
          "day": 5,
          "genotype": "het",
          "light": false,
          "sleep-mins": 3.6470588235294117,
          "zeit": 19.166666666666664,
          "zeit_ind": 1151
         },
         {
          "day": 5,
          "genotype": "het",
          "light": false,
          "sleep-mins": 3.676470588235294,
          "zeit": 19.333333333333336,
          "zeit_ind": 1161
         },
         {
          "day": 5,
          "genotype": "het",
          "light": false,
          "sleep-mins": 3.6176470588235294,
          "zeit": 19.5,
          "zeit_ind": 1171
         },
         {
          "day": 5,
          "genotype": "het",
          "light": false,
          "sleep-mins": 4.823529411764706,
          "zeit": 19.666666666666664,
          "zeit_ind": 1181
         },
         {
          "day": 5,
          "genotype": "het",
          "light": false,
          "sleep-mins": 4.323529411764706,
          "zeit": 19.83333333333334,
          "zeit_ind": 1191
         },
         {
          "day": 5,
          "genotype": "het",
          "light": false,
          "sleep-mins": 4.176470588235294,
          "zeit": 20,
          "zeit_ind": 1201
         },
         {
          "day": 5,
          "genotype": "het",
          "light": false,
          "sleep-mins": 3.5588235294117645,
          "zeit": 20.16666666666666,
          "zeit_ind": 1211
         },
         {
          "day": 5,
          "genotype": "het",
          "light": false,
          "sleep-mins": 3.3823529411764706,
          "zeit": 20.33333333333334,
          "zeit_ind": 1221
         },
         {
          "day": 5,
          "genotype": "het",
          "light": false,
          "sleep-mins": 3.8529411764705883,
          "zeit": 20.5,
          "zeit_ind": 1231
         },
         {
          "day": 5,
          "genotype": "het",
          "light": false,
          "sleep-mins": 3.2941176470588234,
          "zeit": 20.66666666666666,
          "zeit_ind": 1241
         },
         {
          "day": 5,
          "genotype": "het",
          "light": false,
          "sleep-mins": 3.4705882352941178,
          "zeit": 20.83333333333334,
          "zeit_ind": 1251
         },
         {
          "day": 5,
          "genotype": "het",
          "light": false,
          "sleep-mins": 4.411764705882353,
          "zeit": 21,
          "zeit_ind": 1261
         },
         {
          "day": 5,
          "genotype": "het",
          "light": false,
          "sleep-mins": 3.1470588235294117,
          "zeit": 21.16666666666666,
          "zeit_ind": 1271
         },
         {
          "day": 5,
          "genotype": "het",
          "light": false,
          "sleep-mins": 4.235294117647059,
          "zeit": 21.33333333333334,
          "zeit_ind": 1281
         },
         {
          "day": 5,
          "genotype": "het",
          "light": false,
          "sleep-mins": 4.529411764705882,
          "zeit": 21.5,
          "zeit_ind": 1291
         },
         {
          "day": 5,
          "genotype": "het",
          "light": false,
          "sleep-mins": 3.588235294117647,
          "zeit": 21.666666666666657,
          "zeit_ind": 1301
         },
         {
          "day": 5,
          "genotype": "het",
          "light": false,
          "sleep-mins": 3.176470588235294,
          "zeit": 21.833333333333343,
          "zeit_ind": 1311
         },
         {
          "day": 5,
          "genotype": "het",
          "light": false,
          "sleep-mins": 4.382352941176471,
          "zeit": 22,
          "zeit_ind": 1321
         },
         {
          "day": 5,
          "genotype": "het",
          "light": false,
          "sleep-mins": 4.117647058823529,
          "zeit": 22.166666666666657,
          "zeit_ind": 1331
         },
         {
          "day": 5,
          "genotype": "het",
          "light": false,
          "sleep-mins": 3.735294117647059,
          "zeit": 22.333333333333343,
          "zeit_ind": 1341
         },
         {
          "day": 5,
          "genotype": "het",
          "light": false,
          "sleep-mins": 3.7058823529411766,
          "zeit": 22.5,
          "zeit_ind": 1351
         },
         {
          "day": 5,
          "genotype": "het",
          "light": false,
          "sleep-mins": 3.4411764705882355,
          "zeit": 22.666666666666657,
          "zeit_ind": 1361
         },
         {
          "day": 5,
          "genotype": "het",
          "light": false,
          "sleep-mins": 3.323529411764706,
          "zeit": 22.833333333333343,
          "zeit_ind": 1371
         },
         {
          "day": 5,
          "genotype": "het",
          "light": false,
          "sleep-mins": 4.411764705882353,
          "zeit": 23,
          "zeit_ind": 1381
         },
         {
          "day": 5,
          "genotype": "het",
          "light": false,
          "sleep-mins": 4.735294117647059,
          "zeit": 23.166666666666657,
          "zeit_ind": 1391
         },
         {
          "day": 5,
          "genotype": "het",
          "light": false,
          "sleep-mins": 3.176470588235294,
          "zeit": 23.333333333333343,
          "zeit_ind": 1401
         },
         {
          "day": 5,
          "genotype": "het",
          "light": false,
          "sleep-mins": 3.9705882352941178,
          "zeit": 23.5,
          "zeit_ind": 1411
         },
         {
          "day": 5,
          "genotype": "het",
          "light": false,
          "sleep-mins": 3.9705882352941178,
          "zeit": 23.666666666666657,
          "zeit_ind": 1421
         },
         {
          "day": 5,
          "genotype": "het",
          "light": false,
          "sleep-mins": 3.2058823529411766,
          "zeit": 23.833333333333343,
          "zeit_ind": 1431
         },
         {
          "day": 6,
          "genotype": "het",
          "light": true,
          "sleep-mins": 1.6176470588235294,
          "zeit": 24,
          "zeit_ind": 1441
         },
         {
          "day": 6,
          "genotype": "het",
          "light": true,
          "sleep-mins": 0.20588235294117646,
          "zeit": 24.166666666666657,
          "zeit_ind": 1451
         },
         {
          "day": 6,
          "genotype": "het",
          "light": true,
          "sleep-mins": 0.29411764705882354,
          "zeit": 24.333333333333343,
          "zeit_ind": 1461
         },
         {
          "day": 6,
          "genotype": "het",
          "light": true,
          "sleep-mins": 0.5294117647058824,
          "zeit": 24.5,
          "zeit_ind": 1471
         },
         {
          "day": 6,
          "genotype": "het",
          "light": true,
          "sleep-mins": 0.5882352941176471,
          "zeit": 24.666666666666657,
          "zeit_ind": 1481
         },
         {
          "day": 6,
          "genotype": "het",
          "light": true,
          "sleep-mins": 0.5882352941176471,
          "zeit": 24.833333333333343,
          "zeit_ind": 1491
         },
         {
          "day": 6,
          "genotype": "het",
          "light": true,
          "sleep-mins": 0.7352941176470589,
          "zeit": 25,
          "zeit_ind": 1501
         },
         {
          "day": 6,
          "genotype": "het",
          "light": true,
          "sleep-mins": 0.7647058823529411,
          "zeit": 25.166666666666657,
          "zeit_ind": 1511
         },
         {
          "day": 6,
          "genotype": "het",
          "light": true,
          "sleep-mins": 0.4411764705882353,
          "zeit": 25.333333333333343,
          "zeit_ind": 1521
         },
         {
          "day": 6,
          "genotype": "het",
          "light": true,
          "sleep-mins": 0.8823529411764706,
          "zeit": 25.5,
          "zeit_ind": 1531
         },
         {
          "day": 6,
          "genotype": "het",
          "light": true,
          "sleep-mins": 0.47058823529411764,
          "zeit": 25.666666666666657,
          "zeit_ind": 1541
         },
         {
          "day": 6,
          "genotype": "het",
          "light": true,
          "sleep-mins": 0.47058823529411764,
          "zeit": 25.833333333333343,
          "zeit_ind": 1551
         },
         {
          "day": 6,
          "genotype": "het",
          "light": true,
          "sleep-mins": 0.3235294117647059,
          "zeit": 26,
          "zeit_ind": 1561
         },
         {
          "day": 6,
          "genotype": "het",
          "light": true,
          "sleep-mins": 0.35294117647058826,
          "zeit": 26.166666666666657,
          "zeit_ind": 1571
         },
         {
          "day": 6,
          "genotype": "het",
          "light": true,
          "sleep-mins": 0.2647058823529412,
          "zeit": 26.333333333333343,
          "zeit_ind": 1581
         },
         {
          "day": 6,
          "genotype": "het",
          "light": true,
          "sleep-mins": 0.29411764705882354,
          "zeit": 26.5,
          "zeit_ind": 1591
         },
         {
          "day": 6,
          "genotype": "het",
          "light": true,
          "sleep-mins": 0.2647058823529412,
          "zeit": 26.666666666666657,
          "zeit_ind": 1601
         },
         {
          "day": 6,
          "genotype": "het",
          "light": true,
          "sleep-mins": 0.29411764705882354,
          "zeit": 26.833333333333343,
          "zeit_ind": 1611
         },
         {
          "day": 6,
          "genotype": "het",
          "light": true,
          "sleep-mins": 0.4411764705882353,
          "zeit": 27,
          "zeit_ind": 1621
         },
         {
          "day": 6,
          "genotype": "het",
          "light": true,
          "sleep-mins": 0.11764705882352941,
          "zeit": 27.166666666666654,
          "zeit_ind": 1631
         },
         {
          "day": 6,
          "genotype": "het",
          "light": true,
          "sleep-mins": 0.47058823529411764,
          "zeit": 27.333333333333346,
          "zeit_ind": 1641
         },
         {
          "day": 6,
          "genotype": "het",
          "light": true,
          "sleep-mins": 0.4117647058823529,
          "zeit": 27.5,
          "zeit_ind": 1651
         },
         {
          "day": 6,
          "genotype": "het",
          "light": true,
          "sleep-mins": 0.4117647058823529,
          "zeit": 27.666666666666654,
          "zeit_ind": 1661
         },
         {
          "day": 6,
          "genotype": "het",
          "light": true,
          "sleep-mins": 0.5294117647058824,
          "zeit": 27.833333333333346,
          "zeit_ind": 1671
         },
         {
          "day": 6,
          "genotype": "het",
          "light": true,
          "sleep-mins": 0.4117647058823529,
          "zeit": 28,
          "zeit_ind": 1681
         },
         {
          "day": 6,
          "genotype": "het",
          "light": true,
          "sleep-mins": 0.5,
          "zeit": 28.166666666666654,
          "zeit_ind": 1691
         },
         {
          "day": 6,
          "genotype": "het",
          "light": true,
          "sleep-mins": 0.20588235294117646,
          "zeit": 28.333333333333346,
          "zeit_ind": 1701
         },
         {
          "day": 6,
          "genotype": "het",
          "light": true,
          "sleep-mins": 0.4117647058823529,
          "zeit": 28.5,
          "zeit_ind": 1711
         },
         {
          "day": 6,
          "genotype": "het",
          "light": true,
          "sleep-mins": 0.5,
          "zeit": 28.666666666666654,
          "zeit_ind": 1721
         },
         {
          "day": 6,
          "genotype": "het",
          "light": true,
          "sleep-mins": 0.4117647058823529,
          "zeit": 28.833333333333346,
          "zeit_ind": 1731
         },
         {
          "day": 6,
          "genotype": "het",
          "light": true,
          "sleep-mins": 0.47058823529411764,
          "zeit": 29,
          "zeit_ind": 1741
         },
         {
          "day": 6,
          "genotype": "het",
          "light": true,
          "sleep-mins": 0.5882352941176471,
          "zeit": 29.166666666666654,
          "zeit_ind": 1751
         },
         {
          "day": 6,
          "genotype": "het",
          "light": true,
          "sleep-mins": 0.6470588235294118,
          "zeit": 29.333333333333346,
          "zeit_ind": 1761
         },
         {
          "day": 6,
          "genotype": "het",
          "light": true,
          "sleep-mins": 0.2647058823529412,
          "zeit": 29.5,
          "zeit_ind": 1771
         },
         {
          "day": 6,
          "genotype": "het",
          "light": true,
          "sleep-mins": 0.5,
          "zeit": 29.666666666666654,
          "zeit_ind": 1781
         },
         {
          "day": 6,
          "genotype": "het",
          "light": true,
          "sleep-mins": 0.47058823529411764,
          "zeit": 29.833333333333346,
          "zeit_ind": 1791
         },
         {
          "day": 6,
          "genotype": "het",
          "light": true,
          "sleep-mins": 0.3235294117647059,
          "zeit": 30,
          "zeit_ind": 1801
         },
         {
          "day": 6,
          "genotype": "het",
          "light": true,
          "sleep-mins": 0.08823529411764706,
          "zeit": 30.166666666666657,
          "zeit_ind": 1811
         },
         {
          "day": 6,
          "genotype": "het",
          "light": true,
          "sleep-mins": 0.2647058823529412,
          "zeit": 30.333333333333343,
          "zeit_ind": 1821
         },
         {
          "day": 6,
          "genotype": "het",
          "light": true,
          "sleep-mins": 0.38235294117647056,
          "zeit": 30.5,
          "zeit_ind": 1831
         },
         {
          "day": 6,
          "genotype": "het",
          "light": true,
          "sleep-mins": 0.5882352941176471,
          "zeit": 30.666666666666657,
          "zeit_ind": 1841
         },
         {
          "day": 6,
          "genotype": "het",
          "light": true,
          "sleep-mins": 0.14705882352941177,
          "zeit": 30.833333333333343,
          "zeit_ind": 1851
         },
         {
          "day": 6,
          "genotype": "het",
          "light": true,
          "sleep-mins": 0.4411764705882353,
          "zeit": 31,
          "zeit_ind": 1861
         },
         {
          "day": 6,
          "genotype": "het",
          "light": true,
          "sleep-mins": 0.7058823529411765,
          "zeit": 31.166666666666657,
          "zeit_ind": 1871
         },
         {
          "day": 6,
          "genotype": "het",
          "light": true,
          "sleep-mins": 0.2647058823529412,
          "zeit": 31.333333333333343,
          "zeit_ind": 1881
         },
         {
          "day": 6,
          "genotype": "het",
          "light": true,
          "sleep-mins": 0.2647058823529412,
          "zeit": 31.5,
          "zeit_ind": 1891
         },
         {
          "day": 6,
          "genotype": "het",
          "light": true,
          "sleep-mins": 0.17647058823529413,
          "zeit": 31.666666666666657,
          "zeit_ind": 1901
         },
         {
          "day": 6,
          "genotype": "het",
          "light": true,
          "sleep-mins": 0.4411764705882353,
          "zeit": 31.833333333333343,
          "zeit_ind": 1911
         },
         {
          "day": 6,
          "genotype": "het",
          "light": true,
          "sleep-mins": 0.35294117647058826,
          "zeit": 32,
          "zeit_ind": 1921
         },
         {
          "day": 6,
          "genotype": "het",
          "light": true,
          "sleep-mins": 0.7058823529411765,
          "zeit": 32.16666666666666,
          "zeit_ind": 1931
         },
         {
          "day": 6,
          "genotype": "het",
          "light": true,
          "sleep-mins": 0.38235294117647056,
          "zeit": 32.33333333333334,
          "zeit_ind": 1941
         },
         {
          "day": 6,
          "genotype": "het",
          "light": true,
          "sleep-mins": 0.5882352941176471,
          "zeit": 32.50000000000001,
          "zeit_ind": 1951
         },
         {
          "day": 6,
          "genotype": "het",
          "light": true,
          "sleep-mins": 0.38235294117647056,
          "zeit": 32.666666666666664,
          "zeit_ind": 1961
         },
         {
          "day": 6,
          "genotype": "het",
          "light": true,
          "sleep-mins": 0.2647058823529412,
          "zeit": 32.83333333333334,
          "zeit_ind": 1971
         },
         {
          "day": 6,
          "genotype": "het",
          "light": true,
          "sleep-mins": 0.2647058823529412,
          "zeit": 33.00000000000001,
          "zeit_ind": 1981
         },
         {
          "day": 6,
          "genotype": "het",
          "light": true,
          "sleep-mins": 0.6764705882352942,
          "zeit": 33.166666666666664,
          "zeit_ind": 1991
         },
         {
          "day": 6,
          "genotype": "het",
          "light": true,
          "sleep-mins": 0.5882352941176471,
          "zeit": 33.333333333333336,
          "zeit_ind": 2001
         },
         {
          "day": 6,
          "genotype": "het",
          "light": true,
          "sleep-mins": 0.47058823529411764,
          "zeit": 33.50000000000001,
          "zeit_ind": 2011
         },
         {
          "day": 6,
          "genotype": "het",
          "light": true,
          "sleep-mins": 0.5294117647058824,
          "zeit": 33.666666666666664,
          "zeit_ind": 2021
         },
         {
          "day": 6,
          "genotype": "het",
          "light": true,
          "sleep-mins": 0.6176470588235294,
          "zeit": 33.833333333333336,
          "zeit_ind": 2031
         },
         {
          "day": 6,
          "genotype": "het",
          "light": true,
          "sleep-mins": 0.3235294117647059,
          "zeit": 34.00000000000001,
          "zeit_ind": 2041
         },
         {
          "day": 6,
          "genotype": "het",
          "light": true,
          "sleep-mins": 0.6764705882352942,
          "zeit": 34.16666666666667,
          "zeit_ind": 2051
         },
         {
          "day": 6,
          "genotype": "het",
          "light": true,
          "sleep-mins": 0.5294117647058824,
          "zeit": 34.333333333333336,
          "zeit_ind": 2061
         },
         {
          "day": 6,
          "genotype": "het",
          "light": true,
          "sleep-mins": 0.4411764705882353,
          "zeit": 34.50000000000001,
          "zeit_ind": 2071
         },
         {
          "day": 6,
          "genotype": "het",
          "light": true,
          "sleep-mins": 0.9411764705882353,
          "zeit": 34.66666666666667,
          "zeit_ind": 2081
         },
         {
          "day": 6,
          "genotype": "het",
          "light": true,
          "sleep-mins": 0.38235294117647056,
          "zeit": 34.833333333333336,
          "zeit_ind": 2091
         },
         {
          "day": 6,
          "genotype": "het",
          "light": true,
          "sleep-mins": 0.6764705882352942,
          "zeit": 35.00000000000001,
          "zeit_ind": 2101
         },
         {
          "day": 6,
          "genotype": "het",
          "light": true,
          "sleep-mins": 0.6176470588235294,
          "zeit": 35.16666666666667,
          "zeit_ind": 2111
         },
         {
          "day": 6,
          "genotype": "het",
          "light": true,
          "sleep-mins": 0.5294117647058824,
          "zeit": 35.33333333333333,
          "zeit_ind": 2121
         },
         {
          "day": 6,
          "genotype": "het",
          "light": true,
          "sleep-mins": 0.6470588235294118,
          "zeit": 35.50000000000001,
          "zeit_ind": 2131
         },
         {
          "day": 6,
          "genotype": "het",
          "light": true,
          "sleep-mins": 0.4411764705882353,
          "zeit": 35.66666666666667,
          "zeit_ind": 2141
         },
         {
          "day": 6,
          "genotype": "het",
          "light": true,
          "sleep-mins": 0.6470588235294118,
          "zeit": 35.83333333333333,
          "zeit_ind": 2151
         },
         {
          "day": 6,
          "genotype": "het",
          "light": true,
          "sleep-mins": 0.6764705882352942,
          "zeit": 36.00000000000001,
          "zeit_ind": 2161
         },
         {
          "day": 6,
          "genotype": "het",
          "light": true,
          "sleep-mins": 0.5294117647058824,
          "zeit": 36.16666666666667,
          "zeit_ind": 2171
         },
         {
          "day": 6,
          "genotype": "het",
          "light": true,
          "sleep-mins": 0.38235294117647056,
          "zeit": 36.33333333333333,
          "zeit_ind": 2181
         },
         {
          "day": 6,
          "genotype": "het",
          "light": true,
          "sleep-mins": 0.4411764705882353,
          "zeit": 36.5,
          "zeit_ind": 2191
         },
         {
          "day": 6,
          "genotype": "het",
          "light": true,
          "sleep-mins": 0.9117647058823529,
          "zeit": 36.66666666666667,
          "zeit_ind": 2201
         },
         {
          "day": 6,
          "genotype": "het",
          "light": true,
          "sleep-mins": 0.5588235294117647,
          "zeit": 36.83333333333333,
          "zeit_ind": 2211
         },
         {
          "day": 6,
          "genotype": "het",
          "light": true,
          "sleep-mins": 0.7647058823529411,
          "zeit": 37,
          "zeit_ind": 2221
         },
         {
          "day": 6,
          "genotype": "het",
          "light": true,
          "sleep-mins": 0.8529411764705882,
          "zeit": 37.16666666666667,
          "zeit_ind": 2231
         },
         {
          "day": 6,
          "genotype": "het",
          "light": true,
          "sleep-mins": 0.8235294117647058,
          "zeit": 37.33333333333333,
          "zeit_ind": 2241
         },
         {
          "day": 6,
          "genotype": "het",
          "light": true,
          "sleep-mins": 0.8529411764705882,
          "zeit": 37.5,
          "zeit_ind": 2251
         },
         {
          "day": 6,
          "genotype": "het",
          "light": true,
          "sleep-mins": 0.8823529411764706,
          "zeit": 37.66666666666667,
          "zeit_ind": 2261
         },
         {
          "day": 6,
          "genotype": "het",
          "light": true,
          "sleep-mins": 0.7058823529411765,
          "zeit": 37.83333333333333,
          "zeit_ind": 2271
         },
         {
          "day": 6,
          "genotype": "het",
          "light": false,
          "sleep-mins": 1,
          "zeit": 38,
          "zeit_ind": 2281
         },
         {
          "day": 6,
          "genotype": "het",
          "light": false,
          "sleep-mins": 4,
          "zeit": 38.16666666666667,
          "zeit_ind": 2291
         },
         {
          "day": 6,
          "genotype": "het",
          "light": false,
          "sleep-mins": 3.7941176470588234,
          "zeit": 38.33333333333333,
          "zeit_ind": 2301
         },
         {
          "day": 6,
          "genotype": "het",
          "light": false,
          "sleep-mins": 2.6176470588235294,
          "zeit": 38.5,
          "zeit_ind": 2311
         },
         {
          "day": 6,
          "genotype": "het",
          "light": false,
          "sleep-mins": 2.8529411764705883,
          "zeit": 38.66666666666667,
          "zeit_ind": 2321
         },
         {
          "day": 6,
          "genotype": "het",
          "light": false,
          "sleep-mins": 3.9705882352941178,
          "zeit": 38.83333333333333,
          "zeit_ind": 2331
         },
         {
          "day": 6,
          "genotype": "het",
          "light": false,
          "sleep-mins": 2.6176470588235294,
          "zeit": 39,
          "zeit_ind": 2341
         },
         {
          "day": 6,
          "genotype": "het",
          "light": false,
          "sleep-mins": 2.3529411764705883,
          "zeit": 39.16666666666667,
          "zeit_ind": 2351
         },
         {
          "day": 6,
          "genotype": "het",
          "light": false,
          "sleep-mins": 2.9411764705882355,
          "zeit": 39.33333333333333,
          "zeit_ind": 2361
         },
         {
          "day": 6,
          "genotype": "het",
          "light": false,
          "sleep-mins": 2.9705882352941178,
          "zeit": 39.5,
          "zeit_ind": 2371
         },
         {
          "day": 6,
          "genotype": "het",
          "light": false,
          "sleep-mins": 2.323529411764706,
          "zeit": 39.66666666666668,
          "zeit_ind": 2381
         },
         {
          "day": 6,
          "genotype": "het",
          "light": false,
          "sleep-mins": 2.3529411764705883,
          "zeit": 39.83333333333332,
          "zeit_ind": 2391
         },
         {
          "day": 6,
          "genotype": "het",
          "light": false,
          "sleep-mins": 2.411764705882353,
          "zeit": 40,
          "zeit_ind": 2401
         },
         {
          "day": 6,
          "genotype": "het",
          "light": false,
          "sleep-mins": 2.588235294117647,
          "zeit": 40.16666666666668,
          "zeit_ind": 2411
         },
         {
          "day": 6,
          "genotype": "het",
          "light": false,
          "sleep-mins": 2.8529411764705883,
          "zeit": 40.33333333333332,
          "zeit_ind": 2421
         },
         {
          "day": 6,
          "genotype": "het",
          "light": false,
          "sleep-mins": 3.3823529411764706,
          "zeit": 40.5,
          "zeit_ind": 2431
         },
         {
          "day": 6,
          "genotype": "het",
          "light": false,
          "sleep-mins": 2.9411764705882355,
          "zeit": 40.66666666666668,
          "zeit_ind": 2441
         },
         {
          "day": 6,
          "genotype": "het",
          "light": false,
          "sleep-mins": 3.411764705882353,
          "zeit": 40.83333333333332,
          "zeit_ind": 2451
         },
         {
          "day": 6,
          "genotype": "het",
          "light": false,
          "sleep-mins": 3.5,
          "zeit": 41,
          "zeit_ind": 2461
         },
         {
          "day": 6,
          "genotype": "het",
          "light": false,
          "sleep-mins": 3.0588235294117645,
          "zeit": 41.16666666666668,
          "zeit_ind": 2471
         },
         {
          "day": 6,
          "genotype": "het",
          "light": false,
          "sleep-mins": 3.0294117647058822,
          "zeit": 41.33333333333332,
          "zeit_ind": 2481
         },
         {
          "day": 6,
          "genotype": "het",
          "light": false,
          "sleep-mins": 2.764705882352941,
          "zeit": 41.5,
          "zeit_ind": 2491
         },
         {
          "day": 6,
          "genotype": "het",
          "light": false,
          "sleep-mins": 3.4411764705882355,
          "zeit": 41.66666666666668,
          "zeit_ind": 2501
         },
         {
          "day": 6,
          "genotype": "het",
          "light": false,
          "sleep-mins": 4.147058823529412,
          "zeit": 41.83333333333332,
          "zeit_ind": 2511
         },
         {
          "day": 6,
          "genotype": "het",
          "light": false,
          "sleep-mins": 3.3823529411764706,
          "zeit": 42,
          "zeit_ind": 2521
         },
         {
          "day": 6,
          "genotype": "het",
          "light": false,
          "sleep-mins": 2.3529411764705883,
          "zeit": 42.16666666666668,
          "zeit_ind": 2531
         },
         {
          "day": 6,
          "genotype": "het",
          "light": false,
          "sleep-mins": 3.0588235294117645,
          "zeit": 42.33333333333332,
          "zeit_ind": 2541
         },
         {
          "day": 6,
          "genotype": "het",
          "light": false,
          "sleep-mins": 3.088235294117647,
          "zeit": 42.5,
          "zeit_ind": 2551
         },
         {
          "day": 6,
          "genotype": "het",
          "light": false,
          "sleep-mins": 3.5588235294117645,
          "zeit": 42.66666666666668,
          "zeit_ind": 2561
         },
         {
          "day": 6,
          "genotype": "het",
          "light": false,
          "sleep-mins": 2.823529411764706,
          "zeit": 42.833333333333314,
          "zeit_ind": 2571
         },
         {
          "day": 6,
          "genotype": "het",
          "light": false,
          "sleep-mins": 3.0588235294117645,
          "zeit": 43,
          "zeit_ind": 2581
         },
         {
          "day": 6,
          "genotype": "het",
          "light": false,
          "sleep-mins": 3.088235294117647,
          "zeit": 43.166666666666686,
          "zeit_ind": 2591
         },
         {
          "day": 6,
          "genotype": "het",
          "light": false,
          "sleep-mins": 2.9411764705882355,
          "zeit": 43.333333333333314,
          "zeit_ind": 2601
         },
         {
          "day": 6,
          "genotype": "het",
          "light": false,
          "sleep-mins": 3.3823529411764706,
          "zeit": 43.5,
          "zeit_ind": 2611
         },
         {
          "day": 6,
          "genotype": "het",
          "light": false,
          "sleep-mins": 2.9705882352941178,
          "zeit": 43.666666666666686,
          "zeit_ind": 2621
         },
         {
          "day": 6,
          "genotype": "het",
          "light": false,
          "sleep-mins": 3.4411764705882355,
          "zeit": 43.833333333333314,
          "zeit_ind": 2631
         },
         {
          "day": 6,
          "genotype": "het",
          "light": false,
          "sleep-mins": 3.088235294117647,
          "zeit": 44,
          "zeit_ind": 2641
         },
         {
          "day": 6,
          "genotype": "het",
          "light": false,
          "sleep-mins": 2.8823529411764706,
          "zeit": 44.166666666666686,
          "zeit_ind": 2651
         },
         {
          "day": 6,
          "genotype": "het",
          "light": false,
          "sleep-mins": 3.264705882352941,
          "zeit": 44.333333333333314,
          "zeit_ind": 2661
         },
         {
          "day": 6,
          "genotype": "het",
          "light": false,
          "sleep-mins": 3.176470588235294,
          "zeit": 44.5,
          "zeit_ind": 2671
         },
         {
          "day": 6,
          "genotype": "het",
          "light": false,
          "sleep-mins": 3.676470588235294,
          "zeit": 44.666666666666686,
          "zeit_ind": 2681
         },
         {
          "day": 6,
          "genotype": "het",
          "light": false,
          "sleep-mins": 3.764705882352941,
          "zeit": 44.833333333333314,
          "zeit_ind": 2691
         },
         {
          "day": 6,
          "genotype": "het",
          "light": false,
          "sleep-mins": 3.264705882352941,
          "zeit": 45,
          "zeit_ind": 2701
         },
         {
          "day": 6,
          "genotype": "het",
          "light": false,
          "sleep-mins": 3.176470588235294,
          "zeit": 45.166666666666686,
          "zeit_ind": 2711
         },
         {
          "day": 6,
          "genotype": "het",
          "light": false,
          "sleep-mins": 2.735294117647059,
          "zeit": 45.333333333333314,
          "zeit_ind": 2721
         },
         {
          "day": 6,
          "genotype": "het",
          "light": false,
          "sleep-mins": 2.8823529411764706,
          "zeit": 45.5,
          "zeit_ind": 2731
         },
         {
          "day": 6,
          "genotype": "het",
          "light": false,
          "sleep-mins": 3.235294117647059,
          "zeit": 45.666666666666686,
          "zeit_ind": 2741
         },
         {
          "day": 6,
          "genotype": "het",
          "light": false,
          "sleep-mins": 3.411764705882353,
          "zeit": 45.833333333333314,
          "zeit_ind": 2751
         },
         {
          "day": 6,
          "genotype": "het",
          "light": false,
          "sleep-mins": 3.2058823529411766,
          "zeit": 46,
          "zeit_ind": 2761
         },
         {
          "day": 6,
          "genotype": "het",
          "light": false,
          "sleep-mins": 3.323529411764706,
          "zeit": 46.166666666666686,
          "zeit_ind": 2771
         },
         {
          "day": 6,
          "genotype": "het",
          "light": false,
          "sleep-mins": 2.823529411764706,
          "zeit": 46.333333333333314,
          "zeit_ind": 2781
         },
         {
          "day": 6,
          "genotype": "het",
          "light": false,
          "sleep-mins": 3.3529411764705883,
          "zeit": 46.5,
          "zeit_ind": 2791
         },
         {
          "day": 6,
          "genotype": "het",
          "light": false,
          "sleep-mins": 2.823529411764706,
          "zeit": 46.666666666666686,
          "zeit_ind": 2801
         },
         {
          "day": 6,
          "genotype": "het",
          "light": false,
          "sleep-mins": 2.7058823529411766,
          "zeit": 46.833333333333314,
          "zeit_ind": 2811
         },
         {
          "day": 6,
          "genotype": "het",
          "light": false,
          "sleep-mins": 3.1470588235294117,
          "zeit": 47,
          "zeit_ind": 2821
         },
         {
          "day": 6,
          "genotype": "het",
          "light": false,
          "sleep-mins": 3.264705882352941,
          "zeit": 47.166666666666686,
          "zeit_ind": 2831
         },
         {
          "day": 6,
          "genotype": "het",
          "light": false,
          "sleep-mins": 3.735294117647059,
          "zeit": 47.333333333333314,
          "zeit_ind": 2841
         },
         {
          "day": 6,
          "genotype": "het",
          "light": false,
          "sleep-mins": 3.6176470588235294,
          "zeit": 47.5,
          "zeit_ind": 2851
         },
         {
          "day": 6,
          "genotype": "het",
          "light": false,
          "sleep-mins": 3.235294117647059,
          "zeit": 47.666666666666686,
          "zeit_ind": 2861
         },
         {
          "day": 6,
          "genotype": "het",
          "light": false,
          "sleep-mins": 2.4411764705882355,
          "zeit": 47.833333333333314,
          "zeit_ind": 2871
         },
         {
          "day": 7,
          "genotype": "het",
          "light": true,
          "sleep-mins": 0.6176470588235294,
          "zeit": 48,
          "zeit_ind": 2881
         },
         {
          "day": 7,
          "genotype": "het",
          "light": true,
          "sleep-mins": 0,
          "zeit": 48.166666666666686,
          "zeit_ind": 2891
         },
         {
          "day": 7,
          "genotype": "het",
          "light": true,
          "sleep-mins": 0.058823529411764705,
          "zeit": 48.333333333333314,
          "zeit_ind": 2901
         },
         {
          "day": 7,
          "genotype": "het",
          "light": true,
          "sleep-mins": 0.08823529411764706,
          "zeit": 48.5,
          "zeit_ind": 2911
         },
         {
          "day": 7,
          "genotype": "het",
          "light": true,
          "sleep-mins": 0.058823529411764705,
          "zeit": 48.666666666666686,
          "zeit_ind": 2921
         },
         {
          "day": 7,
          "genotype": "het",
          "light": true,
          "sleep-mins": 0.20588235294117646,
          "zeit": 48.833333333333314,
          "zeit_ind": 2931
         },
         {
          "day": 7,
          "genotype": "het",
          "light": true,
          "sleep-mins": 0.14705882352941177,
          "zeit": 49,
          "zeit_ind": 2941
         },
         {
          "day": 7,
          "genotype": "het",
          "light": true,
          "sleep-mins": 0.23529411764705882,
          "zeit": 49.166666666666686,
          "zeit_ind": 2951
         },
         {
          "day": 7,
          "genotype": "het",
          "light": true,
          "sleep-mins": 0.2647058823529412,
          "zeit": 49.333333333333314,
          "zeit_ind": 2961
         },
         {
          "day": 7,
          "genotype": "het",
          "light": true,
          "sleep-mins": 0.4117647058823529,
          "zeit": 49.5,
          "zeit_ind": 2971
         },
         {
          "day": 7,
          "genotype": "het",
          "light": true,
          "sleep-mins": 0.029411764705882353,
          "zeit": 49.666666666666686,
          "zeit_ind": 2981
         },
         {
          "day": 7,
          "genotype": "het",
          "light": true,
          "sleep-mins": 0.2647058823529412,
          "zeit": 49.833333333333314,
          "zeit_ind": 2991
         },
         {
          "day": 7,
          "genotype": "het",
          "light": true,
          "sleep-mins": 0.14705882352941177,
          "zeit": 50,
          "zeit_ind": 3001
         },
         {
          "day": 7,
          "genotype": "het",
          "light": true,
          "sleep-mins": 0.17647058823529413,
          "zeit": 50.166666666666686,
          "zeit_ind": 3011
         },
         {
          "day": 7,
          "genotype": "het",
          "light": true,
          "sleep-mins": 0.20588235294117646,
          "zeit": 50.333333333333314,
          "zeit_ind": 3021
         },
         {
          "day": 7,
          "genotype": "het",
          "light": true,
          "sleep-mins": 0.17647058823529413,
          "zeit": 50.5,
          "zeit_ind": 3031
         },
         {
          "day": 7,
          "genotype": "het",
          "light": true,
          "sleep-mins": 0.17647058823529413,
          "zeit": 50.666666666666686,
          "zeit_ind": 3041
         },
         {
          "day": 7,
          "genotype": "het",
          "light": true,
          "sleep-mins": 0.23529411764705882,
          "zeit": 50.833333333333314,
          "zeit_ind": 3051
         },
         {
          "day": 7,
          "genotype": "het",
          "light": true,
          "sleep-mins": 0.058823529411764705,
          "zeit": 51,
          "zeit_ind": 3061
         },
         {
          "day": 7,
          "genotype": "het",
          "light": true,
          "sleep-mins": 0.20588235294117646,
          "zeit": 51.166666666666686,
          "zeit_ind": 3071
         },
         {
          "day": 7,
          "genotype": "het",
          "light": true,
          "sleep-mins": 0.20588235294117646,
          "zeit": 51.333333333333314,
          "zeit_ind": 3081
         },
         {
          "day": 7,
          "genotype": "het",
          "light": true,
          "sleep-mins": 0.11029411764705882,
          "zeit": 51.5,
          "zeit_ind": 3091
         },
         {
          "day": 7,
          "genotype": "het",
          "light": true,
          "sleep-mins": 0.36764705882352944,
          "zeit": 51.666666666666686,
          "zeit_ind": 3102
         },
         {
          "day": 7,
          "genotype": "het",
          "light": true,
          "sleep-mins": 0.6764705882352942,
          "zeit": 51.833333333333314,
          "zeit_ind": 3110
         },
         {
          "day": 7,
          "genotype": "het",
          "light": true,
          "sleep-mins": 0.5588235294117647,
          "zeit": 52,
          "zeit_ind": 3120
         },
         {
          "day": 7,
          "genotype": "het",
          "light": true,
          "sleep-mins": 0.29411764705882354,
          "zeit": 52.166666666666686,
          "zeit_ind": 3130
         },
         {
          "day": 7,
          "genotype": "het",
          "light": true,
          "sleep-mins": 0.5,
          "zeit": 52.333333333333314,
          "zeit_ind": 3140
         },
         {
          "day": 7,
          "genotype": "het",
          "light": true,
          "sleep-mins": 0.29411764705882354,
          "zeit": 52.5,
          "zeit_ind": 3150
         },
         {
          "day": 7,
          "genotype": "het",
          "light": true,
          "sleep-mins": 0.7058823529411765,
          "zeit": 52.666666666666686,
          "zeit_ind": 3160
         },
         {
          "day": 7,
          "genotype": "het",
          "light": true,
          "sleep-mins": 0.4117647058823529,
          "zeit": 52.833333333333314,
          "zeit_ind": 3170
         },
         {
          "day": 7,
          "genotype": "het",
          "light": true,
          "sleep-mins": 0.38235294117647056,
          "zeit": 53,
          "zeit_ind": 3180
         },
         {
          "day": 7,
          "genotype": "het",
          "light": true,
          "sleep-mins": 0.4411764705882353,
          "zeit": 53.166666666666686,
          "zeit_ind": 3190
         },
         {
          "day": 7,
          "genotype": "het",
          "light": true,
          "sleep-mins": 0.7647058823529411,
          "zeit": 53.333333333333314,
          "zeit_ind": 3200
         },
         {
          "day": 7,
          "genotype": "het",
          "light": true,
          "sleep-mins": 0.7647058823529411,
          "zeit": 53.5,
          "zeit_ind": 3210
         },
         {
          "day": 7,
          "genotype": "het",
          "light": true,
          "sleep-mins": 0.38235294117647056,
          "zeit": 53.666666666666686,
          "zeit_ind": 3220
         },
         {
          "day": 7,
          "genotype": "het",
          "light": true,
          "sleep-mins": 0.8529411764705882,
          "zeit": 53.833333333333314,
          "zeit_ind": 3230
         },
         {
          "day": 7,
          "genotype": "het",
          "light": true,
          "sleep-mins": 0.4117647058823529,
          "zeit": 54,
          "zeit_ind": 3240
         },
         {
          "day": 7,
          "genotype": "het",
          "light": true,
          "sleep-mins": 0.7352941176470589,
          "zeit": 54.16666666666669,
          "zeit_ind": 3250
         },
         {
          "day": 7,
          "genotype": "het",
          "light": true,
          "sleep-mins": 0.7647058823529411,
          "zeit": 54.33333333333331,
          "zeit_ind": 3260
         },
         {
          "day": 7,
          "genotype": "het",
          "light": true,
          "sleep-mins": 0.47058823529411764,
          "zeit": 54.5,
          "zeit_ind": 3270
         },
         {
          "day": 7,
          "genotype": "het",
          "light": true,
          "sleep-mins": 0.47058823529411764,
          "zeit": 54.66666666666669,
          "zeit_ind": 3280
         },
         {
          "day": 7,
          "genotype": "het",
          "light": true,
          "sleep-mins": 0.4411764705882353,
          "zeit": 54.83333333333331,
          "zeit_ind": 3290
         },
         {
          "day": 7,
          "genotype": "het",
          "light": true,
          "sleep-mins": 0.5,
          "zeit": 55,
          "zeit_ind": 3300
         },
         {
          "day": 7,
          "genotype": "het",
          "light": true,
          "sleep-mins": 0.7941176470588235,
          "zeit": 55.16666666666669,
          "zeit_ind": 3310
         },
         {
          "day": 7,
          "genotype": "het",
          "light": true,
          "sleep-mins": 0.4117647058823529,
          "zeit": 55.33333333333331,
          "zeit_ind": 3320
         },
         {
          "day": 7,
          "genotype": "het",
          "light": true,
          "sleep-mins": 0.5588235294117647,
          "zeit": 55.5,
          "zeit_ind": 3330
         },
         {
          "day": 7,
          "genotype": "het",
          "light": true,
          "sleep-mins": 0.5294117647058824,
          "zeit": 55.66666666666669,
          "zeit_ind": 3340
         },
         {
          "day": 7,
          "genotype": "het",
          "light": true,
          "sleep-mins": 0.8529411764705882,
          "zeit": 55.83333333333331,
          "zeit_ind": 3350
         },
         {
          "day": 7,
          "genotype": "het",
          "light": true,
          "sleep-mins": 0.35294117647058826,
          "zeit": 56,
          "zeit_ind": 3360
         },
         {
          "day": 7,
          "genotype": "het",
          "light": true,
          "sleep-mins": 0.47058823529411764,
          "zeit": 56.16666666666669,
          "zeit_ind": 3370
         },
         {
          "day": 7,
          "genotype": "het",
          "light": true,
          "sleep-mins": 0.7058823529411765,
          "zeit": 56.33333333333331,
          "zeit_ind": 3380
         },
         {
          "day": 7,
          "genotype": "het",
          "light": true,
          "sleep-mins": 0.7058823529411765,
          "zeit": 56.5,
          "zeit_ind": 3390
         },
         {
          "day": 7,
          "genotype": "het",
          "light": true,
          "sleep-mins": 0.5882352941176471,
          "zeit": 56.66666666666669,
          "zeit_ind": 3400
         },
         {
          "day": 7,
          "genotype": "het",
          "light": true,
          "sleep-mins": 0.5,
          "zeit": 56.83333333333331,
          "zeit_ind": 3410
         },
         {
          "day": 7,
          "genotype": "het",
          "light": true,
          "sleep-mins": 0.8823529411764706,
          "zeit": 57,
          "zeit_ind": 3420
         },
         {
          "day": 7,
          "genotype": "het",
          "light": true,
          "sleep-mins": 0.5588235294117647,
          "zeit": 57.16666666666669,
          "zeit_ind": 3430
         },
         {
          "day": 7,
          "genotype": "het",
          "light": true,
          "sleep-mins": 0.9411764705882353,
          "zeit": 57.33333333333331,
          "zeit_ind": 3440
         },
         {
          "day": 7,
          "genotype": "het",
          "light": true,
          "sleep-mins": 0.6176470588235294,
          "zeit": 57.5,
          "zeit_ind": 3450
         },
         {
          "day": 7,
          "genotype": "het",
          "light": true,
          "sleep-mins": 0.5882352941176471,
          "zeit": 57.66666666666669,
          "zeit_ind": 3460
         },
         {
          "day": 7,
          "genotype": "het",
          "light": true,
          "sleep-mins": 0.9117647058823529,
          "zeit": 57.83333333333331,
          "zeit_ind": 3470
         },
         {
          "day": 7,
          "genotype": "het",
          "light": true,
          "sleep-mins": 1.088235294117647,
          "zeit": 58,
          "zeit_ind": 3480
         },
         {
          "day": 7,
          "genotype": "het",
          "light": true,
          "sleep-mins": 0.47058823529411764,
          "zeit": 58.16666666666669,
          "zeit_ind": 3490
         },
         {
          "day": 7,
          "genotype": "het",
          "light": true,
          "sleep-mins": 0.5,
          "zeit": 58.33333333333331,
          "zeit_ind": 3500
         },
         {
          "day": 7,
          "genotype": "het",
          "light": true,
          "sleep-mins": 0.47058823529411764,
          "zeit": 58.5,
          "zeit_ind": 3510
         },
         {
          "day": 7,
          "genotype": "het",
          "light": true,
          "sleep-mins": 0.5294117647058824,
          "zeit": 58.66666666666669,
          "zeit_ind": 3520
         },
         {
          "day": 7,
          "genotype": "het",
          "light": true,
          "sleep-mins": 1.2058823529411764,
          "zeit": 58.83333333333331,
          "zeit_ind": 3530
         },
         {
          "day": 7,
          "genotype": "het",
          "light": true,
          "sleep-mins": 0.8529411764705882,
          "zeit": 59,
          "zeit_ind": 3540
         },
         {
          "day": 7,
          "genotype": "het",
          "light": true,
          "sleep-mins": 0.6470588235294118,
          "zeit": 59.16666666666669,
          "zeit_ind": 3550
         },
         {
          "day": 7,
          "genotype": "het",
          "light": true,
          "sleep-mins": 0.8529411764705882,
          "zeit": 59.33333333333331,
          "zeit_ind": 3560
         },
         {
          "day": 7,
          "genotype": "het",
          "light": true,
          "sleep-mins": 0.8823529411764706,
          "zeit": 59.5,
          "zeit_ind": 3570
         },
         {
          "day": 7,
          "genotype": "het",
          "light": true,
          "sleep-mins": 1.088235294117647,
          "zeit": 59.66666666666669,
          "zeit_ind": 3580
         },
         {
          "day": 7,
          "genotype": "het",
          "light": true,
          "sleep-mins": 1,
          "zeit": 59.83333333333331,
          "zeit_ind": 3590
         },
         {
          "day": 7,
          "genotype": "het",
          "light": true,
          "sleep-mins": 0.7647058823529411,
          "zeit": 60,
          "zeit_ind": 3600
         },
         {
          "day": 7,
          "genotype": "het",
          "light": true,
          "sleep-mins": 0.9117647058823529,
          "zeit": 60.16666666666669,
          "zeit_ind": 3610
         },
         {
          "day": 7,
          "genotype": "het",
          "light": true,
          "sleep-mins": 0.7058823529411765,
          "zeit": 60.333333333333314,
          "zeit_ind": 3620
         },
         {
          "day": 7,
          "genotype": "het",
          "light": true,
          "sleep-mins": 1.5294117647058822,
          "zeit": 60.5,
          "zeit_ind": 3630
         },
         {
          "day": 7,
          "genotype": "het",
          "light": true,
          "sleep-mins": 1,
          "zeit": 60.666666666666686,
          "zeit_ind": 3640
         },
         {
          "day": 7,
          "genotype": "het",
          "light": true,
          "sleep-mins": 0.8235294117647058,
          "zeit": 60.833333333333314,
          "zeit_ind": 3650
         },
         {
          "day": 7,
          "genotype": "het",
          "light": true,
          "sleep-mins": 1.0294117647058822,
          "zeit": 61,
          "zeit_ind": 3660
         },
         {
          "day": 7,
          "genotype": "het",
          "light": true,
          "sleep-mins": 0.9411764705882353,
          "zeit": 61.166666666666686,
          "zeit_ind": 3670
         },
         {
          "day": 7,
          "genotype": "het",
          "light": true,
          "sleep-mins": 0.6470588235294118,
          "zeit": 61.333333333333314,
          "zeit_ind": 3680
         },
         {
          "day": 7,
          "genotype": "het",
          "light": true,
          "sleep-mins": 1.1470588235294117,
          "zeit": 61.5,
          "zeit_ind": 3690
         },
         {
          "day": 7,
          "genotype": "het",
          "light": true,
          "sleep-mins": 1.0588235294117647,
          "zeit": 61.666666666666686,
          "zeit_ind": 3700
         },
         {
          "day": 7,
          "genotype": "het",
          "light": true,
          "sleep-mins": 0.6176470588235294,
          "zeit": 61.833333333333314,
          "zeit_ind": 3710
         },
         {
          "day": 7,
          "genotype": "het",
          "light": false,
          "sleep-mins": 2.0294117647058822,
          "zeit": 62,
          "zeit_ind": 3720
         },
         {
          "day": 7,
          "genotype": "het",
          "light": false,
          "sleep-mins": 5.529411764705882,
          "zeit": 62.166666666666686,
          "zeit_ind": 3730
         },
         {
          "day": 7,
          "genotype": "het",
          "light": false,
          "sleep-mins": 4.382352941176471,
          "zeit": 62.333333333333314,
          "zeit_ind": 3740
         },
         {
          "day": 7,
          "genotype": "het",
          "light": false,
          "sleep-mins": 4.088235294117647,
          "zeit": 62.5,
          "zeit_ind": 3750
         },
         {
          "day": 7,
          "genotype": "het",
          "light": false,
          "sleep-mins": 4.382352941176471,
          "zeit": 62.666666666666686,
          "zeit_ind": 3760
         },
         {
          "day": 7,
          "genotype": "het",
          "light": false,
          "sleep-mins": 4.882352941176471,
          "zeit": 62.833333333333314,
          "zeit_ind": 3770
         },
         {
          "day": 7,
          "genotype": "het",
          "light": false,
          "sleep-mins": 3.735294117647059,
          "zeit": 63,
          "zeit_ind": 3780
         },
         {
          "day": 7,
          "genotype": "het",
          "light": false,
          "sleep-mins": 3.2058823529411766,
          "zeit": 63.166666666666686,
          "zeit_ind": 3790
         },
         {
          "day": 7,
          "genotype": "het",
          "light": false,
          "sleep-mins": 4.382352941176471,
          "zeit": 63.333333333333314,
          "zeit_ind": 3800
         },
         {
          "day": 7,
          "genotype": "het",
          "light": false,
          "sleep-mins": 3.823529411764706,
          "zeit": 63.5,
          "zeit_ind": 3810
         },
         {
          "day": 7,
          "genotype": "het",
          "light": false,
          "sleep-mins": 4.264705882352941,
          "zeit": 63.666666666666686,
          "zeit_ind": 3820
         },
         {
          "day": 7,
          "genotype": "het",
          "light": false,
          "sleep-mins": 3.7058823529411766,
          "zeit": 63.833333333333314,
          "zeit_ind": 3830
         },
         {
          "day": 7,
          "genotype": "het",
          "light": false,
          "sleep-mins": 4.088235294117647,
          "zeit": 64,
          "zeit_ind": 3840
         },
         {
          "day": 7,
          "genotype": "het",
          "light": false,
          "sleep-mins": 4.117647058823529,
          "zeit": 64.16666666666669,
          "zeit_ind": 3850
         },
         {
          "day": 7,
          "genotype": "het",
          "light": false,
          "sleep-mins": 3.4705882352941178,
          "zeit": 64.33333333333331,
          "zeit_ind": 3860
         },
         {
          "day": 7,
          "genotype": "het",
          "light": false,
          "sleep-mins": 4.382352941176471,
          "zeit": 64.5,
          "zeit_ind": 3870
         },
         {
          "day": 7,
          "genotype": "het",
          "light": false,
          "sleep-mins": 4.647058823529412,
          "zeit": 64.66666666666669,
          "zeit_ind": 3880
         },
         {
          "day": 7,
          "genotype": "het",
          "light": false,
          "sleep-mins": 3.676470588235294,
          "zeit": 64.83333333333331,
          "zeit_ind": 3890
         },
         {
          "day": 7,
          "genotype": "het",
          "light": false,
          "sleep-mins": 4.029411764705882,
          "zeit": 65.00000000000001,
          "zeit_ind": 3900
         },
         {
          "day": 7,
          "genotype": "het",
          "light": false,
          "sleep-mins": 4.323529411764706,
          "zeit": 65.16666666666669,
          "zeit_ind": 3910
         },
         {
          "day": 7,
          "genotype": "het",
          "light": false,
          "sleep-mins": 4.529411764705882,
          "zeit": 65.33333333333333,
          "zeit_ind": 3920
         },
         {
          "day": 7,
          "genotype": "het",
          "light": false,
          "sleep-mins": 4.529411764705882,
          "zeit": 65.50000000000001,
          "zeit_ind": 3930
         },
         {
          "day": 7,
          "genotype": "het",
          "light": false,
          "sleep-mins": 4.235294117647059,
          "zeit": 65.66666666666669,
          "zeit_ind": 3940
         },
         {
          "day": 7,
          "genotype": "het",
          "light": false,
          "sleep-mins": 4.647058823529412,
          "zeit": 65.83333333333333,
          "zeit_ind": 3950
         },
         {
          "day": 7,
          "genotype": "het",
          "light": false,
          "sleep-mins": 3.911764705882353,
          "zeit": 66.00000000000001,
          "zeit_ind": 3960
         },
         {
          "day": 7,
          "genotype": "het",
          "light": false,
          "sleep-mins": 2.9411764705882355,
          "zeit": 66.16666666666667,
          "zeit_ind": 3970
         },
         {
          "day": 7,
          "genotype": "het",
          "light": false,
          "sleep-mins": 3.9411764705882355,
          "zeit": 66.33333333333333,
          "zeit_ind": 3980
         },
         {
          "day": 7,
          "genotype": "het",
          "light": false,
          "sleep-mins": 4.323529411764706,
          "zeit": 66.50000000000001,
          "zeit_ind": 3990
         },
         {
          "day": 7,
          "genotype": "het",
          "light": false,
          "sleep-mins": 4.970588235294118,
          "zeit": 66.66666666666667,
          "zeit_ind": 4000
         },
         {
          "day": 7,
          "genotype": "het",
          "light": false,
          "sleep-mins": 3.4705882352941178,
          "zeit": 66.83333333333333,
          "zeit_ind": 4010
         },
         {
          "day": 7,
          "genotype": "het",
          "light": false,
          "sleep-mins": 3.735294117647059,
          "zeit": 67.00000000000001,
          "zeit_ind": 4020
         },
         {
          "day": 7,
          "genotype": "het",
          "light": false,
          "sleep-mins": 3.911764705882353,
          "zeit": 67.16666666666667,
          "zeit_ind": 4030
         },
         {
          "day": 7,
          "genotype": "het",
          "light": false,
          "sleep-mins": 4,
          "zeit": 67.33333333333333,
          "zeit_ind": 4040
         },
         {
          "day": 7,
          "genotype": "het",
          "light": false,
          "sleep-mins": 4.029411764705882,
          "zeit": 67.50000000000001,
          "zeit_ind": 4050
         },
         {
          "day": 7,
          "genotype": "het",
          "light": false,
          "sleep-mins": 3.823529411764706,
          "zeit": 67.66666666666667,
          "zeit_ind": 4060
         },
         {
          "day": 7,
          "genotype": "het",
          "light": false,
          "sleep-mins": 4.176470588235294,
          "zeit": 67.83333333333333,
          "zeit_ind": 4070
         },
         {
          "day": 7,
          "genotype": "het",
          "light": false,
          "sleep-mins": 3,
          "zeit": 68.00000000000001,
          "zeit_ind": 4080
         },
         {
          "day": 7,
          "genotype": "het",
          "light": false,
          "sleep-mins": 4.352941176470588,
          "zeit": 68.16666666666667,
          "zeit_ind": 4090
         },
         {
          "day": 7,
          "genotype": "het",
          "light": false,
          "sleep-mins": 3.411764705882353,
          "zeit": 68.33333333333334,
          "zeit_ind": 4100
         },
         {
          "day": 7,
          "genotype": "het",
          "light": false,
          "sleep-mins": 3.264705882352941,
          "zeit": 68.50000000000001,
          "zeit_ind": 4110
         },
         {
          "day": 7,
          "genotype": "het",
          "light": false,
          "sleep-mins": 3.0588235294117645,
          "zeit": 68.66666666666667,
          "zeit_ind": 4120
         },
         {
          "day": 7,
          "genotype": "het",
          "light": false,
          "sleep-mins": 3.735294117647059,
          "zeit": 68.83333333333334,
          "zeit_ind": 4130
         },
         {
          "day": 7,
          "genotype": "het",
          "light": false,
          "sleep-mins": 4.176470588235294,
          "zeit": 69.00000000000001,
          "zeit_ind": 4140
         },
         {
          "day": 7,
          "genotype": "het",
          "light": false,
          "sleep-mins": 3.735294117647059,
          "zeit": 69.16666666666667,
          "zeit_ind": 4150
         },
         {
          "day": 7,
          "genotype": "het",
          "light": false,
          "sleep-mins": 3.0588235294117645,
          "zeit": 69.33333333333334,
          "zeit_ind": 4160
         },
         {
          "day": 7,
          "genotype": "het",
          "light": false,
          "sleep-mins": 3.911764705882353,
          "zeit": 69.50000000000001,
          "zeit_ind": 4170
         },
         {
          "day": 7,
          "genotype": "het",
          "light": false,
          "sleep-mins": 3.588235294117647,
          "zeit": 69.66666666666667,
          "zeit_ind": 4180
         },
         {
          "day": 7,
          "genotype": "het",
          "light": false,
          "sleep-mins": 2.911764705882353,
          "zeit": 69.83333333333334,
          "zeit_ind": 4190
         },
         {
          "day": 7,
          "genotype": "het",
          "light": false,
          "sleep-mins": 3.1470588235294117,
          "zeit": 70.00000000000001,
          "zeit_ind": 4200
         },
         {
          "day": 7,
          "genotype": "het",
          "light": false,
          "sleep-mins": 2.823529411764706,
          "zeit": 70.16666666666667,
          "zeit_ind": 4210
         },
         {
          "day": 7,
          "genotype": "het",
          "light": false,
          "sleep-mins": 3.1176470588235294,
          "zeit": 70.33333333333334,
          "zeit_ind": 4220
         },
         {
          "day": 7,
          "genotype": "het",
          "light": false,
          "sleep-mins": 4.147058823529412,
          "zeit": 70.50000000000001,
          "zeit_ind": 4230
         },
         {
          "day": 7,
          "genotype": "het",
          "light": false,
          "sleep-mins": 3.7058823529411766,
          "zeit": 70.66666666666666,
          "zeit_ind": 4240
         },
         {
          "day": 7,
          "genotype": "het",
          "light": false,
          "sleep-mins": 4,
          "zeit": 70.83333333333334,
          "zeit_ind": 4250
         },
         {
          "day": 7,
          "genotype": "het",
          "light": false,
          "sleep-mins": 3.4705882352941178,
          "zeit": 71.00000000000001,
          "zeit_ind": 4260
         },
         {
          "day": 7,
          "genotype": "het",
          "light": false,
          "sleep-mins": 3.9705882352941178,
          "zeit": 71.16666666666666,
          "zeit_ind": 4270
         },
         {
          "day": 7,
          "genotype": "het",
          "light": false,
          "sleep-mins": 3.764705882352941,
          "zeit": 71.33333333333334,
          "zeit_ind": 4280
         },
         {
          "day": 7,
          "genotype": "het",
          "light": false,
          "sleep-mins": 3.323529411764706,
          "zeit": 71.50000000000001,
          "zeit_ind": 4290
         },
         {
          "day": 7,
          "genotype": "het",
          "light": false,
          "sleep-mins": 3.5588235294117645,
          "zeit": 71.66666666666666,
          "zeit_ind": 4300
         },
         {
          "day": 7,
          "genotype": "het",
          "light": false,
          "sleep-mins": 3.323529411764706,
          "zeit": 71.83333333333334,
          "zeit_ind": 4310
         },
         {
          "day": 8,
          "genotype": "het",
          "light": true,
          "sleep-mins": 0.7941176470588235,
          "zeit": 72.00000000000001,
          "zeit_ind": 4320
         },
         {
          "day": 8,
          "genotype": "het",
          "light": true,
          "sleep-mins": 0.14705882352941177,
          "zeit": 72.16666666666666,
          "zeit_ind": 4330
         },
         {
          "day": 8,
          "genotype": "het",
          "light": true,
          "sleep-mins": 0,
          "zeit": 72.33333333333334,
          "zeit_ind": 4340
         },
         {
          "day": 8,
          "genotype": "het",
          "light": true,
          "sleep-mins": 0.14705882352941177,
          "zeit": 72.50000000000001,
          "zeit_ind": 4350
         },
         {
          "day": 8,
          "genotype": "het",
          "light": true,
          "sleep-mins": 0.29411764705882354,
          "zeit": 72.66666666666666,
          "zeit_ind": 4360
         },
         {
          "day": 8,
          "genotype": "het",
          "light": true,
          "sleep-mins": 0.2647058823529412,
          "zeit": 72.83333333333334,
          "zeit_ind": 4370
         },
         {
          "day": 8,
          "genotype": "het",
          "light": true,
          "sleep-mins": 0.38235294117647056,
          "zeit": 73,
          "zeit_ind": 4380
         },
         {
          "day": 8,
          "genotype": "het",
          "light": true,
          "sleep-mins": 0.35294117647058826,
          "zeit": 73.16666666666666,
          "zeit_ind": 4390
         },
         {
          "day": 8,
          "genotype": "het",
          "light": true,
          "sleep-mins": 0.4117647058823529,
          "zeit": 73.33333333333334,
          "zeit_ind": 4400
         },
         {
          "day": 8,
          "genotype": "het",
          "light": true,
          "sleep-mins": 0.2647058823529412,
          "zeit": 73.5,
          "zeit_ind": 4410
         },
         {
          "day": 8,
          "genotype": "het",
          "light": true,
          "sleep-mins": 0.3235294117647059,
          "zeit": 73.66666666666666,
          "zeit_ind": 4420
         },
         {
          "day": 8,
          "genotype": "het",
          "light": true,
          "sleep-mins": 0.29411764705882354,
          "zeit": 73.83333333333334,
          "zeit_ind": 4430
         },
         {
          "day": 8,
          "genotype": "het",
          "light": true,
          "sleep-mins": 0.5,
          "zeit": 74,
          "zeit_ind": 4440
         },
         {
          "day": 8,
          "genotype": "het",
          "light": true,
          "sleep-mins": 0.2647058823529412,
          "zeit": 74.16666666666666,
          "zeit_ind": 4450
         },
         {
          "day": 8,
          "genotype": "het",
          "light": true,
          "sleep-mins": 0.3235294117647059,
          "zeit": 74.33333333333334,
          "zeit_ind": 4460
         },
         {
          "day": 8,
          "genotype": "het",
          "light": true,
          "sleep-mins": 0.5882352941176471,
          "zeit": 74.5,
          "zeit_ind": 4470
         },
         {
          "day": 8,
          "genotype": "het",
          "light": true,
          "sleep-mins": 0.17647058823529413,
          "zeit": 74.66666666666666,
          "zeit_ind": 4480
         },
         {
          "day": 8,
          "genotype": "het",
          "light": true,
          "sleep-mins": 0.4411764705882353,
          "zeit": 74.83333333333334,
          "zeit_ind": 4490
         },
         {
          "day": 8,
          "genotype": "het",
          "light": true,
          "sleep-mins": 1.4705882352941178,
          "zeit": 75,
          "zeit_ind": 4500
         },
         {
          "day": 4,
          "genotype": "mut",
          "light": true,
          "sleep-mins": 7.676767676767678,
          "zeit": -14.5,
          "zeit_ind": -869
         },
         {
          "day": 4,
          "genotype": "mut",
          "light": true,
          "sleep-mins": 7.7272727272727275,
          "zeit": -14.333333333333332,
          "zeit_ind": -860
         },
         {
          "day": 4,
          "genotype": "mut",
          "light": true,
          "sleep-mins": 8.363636363636363,
          "zeit": -14.166666666666668,
          "zeit_ind": -850
         },
         {
          "day": 4,
          "genotype": "mut",
          "light": true,
          "sleep-mins": 8.409090909090908,
          "zeit": -14,
          "zeit_ind": -840
         },
         {
          "day": 4,
          "genotype": "mut",
          "light": true,
          "sleep-mins": 8.318181818181818,
          "zeit": -13.833333333333332,
          "zeit_ind": -830
         },
         {
          "day": 4,
          "genotype": "mut",
          "light": true,
          "sleep-mins": 7.5,
          "zeit": -13.666666666666668,
          "zeit_ind": -820
         },
         {
          "day": 4,
          "genotype": "mut",
          "light": true,
          "sleep-mins": 7.954545454545454,
          "zeit": -13.5,
          "zeit_ind": -810
         },
         {
          "day": 4,
          "genotype": "mut",
          "light": true,
          "sleep-mins": 7.454545454545454,
          "zeit": -13.333333333333336,
          "zeit_ind": -800
         },
         {
          "day": 4,
          "genotype": "mut",
          "light": true,
          "sleep-mins": 7.136363636363637,
          "zeit": -13.166666666666664,
          "zeit_ind": -790
         },
         {
          "day": 4,
          "genotype": "mut",
          "light": true,
          "sleep-mins": 7.363636363636363,
          "zeit": -13,
          "zeit_ind": -780
         },
         {
          "day": 4,
          "genotype": "mut",
          "light": true,
          "sleep-mins": 7.7727272727272725,
          "zeit": -12.833333333333336,
          "zeit_ind": -770
         },
         {
          "day": 4,
          "genotype": "mut",
          "light": true,
          "sleep-mins": 7.181818181818182,
          "zeit": -12.666666666666664,
          "zeit_ind": -760
         },
         {
          "day": 4,
          "genotype": "mut",
          "light": true,
          "sleep-mins": 7.181818181818182,
          "zeit": -12.5,
          "zeit_ind": -750
         },
         {
          "day": 4,
          "genotype": "mut",
          "light": true,
          "sleep-mins": 6.7272727272727275,
          "zeit": -12.333333333333336,
          "zeit_ind": -740
         },
         {
          "day": 4,
          "genotype": "mut",
          "light": true,
          "sleep-mins": 6.954545454545454,
          "zeit": -12.166666666666663,
          "zeit_ind": -730
         },
         {
          "day": 4,
          "genotype": "mut",
          "light": true,
          "sleep-mins": 6.636363636363637,
          "zeit": -12,
          "zeit_ind": -720
         },
         {
          "day": 4,
          "genotype": "mut",
          "light": true,
          "sleep-mins": 7.636363636363637,
          "zeit": -11.833333333333337,
          "zeit_ind": -710
         },
         {
          "day": 4,
          "genotype": "mut",
          "light": true,
          "sleep-mins": 6.681818181818182,
          "zeit": -11.666666666666663,
          "zeit_ind": -700
         },
         {
          "day": 4,
          "genotype": "mut",
          "light": true,
          "sleep-mins": 7.454545454545454,
          "zeit": -11.5,
          "zeit_ind": -690
         },
         {
          "day": 4,
          "genotype": "mut",
          "light": true,
          "sleep-mins": 6.318181818181818,
          "zeit": -11.333333333333336,
          "zeit_ind": -680
         },
         {
          "day": 4,
          "genotype": "mut",
          "light": true,
          "sleep-mins": 7.136363636363637,
          "zeit": -11.166666666666664,
          "zeit_ind": -670
         },
         {
          "day": 4,
          "genotype": "mut",
          "light": true,
          "sleep-mins": 7.136363636363637,
          "zeit": -11,
          "zeit_ind": -660
         },
         {
          "day": 4,
          "genotype": "mut",
          "light": true,
          "sleep-mins": 6.409090909090909,
          "zeit": -10.833333333333336,
          "zeit_ind": -650
         },
         {
          "day": 4,
          "genotype": "mut",
          "light": true,
          "sleep-mins": 5.2272727272727275,
          "zeit": -10.666666666666663,
          "zeit_ind": -640
         },
         {
          "day": 4,
          "genotype": "mut",
          "light": true,
          "sleep-mins": 6.863636363636363,
          "zeit": -10.5,
          "zeit_ind": -630
         },
         {
          "day": 4,
          "genotype": "mut",
          "light": true,
          "sleep-mins": 6.363636363636363,
          "zeit": -10.333333333333336,
          "zeit_ind": -620
         },
         {
          "day": 4,
          "genotype": "mut",
          "light": true,
          "sleep-mins": 5.636363636363637,
          "zeit": -10.166666666666664,
          "zeit_ind": -610
         },
         {
          "day": 4,
          "genotype": "mut",
          "light": false,
          "sleep-mins": 1.5,
          "zeit": -10,
          "zeit_ind": -600
         },
         {
          "day": 4,
          "genotype": "mut",
          "light": false,
          "sleep-mins": 6.909090909090909,
          "zeit": -9.833333333333336,
          "zeit_ind": -590
         },
         {
          "day": 4,
          "genotype": "mut",
          "light": false,
          "sleep-mins": 7.136363636363637,
          "zeit": -9.666666666666664,
          "zeit_ind": -580
         },
         {
          "day": 4,
          "genotype": "mut",
          "light": false,
          "sleep-mins": 6.363636363636363,
          "zeit": -9.5,
          "zeit_ind": -570
         },
         {
          "day": 4,
          "genotype": "mut",
          "light": false,
          "sleep-mins": 6.5,
          "zeit": -9.333333333333336,
          "zeit_ind": -560
         },
         {
          "day": 4,
          "genotype": "mut",
          "light": false,
          "sleep-mins": 5.7727272727272725,
          "zeit": -9.166666666666664,
          "zeit_ind": -550
         },
         {
          "day": 4,
          "genotype": "mut",
          "light": false,
          "sleep-mins": 6.5,
          "zeit": -9.000000000000002,
          "zeit_ind": -540
         },
         {
          "day": 4,
          "genotype": "mut",
          "light": false,
          "sleep-mins": 6.045454545454546,
          "zeit": -8.833333333333336,
          "zeit_ind": -530
         },
         {
          "day": 4,
          "genotype": "mut",
          "light": false,
          "sleep-mins": 5.909090909090909,
          "zeit": -8.666666666666666,
          "zeit_ind": -520
         },
         {
          "day": 4,
          "genotype": "mut",
          "light": false,
          "sleep-mins": 5.181818181818182,
          "zeit": -8.500000000000002,
          "zeit_ind": -510
         },
         {
          "day": 4,
          "genotype": "mut",
          "light": false,
          "sleep-mins": 5.363636363636363,
          "zeit": -8.333333333333336,
          "zeit_ind": -500
         },
         {
          "day": 4,
          "genotype": "mut",
          "light": false,
          "sleep-mins": 5.681818181818182,
          "zeit": -8.166666666666666,
          "zeit_ind": -490
         },
         {
          "day": 4,
          "genotype": "mut",
          "light": false,
          "sleep-mins": 5.909090909090909,
          "zeit": -8,
          "zeit_ind": -480
         },
         {
          "day": 4,
          "genotype": "mut",
          "light": false,
          "sleep-mins": 5.318181818181818,
          "zeit": -7.833333333333334,
          "zeit_ind": -470
         },
         {
          "day": 4,
          "genotype": "mut",
          "light": false,
          "sleep-mins": 5.090909090909091,
          "zeit": -7.666666666666666,
          "zeit_ind": -460
         },
         {
          "day": 4,
          "genotype": "mut",
          "light": false,
          "sleep-mins": 6.2272727272727275,
          "zeit": -7.5,
          "zeit_ind": -450
         },
         {
          "day": 4,
          "genotype": "mut",
          "light": false,
          "sleep-mins": 5.409090909090909,
          "zeit": -7.333333333333334,
          "zeit_ind": -440
         },
         {
          "day": 4,
          "genotype": "mut",
          "light": false,
          "sleep-mins": 5.545454545454546,
          "zeit": -7.166666666666666,
          "zeit_ind": -430
         },
         {
          "day": 4,
          "genotype": "mut",
          "light": false,
          "sleep-mins": 4.818181818181818,
          "zeit": -7,
          "zeit_ind": -420
         },
         {
          "day": 4,
          "genotype": "mut",
          "light": false,
          "sleep-mins": 5.454545454545454,
          "zeit": -6.833333333333334,
          "zeit_ind": -410
         },
         {
          "day": 4,
          "genotype": "mut",
          "light": false,
          "sleep-mins": 5.318181818181818,
          "zeit": -6.666666666666668,
          "zeit_ind": -400
         },
         {
          "day": 4,
          "genotype": "mut",
          "light": false,
          "sleep-mins": 5.363636363636363,
          "zeit": -6.5,
          "zeit_ind": -390
         },
         {
          "day": 4,
          "genotype": "mut",
          "light": false,
          "sleep-mins": 5.045454545454546,
          "zeit": -6.333333333333332,
          "zeit_ind": -380
         },
         {
          "day": 4,
          "genotype": "mut",
          "light": false,
          "sleep-mins": 4.681818181818182,
          "zeit": -6.166666666666668,
          "zeit_ind": -370
         },
         {
          "day": 4,
          "genotype": "mut",
          "light": false,
          "sleep-mins": 4.454545454545454,
          "zeit": -6,
          "zeit_ind": -360
         },
         {
          "day": 4,
          "genotype": "mut",
          "light": false,
          "sleep-mins": 5.2272727272727275,
          "zeit": -5.833333333333331,
          "zeit_ind": -350
         },
         {
          "day": 4,
          "genotype": "mut",
          "light": false,
          "sleep-mins": 3.409090909090909,
          "zeit": -5.666666666666668,
          "zeit_ind": -340
         },
         {
          "day": 4,
          "genotype": "mut",
          "light": false,
          "sleep-mins": 4.181818181818182,
          "zeit": -5.5,
          "zeit_ind": -330
         },
         {
          "day": 4,
          "genotype": "mut",
          "light": false,
          "sleep-mins": 4.954545454545454,
          "zeit": -5.333333333333331,
          "zeit_ind": -320
         },
         {
          "day": 4,
          "genotype": "mut",
          "light": false,
          "sleep-mins": 5,
          "zeit": -5.166666666666668,
          "zeit_ind": -310
         },
         {
          "day": 4,
          "genotype": "mut",
          "light": false,
          "sleep-mins": 4.136363636363637,
          "zeit": -5,
          "zeit_ind": -300
         },
         {
          "day": 4,
          "genotype": "mut",
          "light": false,
          "sleep-mins": 5.045454545454546,
          "zeit": -4.833333333333332,
          "zeit_ind": -290
         },
         {
          "day": 4,
          "genotype": "mut",
          "light": false,
          "sleep-mins": 4.5,
          "zeit": -4.666666666666668,
          "zeit_ind": -280
         },
         {
          "day": 4,
          "genotype": "mut",
          "light": false,
          "sleep-mins": 3.772727272727273,
          "zeit": -4.500000000000001,
          "zeit_ind": -270
         },
         {
          "day": 4,
          "genotype": "mut",
          "light": false,
          "sleep-mins": 4.409090909090909,
          "zeit": -4.333333333333333,
          "zeit_ind": -260
         },
         {
          "day": 4,
          "genotype": "mut",
          "light": false,
          "sleep-mins": 4.636363636363637,
          "zeit": -4.166666666666668,
          "zeit_ind": -250
         },
         {
          "day": 4,
          "genotype": "mut",
          "light": false,
          "sleep-mins": 3.1818181818181817,
          "zeit": -4,
          "zeit_ind": -240
         },
         {
          "day": 4,
          "genotype": "mut",
          "light": false,
          "sleep-mins": 3.409090909090909,
          "zeit": -3.833333333333333,
          "zeit_ind": -230
         },
         {
          "day": 4,
          "genotype": "mut",
          "light": false,
          "sleep-mins": 3.590909090909091,
          "zeit": -3.666666666666667,
          "zeit_ind": -220
         },
         {
          "day": 4,
          "genotype": "mut",
          "light": false,
          "sleep-mins": 3.1363636363636362,
          "zeit": -3.5,
          "zeit_ind": -210
         },
         {
          "day": 4,
          "genotype": "mut",
          "light": false,
          "sleep-mins": 2.9545454545454546,
          "zeit": -3.333333333333334,
          "zeit_ind": -200
         },
         {
          "day": 4,
          "genotype": "mut",
          "light": false,
          "sleep-mins": 3.727272727272727,
          "zeit": -3.166666666666666,
          "zeit_ind": -190
         },
         {
          "day": 4,
          "genotype": "mut",
          "light": false,
          "sleep-mins": 3.1363636363636362,
          "zeit": -3,
          "zeit_ind": -180
         },
         {
          "day": 4,
          "genotype": "mut",
          "light": false,
          "sleep-mins": 3.3636363636363638,
          "zeit": -2.833333333333334,
          "zeit_ind": -170
         },
         {
          "day": 4,
          "genotype": "mut",
          "light": false,
          "sleep-mins": 3.3636363636363638,
          "zeit": -2.6666666666666656,
          "zeit_ind": -160
         },
         {
          "day": 4,
          "genotype": "mut",
          "light": false,
          "sleep-mins": 3.227272727272727,
          "zeit": -2.5,
          "zeit_ind": -150
         },
         {
          "day": 4,
          "genotype": "mut",
          "light": false,
          "sleep-mins": 3.1363636363636362,
          "zeit": -2.333333333333334,
          "zeit_ind": -140
         },
         {
          "day": 4,
          "genotype": "mut",
          "light": false,
          "sleep-mins": 3.227272727272727,
          "zeit": -2.1666666666666665,
          "zeit_ind": -130
         },
         {
          "day": 4,
          "genotype": "mut",
          "light": false,
          "sleep-mins": 4.090909090909091,
          "zeit": -2,
          "zeit_ind": -120
         },
         {
          "day": 4,
          "genotype": "mut",
          "light": false,
          "sleep-mins": 3.6363636363636362,
          "zeit": -1.8333333333333335,
          "zeit_ind": -110
         },
         {
          "day": 4,
          "genotype": "mut",
          "light": false,
          "sleep-mins": 3.772727272727273,
          "zeit": -1.666666666666667,
          "zeit_ind": -100
         },
         {
          "day": 4,
          "genotype": "mut",
          "light": false,
          "sleep-mins": 3.4545454545454546,
          "zeit": -1.5,
          "zeit_ind": -90
         },
         {
          "day": 4,
          "genotype": "mut",
          "light": false,
          "sleep-mins": 3.227272727272727,
          "zeit": -1.3333333333333328,
          "zeit_ind": -80
         },
         {
          "day": 4,
          "genotype": "mut",
          "light": false,
          "sleep-mins": 3.5,
          "zeit": -1.166666666666667,
          "zeit_ind": -70
         },
         {
          "day": 4,
          "genotype": "mut",
          "light": false,
          "sleep-mins": 3.3181818181818183,
          "zeit": -1,
          "zeit_ind": -60
         },
         {
          "day": 4,
          "genotype": "mut",
          "light": false,
          "sleep-mins": 3.0454545454545454,
          "zeit": -0.8333333333333335,
          "zeit_ind": -50
         },
         {
          "day": 4,
          "genotype": "mut",
          "light": false,
          "sleep-mins": 4.045454545454546,
          "zeit": -0.6666666666666664,
          "zeit_ind": -40
         },
         {
          "day": 4,
          "genotype": "mut",
          "light": false,
          "sleep-mins": 3.227272727272727,
          "zeit": -0.5,
          "zeit_ind": -30
         },
         {
          "day": 4,
          "genotype": "mut",
          "light": false,
          "sleep-mins": 2.3636363636363638,
          "zeit": -0.3333333333333332,
          "zeit_ind": -20
         },
         {
          "day": 4,
          "genotype": "mut",
          "light": false,
          "sleep-mins": 2.8636363636363638,
          "zeit": -0.1666666666666666,
          "zeit_ind": -10
         },
         {
          "day": 5,
          "genotype": "mut",
          "light": true,
          "sleep-mins": 2.1363636363636362,
          "zeit": 0,
          "zeit_ind": 0
         },
         {
          "day": 5,
          "genotype": "mut",
          "light": true,
          "sleep-mins": 2.1818181818181817,
          "zeit": 0.1666666666666666,
          "zeit_ind": 10
         },
         {
          "day": 5,
          "genotype": "mut",
          "light": true,
          "sleep-mins": 2.3636363636363638,
          "zeit": 0.3333333333333332,
          "zeit_ind": 20
         },
         {
          "day": 5,
          "genotype": "mut",
          "light": true,
          "sleep-mins": 2.8636363636363638,
          "zeit": 0.5,
          "zeit_ind": 30
         },
         {
          "day": 5,
          "genotype": "mut",
          "light": true,
          "sleep-mins": 2.1818181818181817,
          "zeit": 0.6666666666666664,
          "zeit_ind": 40
         },
         {
          "day": 5,
          "genotype": "mut",
          "light": true,
          "sleep-mins": 2.3181818181818183,
          "zeit": 0.8333333333333335,
          "zeit_ind": 50
         },
         {
          "day": 5,
          "genotype": "mut",
          "light": true,
          "sleep-mins": 1.6818181818181819,
          "zeit": 1,
          "zeit_ind": 60
         },
         {
          "day": 5,
          "genotype": "mut",
          "light": true,
          "sleep-mins": 1.9545454545454546,
          "zeit": 1.166666666666667,
          "zeit_ind": 70
         },
         {
          "day": 5,
          "genotype": "mut",
          "light": true,
          "sleep-mins": 2.090909090909091,
          "zeit": 1.3333333333333328,
          "zeit_ind": 80
         },
         {
          "day": 5,
          "genotype": "mut",
          "light": true,
          "sleep-mins": 2.0454545454545454,
          "zeit": 1.5,
          "zeit_ind": 90
         },
         {
          "day": 5,
          "genotype": "mut",
          "light": true,
          "sleep-mins": 1.4090909090909092,
          "zeit": 1.666666666666667,
          "zeit_ind": 100
         },
         {
          "day": 5,
          "genotype": "mut",
          "light": true,
          "sleep-mins": 1.6363636363636365,
          "zeit": 1.8333333333333335,
          "zeit_ind": 110
         },
         {
          "day": 5,
          "genotype": "mut",
          "light": true,
          "sleep-mins": 1.2727272727272727,
          "zeit": 2,
          "zeit_ind": 120
         },
         {
          "day": 5,
          "genotype": "mut",
          "light": true,
          "sleep-mins": 1.3181818181818181,
          "zeit": 2.1666666666666665,
          "zeit_ind": 130
         },
         {
          "day": 5,
          "genotype": "mut",
          "light": true,
          "sleep-mins": 0.5,
          "zeit": 2.333333333333334,
          "zeit_ind": 140
         },
         {
          "day": 5,
          "genotype": "mut",
          "light": true,
          "sleep-mins": 0.5,
          "zeit": 2.5,
          "zeit_ind": 150
         },
         {
          "day": 5,
          "genotype": "mut",
          "light": true,
          "sleep-mins": 0.7272727272727273,
          "zeit": 2.6666666666666656,
          "zeit_ind": 160
         },
         {
          "day": 5,
          "genotype": "mut",
          "light": true,
          "sleep-mins": 0.7272727272727273,
          "zeit": 2.833333333333334,
          "zeit_ind": 170
         },
         {
          "day": 5,
          "genotype": "mut",
          "light": true,
          "sleep-mins": 0.7272727272727273,
          "zeit": 3,
          "zeit_ind": 180
         },
         {
          "day": 5,
          "genotype": "mut",
          "light": true,
          "sleep-mins": 0.8636363636363636,
          "zeit": 3.166666666666666,
          "zeit_ind": 190
         },
         {
          "day": 5,
          "genotype": "mut",
          "light": true,
          "sleep-mins": 0.7727272727272727,
          "zeit": 3.333333333333334,
          "zeit_ind": 200
         },
         {
          "day": 5,
          "genotype": "mut",
          "light": true,
          "sleep-mins": 0.6363636363636364,
          "zeit": 3.5,
          "zeit_ind": 210
         },
         {
          "day": 5,
          "genotype": "mut",
          "light": true,
          "sleep-mins": 0.8636363636363636,
          "zeit": 3.666666666666667,
          "zeit_ind": 220
         },
         {
          "day": 5,
          "genotype": "mut",
          "light": true,
          "sleep-mins": 0.6818181818181818,
          "zeit": 3.833333333333333,
          "zeit_ind": 230
         },
         {
          "day": 5,
          "genotype": "mut",
          "light": true,
          "sleep-mins": 0.6818181818181818,
          "zeit": 4,
          "zeit_ind": 240
         },
         {
          "day": 5,
          "genotype": "mut",
          "light": true,
          "sleep-mins": 0.5454545454545454,
          "zeit": 4.166666666666668,
          "zeit_ind": 250
         },
         {
          "day": 5,
          "genotype": "mut",
          "light": true,
          "sleep-mins": 0.4090909090909091,
          "zeit": 4.333333333333333,
          "zeit_ind": 260
         },
         {
          "day": 5,
          "genotype": "mut",
          "light": true,
          "sleep-mins": 0.9090909090909091,
          "zeit": 4.500000000000001,
          "zeit_ind": 270
         },
         {
          "day": 5,
          "genotype": "mut",
          "light": true,
          "sleep-mins": 0.4090909090909091,
          "zeit": 4.666666666666668,
          "zeit_ind": 280
         },
         {
          "day": 5,
          "genotype": "mut",
          "light": true,
          "sleep-mins": 0.36363636363636365,
          "zeit": 4.833333333333332,
          "zeit_ind": 290
         },
         {
          "day": 5,
          "genotype": "mut",
          "light": true,
          "sleep-mins": 0.4090909090909091,
          "zeit": 5,
          "zeit_ind": 300
         },
         {
          "day": 5,
          "genotype": "mut",
          "light": true,
          "sleep-mins": 0.5909090909090909,
          "zeit": 5.166666666666668,
          "zeit_ind": 310
         },
         {
          "day": 5,
          "genotype": "mut",
          "light": true,
          "sleep-mins": 0.6818181818181818,
          "zeit": 5.333333333333331,
          "zeit_ind": 320
         },
         {
          "day": 5,
          "genotype": "mut",
          "light": true,
          "sleep-mins": 0.5454545454545454,
          "zeit": 5.5,
          "zeit_ind": 330
         },
         {
          "day": 5,
          "genotype": "mut",
          "light": true,
          "sleep-mins": 0.36363636363636365,
          "zeit": 5.666666666666668,
          "zeit_ind": 340
         },
         {
          "day": 5,
          "genotype": "mut",
          "light": true,
          "sleep-mins": 0.5,
          "zeit": 5.833333333333331,
          "zeit_ind": 350
         },
         {
          "day": 5,
          "genotype": "mut",
          "light": true,
          "sleep-mins": 0.18181818181818182,
          "zeit": 6,
          "zeit_ind": 360
         },
         {
          "day": 5,
          "genotype": "mut",
          "light": true,
          "sleep-mins": 0.36363636363636365,
          "zeit": 6.166666666666668,
          "zeit_ind": 370
         },
         {
          "day": 5,
          "genotype": "mut",
          "light": true,
          "sleep-mins": 0.5,
          "zeit": 6.333333333333332,
          "zeit_ind": 380
         },
         {
          "day": 5,
          "genotype": "mut",
          "light": true,
          "sleep-mins": 0.09090909090909091,
          "zeit": 6.5,
          "zeit_ind": 390
         },
         {
          "day": 5,
          "genotype": "mut",
          "light": true,
          "sleep-mins": 0.36363636363636365,
          "zeit": 6.666666666666668,
          "zeit_ind": 400
         },
         {
          "day": 5,
          "genotype": "mut",
          "light": true,
          "sleep-mins": 0.6818181818181818,
          "zeit": 6.833333333333334,
          "zeit_ind": 410
         },
         {
          "day": 5,
          "genotype": "mut",
          "light": true,
          "sleep-mins": 0.5194805194805195,
          "zeit": 7,
          "zeit_ind": 420
         },
         {
          "day": 5,
          "genotype": "mut",
          "light": true,
          "sleep-mins": 0.6818181818181818,
          "zeit": 7.166666666666666,
          "zeit_ind": 431
         },
         {
          "day": 5,
          "genotype": "mut",
          "light": true,
          "sleep-mins": 1.1818181818181819,
          "zeit": 7.333333333333334,
          "zeit_ind": 441
         },
         {
          "day": 5,
          "genotype": "mut",
          "light": true,
          "sleep-mins": 0.9545454545454546,
          "zeit": 7.5,
          "zeit_ind": 451
         },
         {
          "day": 5,
          "genotype": "mut",
          "light": true,
          "sleep-mins": 1.3181818181818181,
          "zeit": 7.666666666666666,
          "zeit_ind": 461
         },
         {
          "day": 5,
          "genotype": "mut",
          "light": true,
          "sleep-mins": 1.0909090909090908,
          "zeit": 7.833333333333334,
          "zeit_ind": 471
         },
         {
          "day": 5,
          "genotype": "mut",
          "light": true,
          "sleep-mins": 0.45454545454545453,
          "zeit": 8,
          "zeit_ind": 481
         },
         {
          "day": 5,
          "genotype": "mut",
          "light": true,
          "sleep-mins": 0.7727272727272727,
          "zeit": 8.166666666666666,
          "zeit_ind": 491
         },
         {
          "day": 5,
          "genotype": "mut",
          "light": true,
          "sleep-mins": 1.2272727272727273,
          "zeit": 8.333333333333336,
          "zeit_ind": 501
         },
         {
          "day": 5,
          "genotype": "mut",
          "light": true,
          "sleep-mins": 1.5454545454545454,
          "zeit": 8.500000000000002,
          "zeit_ind": 511
         },
         {
          "day": 5,
          "genotype": "mut",
          "light": true,
          "sleep-mins": 0.7272727272727273,
          "zeit": 8.666666666666666,
          "zeit_ind": 521
         },
         {
          "day": 5,
          "genotype": "mut",
          "light": true,
          "sleep-mins": 0.8181818181818182,
          "zeit": 8.833333333333336,
          "zeit_ind": 531
         },
         {
          "day": 5,
          "genotype": "mut",
          "light": true,
          "sleep-mins": 1.0454545454545454,
          "zeit": 9.000000000000002,
          "zeit_ind": 541
         },
         {
          "day": 5,
          "genotype": "mut",
          "light": true,
          "sleep-mins": 0.6818181818181818,
          "zeit": 9.166666666666664,
          "zeit_ind": 551
         },
         {
          "day": 5,
          "genotype": "mut",
          "light": true,
          "sleep-mins": 0.5454545454545454,
          "zeit": 9.333333333333336,
          "zeit_ind": 561
         },
         {
          "day": 5,
          "genotype": "mut",
          "light": true,
          "sleep-mins": 0.5454545454545454,
          "zeit": 9.5,
          "zeit_ind": 571
         },
         {
          "day": 5,
          "genotype": "mut",
          "light": true,
          "sleep-mins": 1.0909090909090908,
          "zeit": 9.666666666666664,
          "zeit_ind": 581
         },
         {
          "day": 5,
          "genotype": "mut",
          "light": true,
          "sleep-mins": 0.6363636363636364,
          "zeit": 9.833333333333336,
          "zeit_ind": 591
         },
         {
          "day": 5,
          "genotype": "mut",
          "light": true,
          "sleep-mins": 0.6818181818181818,
          "zeit": 10,
          "zeit_ind": 601
         },
         {
          "day": 5,
          "genotype": "mut",
          "light": true,
          "sleep-mins": 0.5909090909090909,
          "zeit": 10.166666666666664,
          "zeit_ind": 611
         },
         {
          "day": 5,
          "genotype": "mut",
          "light": true,
          "sleep-mins": 0.8636363636363636,
          "zeit": 10.333333333333336,
          "zeit_ind": 621
         },
         {
          "day": 5,
          "genotype": "mut",
          "light": true,
          "sleep-mins": 0.7727272727272727,
          "zeit": 10.5,
          "zeit_ind": 631
         },
         {
          "day": 5,
          "genotype": "mut",
          "light": true,
          "sleep-mins": 0.5454545454545454,
          "zeit": 10.666666666666663,
          "zeit_ind": 641
         },
         {
          "day": 5,
          "genotype": "mut",
          "light": true,
          "sleep-mins": 0.8181818181818182,
          "zeit": 10.833333333333336,
          "zeit_ind": 651
         },
         {
          "day": 5,
          "genotype": "mut",
          "light": true,
          "sleep-mins": 0.22727272727272727,
          "zeit": 11,
          "zeit_ind": 661
         },
         {
          "day": 5,
          "genotype": "mut",
          "light": true,
          "sleep-mins": 1,
          "zeit": 11.166666666666664,
          "zeit_ind": 671
         },
         {
          "day": 5,
          "genotype": "mut",
          "light": true,
          "sleep-mins": 1.3181818181818181,
          "zeit": 11.333333333333336,
          "zeit_ind": 681
         },
         {
          "day": 5,
          "genotype": "mut",
          "light": true,
          "sleep-mins": 0.36363636363636365,
          "zeit": 11.5,
          "zeit_ind": 691
         },
         {
          "day": 5,
          "genotype": "mut",
          "light": true,
          "sleep-mins": 0.4090909090909091,
          "zeit": 11.666666666666663,
          "zeit_ind": 701
         },
         {
          "day": 5,
          "genotype": "mut",
          "light": true,
          "sleep-mins": 1,
          "zeit": 11.833333333333337,
          "zeit_ind": 711
         },
         {
          "day": 5,
          "genotype": "mut",
          "light": true,
          "sleep-mins": 0.45454545454545453,
          "zeit": 12,
          "zeit_ind": 721
         },
         {
          "day": 5,
          "genotype": "mut",
          "light": true,
          "sleep-mins": 0.36363636363636365,
          "zeit": 12.166666666666663,
          "zeit_ind": 731
         },
         {
          "day": 5,
          "genotype": "mut",
          "light": true,
          "sleep-mins": 1.0454545454545454,
          "zeit": 12.333333333333336,
          "zeit_ind": 741
         },
         {
          "day": 5,
          "genotype": "mut",
          "light": true,
          "sleep-mins": 0.9090909090909091,
          "zeit": 12.5,
          "zeit_ind": 751
         },
         {
          "day": 5,
          "genotype": "mut",
          "light": true,
          "sleep-mins": 0.22727272727272727,
          "zeit": 12.666666666666664,
          "zeit_ind": 761
         },
         {
          "day": 5,
          "genotype": "mut",
          "light": true,
          "sleep-mins": 0.36363636363636365,
          "zeit": 12.833333333333336,
          "zeit_ind": 771
         },
         {
          "day": 5,
          "genotype": "mut",
          "light": true,
          "sleep-mins": 0.22727272727272727,
          "zeit": 13,
          "zeit_ind": 781
         },
         {
          "day": 5,
          "genotype": "mut",
          "light": true,
          "sleep-mins": 0.36363636363636365,
          "zeit": 13.166666666666664,
          "zeit_ind": 791
         },
         {
          "day": 5,
          "genotype": "mut",
          "light": true,
          "sleep-mins": 0.8181818181818182,
          "zeit": 13.333333333333336,
          "zeit_ind": 801
         },
         {
          "day": 5,
          "genotype": "mut",
          "light": true,
          "sleep-mins": 0.45454545454545453,
          "zeit": 13.5,
          "zeit_ind": 811
         },
         {
          "day": 5,
          "genotype": "mut",
          "light": true,
          "sleep-mins": 0.5454545454545454,
          "zeit": 13.666666666666668,
          "zeit_ind": 821
         },
         {
          "day": 5,
          "genotype": "mut",
          "light": true,
          "sleep-mins": 0.9090909090909091,
          "zeit": 13.833333333333332,
          "zeit_ind": 831
         },
         {
          "day": 5,
          "genotype": "mut",
          "light": false,
          "sleep-mins": 0.5,
          "zeit": 14,
          "zeit_ind": 841
         },
         {
          "day": 5,
          "genotype": "mut",
          "light": false,
          "sleep-mins": 1.0909090909090908,
          "zeit": 14.166666666666668,
          "zeit_ind": 851
         },
         {
          "day": 5,
          "genotype": "mut",
          "light": false,
          "sleep-mins": 2,
          "zeit": 14.333333333333332,
          "zeit_ind": 861
         },
         {
          "day": 5,
          "genotype": "mut",
          "light": false,
          "sleep-mins": 3,
          "zeit": 14.5,
          "zeit_ind": 871
         },
         {
          "day": 5,
          "genotype": "mut",
          "light": false,
          "sleep-mins": 2.772727272727273,
          "zeit": 14.666666666666668,
          "zeit_ind": 881
         },
         {
          "day": 5,
          "genotype": "mut",
          "light": false,
          "sleep-mins": 2.227272727272727,
          "zeit": 14.833333333333332,
          "zeit_ind": 891
         },
         {
          "day": 5,
          "genotype": "mut",
          "light": false,
          "sleep-mins": 1.0454545454545454,
          "zeit": 15,
          "zeit_ind": 901
         },
         {
          "day": 5,
          "genotype": "mut",
          "light": false,
          "sleep-mins": 1.2727272727272727,
          "zeit": 15.166666666666668,
          "zeit_ind": 911
         },
         {
          "day": 5,
          "genotype": "mut",
          "light": false,
          "sleep-mins": 1.0909090909090908,
          "zeit": 15.333333333333332,
          "zeit_ind": 921
         },
         {
          "day": 5,
          "genotype": "mut",
          "light": false,
          "sleep-mins": 1.2272727272727273,
          "zeit": 15.5,
          "zeit_ind": 931
         },
         {
          "day": 5,
          "genotype": "mut",
          "light": false,
          "sleep-mins": 1.7727272727272727,
          "zeit": 15.666666666666668,
          "zeit_ind": 941
         },
         {
          "day": 5,
          "genotype": "mut",
          "light": false,
          "sleep-mins": 2.0454545454545454,
          "zeit": 15.833333333333332,
          "zeit_ind": 951
         },
         {
          "day": 5,
          "genotype": "mut",
          "light": false,
          "sleep-mins": 1.3636363636363635,
          "zeit": 16,
          "zeit_ind": 961
         },
         {
          "day": 5,
          "genotype": "mut",
          "light": false,
          "sleep-mins": 2.409090909090909,
          "zeit": 16.16666666666667,
          "zeit_ind": 971
         },
         {
          "day": 5,
          "genotype": "mut",
          "light": false,
          "sleep-mins": 1.6363636363636365,
          "zeit": 16.333333333333332,
          "zeit_ind": 981
         },
         {
          "day": 5,
          "genotype": "mut",
          "light": false,
          "sleep-mins": 2.3181818181818183,
          "zeit": 16.500000000000004,
          "zeit_ind": 991
         },
         {
          "day": 5,
          "genotype": "mut",
          "light": false,
          "sleep-mins": 1.4545454545454546,
          "zeit": 16.66666666666667,
          "zeit_ind": 1001
         },
         {
          "day": 5,
          "genotype": "mut",
          "light": false,
          "sleep-mins": 1.5909090909090908,
          "zeit": 16.833333333333332,
          "zeit_ind": 1011
         },
         {
          "day": 5,
          "genotype": "mut",
          "light": false,
          "sleep-mins": 2.409090909090909,
          "zeit": 17.000000000000004,
          "zeit_ind": 1021
         },
         {
          "day": 5,
          "genotype": "mut",
          "light": false,
          "sleep-mins": 1.5,
          "zeit": 17.16666666666667,
          "zeit_ind": 1031
         },
         {
          "day": 5,
          "genotype": "mut",
          "light": false,
          "sleep-mins": 1.8181818181818181,
          "zeit": 17.333333333333332,
          "zeit_ind": 1041
         },
         {
          "day": 5,
          "genotype": "mut",
          "light": false,
          "sleep-mins": 2.5454545454545454,
          "zeit": 17.500000000000004,
          "zeit_ind": 1051
         },
         {
          "day": 5,
          "genotype": "mut",
          "light": false,
          "sleep-mins": 1.9090909090909092,
          "zeit": 17.66666666666667,
          "zeit_ind": 1061
         },
         {
          "day": 5,
          "genotype": "mut",
          "light": false,
          "sleep-mins": 1.5454545454545454,
          "zeit": 17.833333333333332,
          "zeit_ind": 1071
         },
         {
          "day": 5,
          "genotype": "mut",
          "light": false,
          "sleep-mins": 1.9545454545454546,
          "zeit": 18.000000000000004,
          "zeit_ind": 1081
         },
         {
          "day": 5,
          "genotype": "mut",
          "light": false,
          "sleep-mins": 1.8636363636363635,
          "zeit": 18.16666666666667,
          "zeit_ind": 1091
         },
         {
          "day": 5,
          "genotype": "mut",
          "light": false,
          "sleep-mins": 2.8181818181818183,
          "zeit": 18.33333333333333,
          "zeit_ind": 1101
         },
         {
          "day": 5,
          "genotype": "mut",
          "light": false,
          "sleep-mins": 2.8636363636363638,
          "zeit": 18.5,
          "zeit_ind": 1111
         },
         {
          "day": 5,
          "genotype": "mut",
          "light": false,
          "sleep-mins": 2.272727272727273,
          "zeit": 18.66666666666667,
          "zeit_ind": 1121
         },
         {
          "day": 5,
          "genotype": "mut",
          "light": false,
          "sleep-mins": 2.3181818181818183,
          "zeit": 18.83333333333333,
          "zeit_ind": 1131
         },
         {
          "day": 5,
          "genotype": "mut",
          "light": false,
          "sleep-mins": 2.409090909090909,
          "zeit": 19,
          "zeit_ind": 1141
         },
         {
          "day": 5,
          "genotype": "mut",
          "light": false,
          "sleep-mins": 2.272727272727273,
          "zeit": 19.16666666666667,
          "zeit_ind": 1151
         },
         {
          "day": 5,
          "genotype": "mut",
          "light": false,
          "sleep-mins": 2.0454545454545454,
          "zeit": 19.33333333333333,
          "zeit_ind": 1161
         },
         {
          "day": 5,
          "genotype": "mut",
          "light": false,
          "sleep-mins": 2.3181818181818183,
          "zeit": 19.5,
          "zeit_ind": 1171
         },
         {
          "day": 5,
          "genotype": "mut",
          "light": false,
          "sleep-mins": 2.090909090909091,
          "zeit": 19.66666666666667,
          "zeit_ind": 1181
         },
         {
          "day": 5,
          "genotype": "mut",
          "light": false,
          "sleep-mins": 2.5,
          "zeit": 19.83333333333333,
          "zeit_ind": 1191
         },
         {
          "day": 5,
          "genotype": "mut",
          "light": false,
          "sleep-mins": 1.2727272727272727,
          "zeit": 20,
          "zeit_ind": 1201
         },
         {
          "day": 5,
          "genotype": "mut",
          "light": false,
          "sleep-mins": 1.4090909090909092,
          "zeit": 20.16666666666667,
          "zeit_ind": 1211
         },
         {
          "day": 5,
          "genotype": "mut",
          "light": false,
          "sleep-mins": 2.909090909090909,
          "zeit": 20.33333333333333,
          "zeit_ind": 1221
         },
         {
          "day": 5,
          "genotype": "mut",
          "light": false,
          "sleep-mins": 2.1363636363636362,
          "zeit": 20.5,
          "zeit_ind": 1231
         },
         {
          "day": 5,
          "genotype": "mut",
          "light": false,
          "sleep-mins": 2.090909090909091,
          "zeit": 20.66666666666667,
          "zeit_ind": 1241
         },
         {
          "day": 5,
          "genotype": "mut",
          "light": false,
          "sleep-mins": 2.1818181818181817,
          "zeit": 20.83333333333333,
          "zeit_ind": 1251
         },
         {
          "day": 5,
          "genotype": "mut",
          "light": false,
          "sleep-mins": 2.5,
          "zeit": 21,
          "zeit_ind": 1261
         },
         {
          "day": 5,
          "genotype": "mut",
          "light": false,
          "sleep-mins": 2.1363636363636362,
          "zeit": 21.16666666666667,
          "zeit_ind": 1271
         },
         {
          "day": 5,
          "genotype": "mut",
          "light": false,
          "sleep-mins": 2.8636363636363638,
          "zeit": 21.333333333333325,
          "zeit_ind": 1281
         },
         {
          "day": 5,
          "genotype": "mut",
          "light": false,
          "sleep-mins": 2.5454545454545454,
          "zeit": 21.5,
          "zeit_ind": 1291
         },
         {
          "day": 5,
          "genotype": "mut",
          "light": false,
          "sleep-mins": 2.3181818181818183,
          "zeit": 21.66666666666667,
          "zeit_ind": 1301
         },
         {
          "day": 5,
          "genotype": "mut",
          "light": false,
          "sleep-mins": 1.9090909090909092,
          "zeit": 21.83333333333333,
          "zeit_ind": 1311
         },
         {
          "day": 5,
          "genotype": "mut",
          "light": false,
          "sleep-mins": 2.3181818181818183,
          "zeit": 22,
          "zeit_ind": 1321
         },
         {
          "day": 5,
          "genotype": "mut",
          "light": false,
          "sleep-mins": 3,
          "zeit": 22.16666666666667,
          "zeit_ind": 1331
         },
         {
          "day": 5,
          "genotype": "mut",
          "light": false,
          "sleep-mins": 1.8636363636363635,
          "zeit": 22.33333333333333,
          "zeit_ind": 1341
         },
         {
          "day": 5,
          "genotype": "mut",
          "light": false,
          "sleep-mins": 2.6363636363636362,
          "zeit": 22.5,
          "zeit_ind": 1351
         },
         {
          "day": 5,
          "genotype": "mut",
          "light": false,
          "sleep-mins": 2.5,
          "zeit": 22.66666666666667,
          "zeit_ind": 1361
         },
         {
          "day": 5,
          "genotype": "mut",
          "light": false,
          "sleep-mins": 3.1363636363636362,
          "zeit": 22.83333333333333,
          "zeit_ind": 1371
         },
         {
          "day": 5,
          "genotype": "mut",
          "light": false,
          "sleep-mins": 3.1818181818181817,
          "zeit": 23,
          "zeit_ind": 1381
         },
         {
          "day": 5,
          "genotype": "mut",
          "light": false,
          "sleep-mins": 3.090909090909091,
          "zeit": 23.16666666666667,
          "zeit_ind": 1391
         },
         {
          "day": 5,
          "genotype": "mut",
          "light": false,
          "sleep-mins": 3.4545454545454546,
          "zeit": 23.333333333333325,
          "zeit_ind": 1401
         },
         {
          "day": 5,
          "genotype": "mut",
          "light": false,
          "sleep-mins": 2.6818181818181817,
          "zeit": 23.5,
          "zeit_ind": 1411
         },
         {
          "day": 5,
          "genotype": "mut",
          "light": false,
          "sleep-mins": 2.272727272727273,
          "zeit": 23.666666666666675,
          "zeit_ind": 1421
         },
         {
          "day": 5,
          "genotype": "mut",
          "light": false,
          "sleep-mins": 2.272727272727273,
          "zeit": 23.833333333333325,
          "zeit_ind": 1431
         },
         {
          "day": 6,
          "genotype": "mut",
          "light": true,
          "sleep-mins": 2.090909090909091,
          "zeit": 24,
          "zeit_ind": 1441
         },
         {
          "day": 6,
          "genotype": "mut",
          "light": true,
          "sleep-mins": 0.22727272727272727,
          "zeit": 24.166666666666675,
          "zeit_ind": 1451
         },
         {
          "day": 6,
          "genotype": "mut",
          "light": true,
          "sleep-mins": 0.4090909090909091,
          "zeit": 24.333333333333325,
          "zeit_ind": 1461
         },
         {
          "day": 6,
          "genotype": "mut",
          "light": true,
          "sleep-mins": 0.3181818181818182,
          "zeit": 24.5,
          "zeit_ind": 1471
         },
         {
          "day": 6,
          "genotype": "mut",
          "light": true,
          "sleep-mins": 0.13636363636363635,
          "zeit": 24.66666666666667,
          "zeit_ind": 1481
         },
         {
          "day": 6,
          "genotype": "mut",
          "light": true,
          "sleep-mins": 0.045454545454545456,
          "zeit": 24.83333333333333,
          "zeit_ind": 1491
         },
         {
          "day": 6,
          "genotype": "mut",
          "light": true,
          "sleep-mins": 0.22727272727272727,
          "zeit": 25,
          "zeit_ind": 1501
         },
         {
          "day": 6,
          "genotype": "mut",
          "light": true,
          "sleep-mins": 0.3181818181818182,
          "zeit": 25.16666666666667,
          "zeit_ind": 1511
         },
         {
          "day": 6,
          "genotype": "mut",
          "light": true,
          "sleep-mins": 0.09090909090909091,
          "zeit": 25.33333333333333,
          "zeit_ind": 1521
         },
         {
          "day": 6,
          "genotype": "mut",
          "light": true,
          "sleep-mins": 0.13636363636363635,
          "zeit": 25.5,
          "zeit_ind": 1531
         },
         {
          "day": 6,
          "genotype": "mut",
          "light": true,
          "sleep-mins": 0.18181818181818182,
          "zeit": 25.66666666666667,
          "zeit_ind": 1541
         },
         {
          "day": 6,
          "genotype": "mut",
          "light": true,
          "sleep-mins": 0.2727272727272727,
          "zeit": 25.83333333333333,
          "zeit_ind": 1551
         },
         {
          "day": 6,
          "genotype": "mut",
          "light": true,
          "sleep-mins": 0,
          "zeit": 26,
          "zeit_ind": 1561
         },
         {
          "day": 6,
          "genotype": "mut",
          "light": true,
          "sleep-mins": 0.18181818181818182,
          "zeit": 26.16666666666667,
          "zeit_ind": 1571
         },
         {
          "day": 6,
          "genotype": "mut",
          "light": true,
          "sleep-mins": 0.22727272727272727,
          "zeit": 26.33333333333333,
          "zeit_ind": 1581
         },
         {
          "day": 6,
          "genotype": "mut",
          "light": true,
          "sleep-mins": 0.09090909090909091,
          "zeit": 26.5,
          "zeit_ind": 1591
         },
         {
          "day": 6,
          "genotype": "mut",
          "light": true,
          "sleep-mins": 0.22727272727272727,
          "zeit": 26.66666666666667,
          "zeit_ind": 1601
         },
         {
          "day": 6,
          "genotype": "mut",
          "light": true,
          "sleep-mins": 0.22727272727272727,
          "zeit": 26.83333333333333,
          "zeit_ind": 1611
         },
         {
          "day": 6,
          "genotype": "mut",
          "light": true,
          "sleep-mins": 0.22727272727272727,
          "zeit": 27,
          "zeit_ind": 1621
         },
         {
          "day": 6,
          "genotype": "mut",
          "light": true,
          "sleep-mins": 0.22727272727272727,
          "zeit": 27.166666666666664,
          "zeit_ind": 1631
         },
         {
          "day": 6,
          "genotype": "mut",
          "light": true,
          "sleep-mins": 0.18181818181818182,
          "zeit": 27.333333333333336,
          "zeit_ind": 1641
         },
         {
          "day": 6,
          "genotype": "mut",
          "light": true,
          "sleep-mins": 0.6818181818181818,
          "zeit": 27.5,
          "zeit_ind": 1651
         },
         {
          "day": 6,
          "genotype": "mut",
          "light": true,
          "sleep-mins": 0.4090909090909091,
          "zeit": 27.666666666666664,
          "zeit_ind": 1661
         },
         {
          "day": 6,
          "genotype": "mut",
          "light": true,
          "sleep-mins": 0.2727272727272727,
          "zeit": 27.833333333333336,
          "zeit_ind": 1671
         },
         {
          "day": 6,
          "genotype": "mut",
          "light": true,
          "sleep-mins": 0.22727272727272727,
          "zeit": 28,
          "zeit_ind": 1681
         },
         {
          "day": 6,
          "genotype": "mut",
          "light": true,
          "sleep-mins": 0.5,
          "zeit": 28.166666666666664,
          "zeit_ind": 1691
         },
         {
          "day": 6,
          "genotype": "mut",
          "light": true,
          "sleep-mins": 0.6363636363636364,
          "zeit": 28.333333333333336,
          "zeit_ind": 1701
         },
         {
          "day": 6,
          "genotype": "mut",
          "light": true,
          "sleep-mins": 0.18181818181818182,
          "zeit": 28.5,
          "zeit_ind": 1711
         },
         {
          "day": 6,
          "genotype": "mut",
          "light": true,
          "sleep-mins": 0.6363636363636364,
          "zeit": 28.666666666666664,
          "zeit_ind": 1721
         },
         {
          "day": 6,
          "genotype": "mut",
          "light": true,
          "sleep-mins": 0.4090909090909091,
          "zeit": 28.833333333333336,
          "zeit_ind": 1731
         },
         {
          "day": 6,
          "genotype": "mut",
          "light": true,
          "sleep-mins": 0.5454545454545454,
          "zeit": 29,
          "zeit_ind": 1741
         },
         {
          "day": 6,
          "genotype": "mut",
          "light": true,
          "sleep-mins": 0.4090909090909091,
          "zeit": 29.166666666666664,
          "zeit_ind": 1751
         },
         {
          "day": 6,
          "genotype": "mut",
          "light": true,
          "sleep-mins": 0.3181818181818182,
          "zeit": 29.333333333333336,
          "zeit_ind": 1761
         },
         {
          "day": 6,
          "genotype": "mut",
          "light": true,
          "sleep-mins": 0.22727272727272727,
          "zeit": 29.5,
          "zeit_ind": 1771
         },
         {
          "day": 6,
          "genotype": "mut",
          "light": true,
          "sleep-mins": 0.3181818181818182,
          "zeit": 29.666666666666664,
          "zeit_ind": 1781
         },
         {
          "day": 6,
          "genotype": "mut",
          "light": true,
          "sleep-mins": 0.18181818181818182,
          "zeit": 29.833333333333336,
          "zeit_ind": 1791
         },
         {
          "day": 6,
          "genotype": "mut",
          "light": true,
          "sleep-mins": 0.2727272727272727,
          "zeit": 30,
          "zeit_ind": 1801
         },
         {
          "day": 6,
          "genotype": "mut",
          "light": true,
          "sleep-mins": 0.045454545454545456,
          "zeit": 30.166666666666664,
          "zeit_ind": 1811
         },
         {
          "day": 6,
          "genotype": "mut",
          "light": true,
          "sleep-mins": 0.2727272727272727,
          "zeit": 30.333333333333336,
          "zeit_ind": 1821
         },
         {
          "day": 6,
          "genotype": "mut",
          "light": true,
          "sleep-mins": 0.5454545454545454,
          "zeit": 30.5,
          "zeit_ind": 1831
         },
         {
          "day": 6,
          "genotype": "mut",
          "light": true,
          "sleep-mins": 0.22727272727272727,
          "zeit": 30.666666666666664,
          "zeit_ind": 1841
         },
         {
          "day": 6,
          "genotype": "mut",
          "light": true,
          "sleep-mins": 0.4090909090909091,
          "zeit": 30.833333333333336,
          "zeit_ind": 1851
         },
         {
          "day": 6,
          "genotype": "mut",
          "light": true,
          "sleep-mins": 0.36363636363636365,
          "zeit": 31,
          "zeit_ind": 1861
         },
         {
          "day": 6,
          "genotype": "mut",
          "light": true,
          "sleep-mins": 0.18181818181818182,
          "zeit": 31.166666666666664,
          "zeit_ind": 1871
         },
         {
          "day": 6,
          "genotype": "mut",
          "light": true,
          "sleep-mins": 0.7727272727272727,
          "zeit": 31.333333333333336,
          "zeit_ind": 1881
         },
         {
          "day": 6,
          "genotype": "mut",
          "light": true,
          "sleep-mins": 0.6363636363636364,
          "zeit": 31.5,
          "zeit_ind": 1891
         },
         {
          "day": 6,
          "genotype": "mut",
          "light": true,
          "sleep-mins": 0.36363636363636365,
          "zeit": 31.666666666666664,
          "zeit_ind": 1901
         },
         {
          "day": 6,
          "genotype": "mut",
          "light": true,
          "sleep-mins": 0.22727272727272727,
          "zeit": 31.833333333333336,
          "zeit_ind": 1911
         },
         {
          "day": 6,
          "genotype": "mut",
          "light": true,
          "sleep-mins": 0.36363636363636365,
          "zeit": 32,
          "zeit_ind": 1921
         },
         {
          "day": 6,
          "genotype": "mut",
          "light": true,
          "sleep-mins": 0.36363636363636365,
          "zeit": 32.16666666666666,
          "zeit_ind": 1931
         },
         {
          "day": 6,
          "genotype": "mut",
          "light": true,
          "sleep-mins": 0.045454545454545456,
          "zeit": 32.33333333333334,
          "zeit_ind": 1941
         },
         {
          "day": 6,
          "genotype": "mut",
          "light": true,
          "sleep-mins": 0.13636363636363635,
          "zeit": 32.50000000000001,
          "zeit_ind": 1951
         },
         {
          "day": 6,
          "genotype": "mut",
          "light": true,
          "sleep-mins": 0.18181818181818182,
          "zeit": 32.666666666666664,
          "zeit_ind": 1961
         },
         {
          "day": 6,
          "genotype": "mut",
          "light": true,
          "sleep-mins": 0.09090909090909091,
          "zeit": 32.83333333333334,
          "zeit_ind": 1971
         },
         {
          "day": 6,
          "genotype": "mut",
          "light": true,
          "sleep-mins": 0.22727272727272727,
          "zeit": 33.00000000000001,
          "zeit_ind": 1981
         },
         {
          "day": 6,
          "genotype": "mut",
          "light": true,
          "sleep-mins": 0.18181818181818182,
          "zeit": 33.166666666666664,
          "zeit_ind": 1991
         },
         {
          "day": 6,
          "genotype": "mut",
          "light": true,
          "sleep-mins": 0.2727272727272727,
          "zeit": 33.33333333333334,
          "zeit_ind": 2001
         },
         {
          "day": 6,
          "genotype": "mut",
          "light": true,
          "sleep-mins": 0.45454545454545453,
          "zeit": 33.50000000000001,
          "zeit_ind": 2011
         },
         {
          "day": 6,
          "genotype": "mut",
          "light": true,
          "sleep-mins": 0.22727272727272727,
          "zeit": 33.666666666666664,
          "zeit_ind": 2021
         },
         {
          "day": 6,
          "genotype": "mut",
          "light": true,
          "sleep-mins": 0.22727272727272727,
          "zeit": 33.83333333333334,
          "zeit_ind": 2031
         },
         {
          "day": 6,
          "genotype": "mut",
          "light": true,
          "sleep-mins": 0.13636363636363635,
          "zeit": 34.00000000000001,
          "zeit_ind": 2041
         },
         {
          "day": 6,
          "genotype": "mut",
          "light": true,
          "sleep-mins": 0.8181818181818182,
          "zeit": 34.166666666666664,
          "zeit_ind": 2051
         },
         {
          "day": 6,
          "genotype": "mut",
          "light": true,
          "sleep-mins": 0.5,
          "zeit": 34.33333333333334,
          "zeit_ind": 2061
         },
         {
          "day": 6,
          "genotype": "mut",
          "light": true,
          "sleep-mins": 0.5454545454545454,
          "zeit": 34.50000000000001,
          "zeit_ind": 2071
         },
         {
          "day": 6,
          "genotype": "mut",
          "light": true,
          "sleep-mins": 0.22727272727272727,
          "zeit": 34.666666666666664,
          "zeit_ind": 2081
         },
         {
          "day": 6,
          "genotype": "mut",
          "light": true,
          "sleep-mins": 0.5,
          "zeit": 34.83333333333334,
          "zeit_ind": 2091
         },
         {
          "day": 6,
          "genotype": "mut",
          "light": true,
          "sleep-mins": 0.045454545454545456,
          "zeit": 35.00000000000001,
          "zeit_ind": 2101
         },
         {
          "day": 6,
          "genotype": "mut",
          "light": true,
          "sleep-mins": 0.2727272727272727,
          "zeit": 35.166666666666664,
          "zeit_ind": 2111
         },
         {
          "day": 6,
          "genotype": "mut",
          "light": true,
          "sleep-mins": 0.36363636363636365,
          "zeit": 35.33333333333334,
          "zeit_ind": 2121
         },
         {
          "day": 6,
          "genotype": "mut",
          "light": true,
          "sleep-mins": 0.3181818181818182,
          "zeit": 35.50000000000001,
          "zeit_ind": 2131
         },
         {
          "day": 6,
          "genotype": "mut",
          "light": true,
          "sleep-mins": 0.2727272727272727,
          "zeit": 35.666666666666664,
          "zeit_ind": 2141
         },
         {
          "day": 6,
          "genotype": "mut",
          "light": true,
          "sleep-mins": 0.6818181818181818,
          "zeit": 35.83333333333334,
          "zeit_ind": 2151
         },
         {
          "day": 6,
          "genotype": "mut",
          "light": true,
          "sleep-mins": 0.5909090909090909,
          "zeit": 36.00000000000001,
          "zeit_ind": 2161
         },
         {
          "day": 6,
          "genotype": "mut",
          "light": true,
          "sleep-mins": 0.09090909090909091,
          "zeit": 36.166666666666664,
          "zeit_ind": 2171
         },
         {
          "day": 6,
          "genotype": "mut",
          "light": true,
          "sleep-mins": 0.13636363636363635,
          "zeit": 36.33333333333334,
          "zeit_ind": 2181
         },
         {
          "day": 6,
          "genotype": "mut",
          "light": true,
          "sleep-mins": 0.18181818181818182,
          "zeit": 36.5,
          "zeit_ind": 2191
         },
         {
          "day": 6,
          "genotype": "mut",
          "light": true,
          "sleep-mins": 0.36363636363636365,
          "zeit": 36.66666666666666,
          "zeit_ind": 2201
         },
         {
          "day": 6,
          "genotype": "mut",
          "light": true,
          "sleep-mins": 0.45454545454545453,
          "zeit": 36.83333333333334,
          "zeit_ind": 2211
         },
         {
          "day": 6,
          "genotype": "mut",
          "light": true,
          "sleep-mins": 0.2727272727272727,
          "zeit": 37,
          "zeit_ind": 2221
         },
         {
          "day": 6,
          "genotype": "mut",
          "light": true,
          "sleep-mins": 0.22727272727272727,
          "zeit": 37.16666666666666,
          "zeit_ind": 2231
         },
         {
          "day": 6,
          "genotype": "mut",
          "light": true,
          "sleep-mins": 0.4090909090909091,
          "zeit": 37.33333333333334,
          "zeit_ind": 2241
         },
         {
          "day": 6,
          "genotype": "mut",
          "light": true,
          "sleep-mins": 0.3181818181818182,
          "zeit": 37.5,
          "zeit_ind": 2251
         },
         {
          "day": 6,
          "genotype": "mut",
          "light": true,
          "sleep-mins": 0.45454545454545453,
          "zeit": 37.66666666666666,
          "zeit_ind": 2261
         },
         {
          "day": 6,
          "genotype": "mut",
          "light": true,
          "sleep-mins": 0.13636363636363635,
          "zeit": 37.83333333333334,
          "zeit_ind": 2271
         },
         {
          "day": 6,
          "genotype": "mut",
          "light": false,
          "sleep-mins": 0.22727272727272727,
          "zeit": 38,
          "zeit_ind": 2281
         },
         {
          "day": 6,
          "genotype": "mut",
          "light": false,
          "sleep-mins": 2.6363636363636362,
          "zeit": 38.16666666666666,
          "zeit_ind": 2291
         },
         {
          "day": 6,
          "genotype": "mut",
          "light": false,
          "sleep-mins": 2.590909090909091,
          "zeit": 38.33333333333334,
          "zeit_ind": 2301
         },
         {
          "day": 6,
          "genotype": "mut",
          "light": false,
          "sleep-mins": 1.0909090909090908,
          "zeit": 38.5,
          "zeit_ind": 2311
         },
         {
          "day": 6,
          "genotype": "mut",
          "light": false,
          "sleep-mins": 1.4545454545454546,
          "zeit": 38.66666666666666,
          "zeit_ind": 2321
         },
         {
          "day": 6,
          "genotype": "mut",
          "light": false,
          "sleep-mins": 1.6363636363636365,
          "zeit": 38.83333333333334,
          "zeit_ind": 2331
         },
         {
          "day": 6,
          "genotype": "mut",
          "light": false,
          "sleep-mins": 1.1818181818181819,
          "zeit": 39,
          "zeit_ind": 2341
         },
         {
          "day": 6,
          "genotype": "mut",
          "light": false,
          "sleep-mins": 1.3636363636363635,
          "zeit": 39.16666666666666,
          "zeit_ind": 2351
         },
         {
          "day": 6,
          "genotype": "mut",
          "light": false,
          "sleep-mins": 1.3636363636363635,
          "zeit": 39.33333333333334,
          "zeit_ind": 2361
         },
         {
          "day": 6,
          "genotype": "mut",
          "light": false,
          "sleep-mins": 1,
          "zeit": 39.5,
          "zeit_ind": 2371
         },
         {
          "day": 6,
          "genotype": "mut",
          "light": false,
          "sleep-mins": 0.8181818181818182,
          "zeit": 39.66666666666666,
          "zeit_ind": 2381
         },
         {
          "day": 6,
          "genotype": "mut",
          "light": false,
          "sleep-mins": 1.1818181818181819,
          "zeit": 39.83333333333334,
          "zeit_ind": 2391
         },
         {
          "day": 6,
          "genotype": "mut",
          "light": false,
          "sleep-mins": 1.5,
          "zeit": 40,
          "zeit_ind": 2401
         },
         {
          "day": 6,
          "genotype": "mut",
          "light": false,
          "sleep-mins": 1.5454545454545454,
          "zeit": 40.16666666666666,
          "zeit_ind": 2411
         },
         {
          "day": 6,
          "genotype": "mut",
          "light": false,
          "sleep-mins": 1.8181818181818181,
          "zeit": 40.33333333333334,
          "zeit_ind": 2421
         },
         {
          "day": 6,
          "genotype": "mut",
          "light": false,
          "sleep-mins": 1.8636363636363635,
          "zeit": 40.5,
          "zeit_ind": 2431
         },
         {
          "day": 6,
          "genotype": "mut",
          "light": false,
          "sleep-mins": 2,
          "zeit": 40.66666666666666,
          "zeit_ind": 2441
         },
         {
          "day": 6,
          "genotype": "mut",
          "light": false,
          "sleep-mins": 1.8181818181818181,
          "zeit": 40.83333333333334,
          "zeit_ind": 2451
         },
         {
          "day": 6,
          "genotype": "mut",
          "light": false,
          "sleep-mins": 1.5909090909090908,
          "zeit": 41,
          "zeit_ind": 2461
         },
         {
          "day": 6,
          "genotype": "mut",
          "light": false,
          "sleep-mins": 1.7272727272727273,
          "zeit": 41.16666666666666,
          "zeit_ind": 2471
         },
         {
          "day": 6,
          "genotype": "mut",
          "light": false,
          "sleep-mins": 1.6363636363636365,
          "zeit": 41.33333333333334,
          "zeit_ind": 2481
         },
         {
          "day": 6,
          "genotype": "mut",
          "light": false,
          "sleep-mins": 2.3181818181818183,
          "zeit": 41.5,
          "zeit_ind": 2491
         },
         {
          "day": 6,
          "genotype": "mut",
          "light": false,
          "sleep-mins": 2.3181818181818183,
          "zeit": 41.66666666666666,
          "zeit_ind": 2501
         },
         {
          "day": 6,
          "genotype": "mut",
          "light": false,
          "sleep-mins": 1.8636363636363635,
          "zeit": 41.83333333333334,
          "zeit_ind": 2511
         },
         {
          "day": 6,
          "genotype": "mut",
          "light": false,
          "sleep-mins": 1.8181818181818181,
          "zeit": 42,
          "zeit_ind": 2521
         },
         {
          "day": 6,
          "genotype": "mut",
          "light": false,
          "sleep-mins": 1.8181818181818181,
          "zeit": 42.16666666666666,
          "zeit_ind": 2531
         },
         {
          "day": 6,
          "genotype": "mut",
          "light": false,
          "sleep-mins": 1.3636363636363635,
          "zeit": 42.33333333333334,
          "zeit_ind": 2541
         },
         {
          "day": 6,
          "genotype": "mut",
          "light": false,
          "sleep-mins": 1.8181818181818181,
          "zeit": 42.5,
          "zeit_ind": 2551
         },
         {
          "day": 6,
          "genotype": "mut",
          "light": false,
          "sleep-mins": 1.6363636363636365,
          "zeit": 42.66666666666665,
          "zeit_ind": 2561
         },
         {
          "day": 6,
          "genotype": "mut",
          "light": false,
          "sleep-mins": 2.3636363636363638,
          "zeit": 42.83333333333334,
          "zeit_ind": 2571
         },
         {
          "day": 6,
          "genotype": "mut",
          "light": false,
          "sleep-mins": 2.6363636363636362,
          "zeit": 43,
          "zeit_ind": 2581
         },
         {
          "day": 6,
          "genotype": "mut",
          "light": false,
          "sleep-mins": 1.7272727272727273,
          "zeit": 43.16666666666666,
          "zeit_ind": 2591
         },
         {
          "day": 6,
          "genotype": "mut",
          "light": false,
          "sleep-mins": 2.272727272727273,
          "zeit": 43.33333333333334,
          "zeit_ind": 2601
         },
         {
          "day": 6,
          "genotype": "mut",
          "light": false,
          "sleep-mins": 2.0454545454545454,
          "zeit": 43.5,
          "zeit_ind": 2611
         },
         {
          "day": 6,
          "genotype": "mut",
          "light": false,
          "sleep-mins": 1.9090909090909092,
          "zeit": 43.66666666666666,
          "zeit_ind": 2621
         },
         {
          "day": 6,
          "genotype": "mut",
          "light": false,
          "sleep-mins": 2.0454545454545454,
          "zeit": 43.83333333333334,
          "zeit_ind": 2631
         },
         {
          "day": 6,
          "genotype": "mut",
          "light": false,
          "sleep-mins": 2.272727272727273,
          "zeit": 44,
          "zeit_ind": 2641
         },
         {
          "day": 6,
          "genotype": "mut",
          "light": false,
          "sleep-mins": 2.590909090909091,
          "zeit": 44.16666666666666,
          "zeit_ind": 2651
         },
         {
          "day": 6,
          "genotype": "mut",
          "light": false,
          "sleep-mins": 2.3636363636363638,
          "zeit": 44.33333333333334,
          "zeit_ind": 2661
         },
         {
          "day": 6,
          "genotype": "mut",
          "light": false,
          "sleep-mins": 1.9545454545454546,
          "zeit": 44.5,
          "zeit_ind": 2671
         },
         {
          "day": 6,
          "genotype": "mut",
          "light": false,
          "sleep-mins": 2.1363636363636362,
          "zeit": 44.66666666666666,
          "zeit_ind": 2681
         },
         {
          "day": 6,
          "genotype": "mut",
          "light": false,
          "sleep-mins": 2.4545454545454546,
          "zeit": 44.83333333333334,
          "zeit_ind": 2691
         },
         {
          "day": 6,
          "genotype": "mut",
          "light": false,
          "sleep-mins": 2.3181818181818183,
          "zeit": 45,
          "zeit_ind": 2701
         },
         {
          "day": 6,
          "genotype": "mut",
          "light": false,
          "sleep-mins": 1.6818181818181819,
          "zeit": 45.16666666666666,
          "zeit_ind": 2711
         },
         {
          "day": 6,
          "genotype": "mut",
          "light": false,
          "sleep-mins": 2.0454545454545454,
          "zeit": 45.33333333333334,
          "zeit_ind": 2721
         },
         {
          "day": 6,
          "genotype": "mut",
          "light": false,
          "sleep-mins": 1.8636363636363635,
          "zeit": 45.5,
          "zeit_ind": 2731
         },
         {
          "day": 6,
          "genotype": "mut",
          "light": false,
          "sleep-mins": 2.0454545454545454,
          "zeit": 45.66666666666666,
          "zeit_ind": 2741
         },
         {
          "day": 6,
          "genotype": "mut",
          "light": false,
          "sleep-mins": 2.3636363636363638,
          "zeit": 45.83333333333334,
          "zeit_ind": 2751
         },
         {
          "day": 6,
          "genotype": "mut",
          "light": false,
          "sleep-mins": 2.5454545454545454,
          "zeit": 46,
          "zeit_ind": 2761
         },
         {
          "day": 6,
          "genotype": "mut",
          "light": false,
          "sleep-mins": 1.5,
          "zeit": 46.16666666666666,
          "zeit_ind": 2771
         },
         {
          "day": 6,
          "genotype": "mut",
          "light": false,
          "sleep-mins": 2.3636363636363638,
          "zeit": 46.33333333333334,
          "zeit_ind": 2781
         },
         {
          "day": 6,
          "genotype": "mut",
          "light": false,
          "sleep-mins": 2.090909090909091,
          "zeit": 46.5,
          "zeit_ind": 2791
         },
         {
          "day": 6,
          "genotype": "mut",
          "light": false,
          "sleep-mins": 1.9545454545454546,
          "zeit": 46.66666666666665,
          "zeit_ind": 2801
         },
         {
          "day": 6,
          "genotype": "mut",
          "light": false,
          "sleep-mins": 2.5,
          "zeit": 46.83333333333335,
          "zeit_ind": 2811
         },
         {
          "day": 6,
          "genotype": "mut",
          "light": false,
          "sleep-mins": 2.409090909090909,
          "zeit": 47,
          "zeit_ind": 2821
         },
         {
          "day": 6,
          "genotype": "mut",
          "light": false,
          "sleep-mins": 2.272727272727273,
          "zeit": 47.16666666666665,
          "zeit_ind": 2831
         },
         {
          "day": 6,
          "genotype": "mut",
          "light": false,
          "sleep-mins": 2.3636363636363638,
          "zeit": 47.33333333333335,
          "zeit_ind": 2841
         },
         {
          "day": 6,
          "genotype": "mut",
          "light": false,
          "sleep-mins": 2.0454545454545454,
          "zeit": 47.5,
          "zeit_ind": 2851
         },
         {
          "day": 6,
          "genotype": "mut",
          "light": false,
          "sleep-mins": 3,
          "zeit": 47.66666666666665,
          "zeit_ind": 2861
         },
         {
          "day": 6,
          "genotype": "mut",
          "light": false,
          "sleep-mins": 2.1363636363636362,
          "zeit": 47.83333333333335,
          "zeit_ind": 2871
         },
         {
          "day": 7,
          "genotype": "mut",
          "light": true,
          "sleep-mins": 0.7272727272727273,
          "zeit": 48,
          "zeit_ind": 2881
         },
         {
          "day": 7,
          "genotype": "mut",
          "light": true,
          "sleep-mins": 0.09090909090909091,
          "zeit": 48.16666666666665,
          "zeit_ind": 2891
         },
         {
          "day": 7,
          "genotype": "mut",
          "light": true,
          "sleep-mins": 0,
          "zeit": 48.33333333333335,
          "zeit_ind": 2901
         },
         {
          "day": 7,
          "genotype": "mut",
          "light": true,
          "sleep-mins": 0.5,
          "zeit": 48.5,
          "zeit_ind": 2911
         },
         {
          "day": 7,
          "genotype": "mut",
          "light": true,
          "sleep-mins": 0.13636363636363635,
          "zeit": 48.66666666666665,
          "zeit_ind": 2921
         },
         {
          "day": 7,
          "genotype": "mut",
          "light": true,
          "sleep-mins": 0.22727272727272727,
          "zeit": 48.83333333333334,
          "zeit_ind": 2931
         },
         {
          "day": 7,
          "genotype": "mut",
          "light": true,
          "sleep-mins": 0.3181818181818182,
          "zeit": 49,
          "zeit_ind": 2941
         },
         {
          "day": 7,
          "genotype": "mut",
          "light": true,
          "sleep-mins": 0.22727272727272727,
          "zeit": 49.16666666666666,
          "zeit_ind": 2951
         },
         {
          "day": 7,
          "genotype": "mut",
          "light": true,
          "sleep-mins": 0.18181818181818182,
          "zeit": 49.33333333333334,
          "zeit_ind": 2961
         },
         {
          "day": 7,
          "genotype": "mut",
          "light": true,
          "sleep-mins": 0.09090909090909091,
          "zeit": 49.5,
          "zeit_ind": 2971
         },
         {
          "day": 7,
          "genotype": "mut",
          "light": true,
          "sleep-mins": 0.13636363636363635,
          "zeit": 49.66666666666666,
          "zeit_ind": 2981
         },
         {
          "day": 7,
          "genotype": "mut",
          "light": true,
          "sleep-mins": 0.045454545454545456,
          "zeit": 49.83333333333334,
          "zeit_ind": 2991
         },
         {
          "day": 7,
          "genotype": "mut",
          "light": true,
          "sleep-mins": 0.18181818181818182,
          "zeit": 50,
          "zeit_ind": 3001
         },
         {
          "day": 7,
          "genotype": "mut",
          "light": true,
          "sleep-mins": 0.4090909090909091,
          "zeit": 50.16666666666666,
          "zeit_ind": 3011
         },
         {
          "day": 7,
          "genotype": "mut",
          "light": true,
          "sleep-mins": 0.045454545454545456,
          "zeit": 50.33333333333334,
          "zeit_ind": 3021
         },
         {
          "day": 7,
          "genotype": "mut",
          "light": true,
          "sleep-mins": 0.2727272727272727,
          "zeit": 50.5,
          "zeit_ind": 3031
         },
         {
          "day": 7,
          "genotype": "mut",
          "light": true,
          "sleep-mins": 0.3181818181818182,
          "zeit": 50.66666666666666,
          "zeit_ind": 3041
         },
         {
          "day": 7,
          "genotype": "mut",
          "light": true,
          "sleep-mins": 0.3181818181818182,
          "zeit": 50.83333333333334,
          "zeit_ind": 3051
         },
         {
          "day": 7,
          "genotype": "mut",
          "light": true,
          "sleep-mins": 0.18181818181818182,
          "zeit": 51,
          "zeit_ind": 3061
         },
         {
          "day": 7,
          "genotype": "mut",
          "light": true,
          "sleep-mins": 0.045454545454545456,
          "zeit": 51.16666666666666,
          "zeit_ind": 3071
         },
         {
          "day": 7,
          "genotype": "mut",
          "light": true,
          "sleep-mins": 0.18181818181818182,
          "zeit": 51.33333333333334,
          "zeit_ind": 3081
         },
         {
          "day": 7,
          "genotype": "mut",
          "light": true,
          "sleep-mins": 0.11363636363636363,
          "zeit": 51.5,
          "zeit_ind": 3091
         },
         {
          "day": 7,
          "genotype": "mut",
          "light": true,
          "sleep-mins": 0.5681818181818182,
          "zeit": 51.66666666666666,
          "zeit_ind": 3102
         },
         {
          "day": 7,
          "genotype": "mut",
          "light": true,
          "sleep-mins": 0.9545454545454546,
          "zeit": 51.83333333333334,
          "zeit_ind": 3110
         },
         {
          "day": 7,
          "genotype": "mut",
          "light": true,
          "sleep-mins": 0.7272727272727273,
          "zeit": 52,
          "zeit_ind": 3120
         },
         {
          "day": 7,
          "genotype": "mut",
          "light": true,
          "sleep-mins": 0.8181818181818182,
          "zeit": 52.16666666666666,
          "zeit_ind": 3130
         },
         {
          "day": 7,
          "genotype": "mut",
          "light": true,
          "sleep-mins": 0.36363636363636365,
          "zeit": 52.33333333333334,
          "zeit_ind": 3140
         },
         {
          "day": 7,
          "genotype": "mut",
          "light": true,
          "sleep-mins": 0.4090909090909091,
          "zeit": 52.5,
          "zeit_ind": 3150
         },
         {
          "day": 7,
          "genotype": "mut",
          "light": true,
          "sleep-mins": 0.4090909090909091,
          "zeit": 52.66666666666666,
          "zeit_ind": 3160
         },
         {
          "day": 7,
          "genotype": "mut",
          "light": true,
          "sleep-mins": 0.5454545454545454,
          "zeit": 52.83333333333334,
          "zeit_ind": 3170
         },
         {
          "day": 7,
          "genotype": "mut",
          "light": true,
          "sleep-mins": 0.6363636363636364,
          "zeit": 53,
          "zeit_ind": 3180
         },
         {
          "day": 7,
          "genotype": "mut",
          "light": true,
          "sleep-mins": 0.9090909090909091,
          "zeit": 53.16666666666666,
          "zeit_ind": 3190
         },
         {
          "day": 7,
          "genotype": "mut",
          "light": true,
          "sleep-mins": 0.6363636363636364,
          "zeit": 53.33333333333334,
          "zeit_ind": 3200
         },
         {
          "day": 7,
          "genotype": "mut",
          "light": true,
          "sleep-mins": 0.5454545454545454,
          "zeit": 53.5,
          "zeit_ind": 3210
         },
         {
          "day": 7,
          "genotype": "mut",
          "light": true,
          "sleep-mins": 0.6363636363636364,
          "zeit": 53.66666666666666,
          "zeit_ind": 3220
         },
         {
          "day": 7,
          "genotype": "mut",
          "light": true,
          "sleep-mins": 0.36363636363636365,
          "zeit": 53.83333333333334,
          "zeit_ind": 3230
         },
         {
          "day": 7,
          "genotype": "mut",
          "light": true,
          "sleep-mins": 0.6818181818181818,
          "zeit": 54,
          "zeit_ind": 3240
         },
         {
          "day": 7,
          "genotype": "mut",
          "light": true,
          "sleep-mins": 1.0909090909090908,
          "zeit": 54.16666666666667,
          "zeit_ind": 3250
         },
         {
          "day": 7,
          "genotype": "mut",
          "light": true,
          "sleep-mins": 0.8636363636363636,
          "zeit": 54.33333333333333,
          "zeit_ind": 3260
         },
         {
          "day": 7,
          "genotype": "mut",
          "light": true,
          "sleep-mins": 1.0909090909090908,
          "zeit": 54.5,
          "zeit_ind": 3270
         },
         {
          "day": 7,
          "genotype": "mut",
          "light": true,
          "sleep-mins": 0.6363636363636364,
          "zeit": 54.66666666666667,
          "zeit_ind": 3280
         },
         {
          "day": 7,
          "genotype": "mut",
          "light": true,
          "sleep-mins": 0.8636363636363636,
          "zeit": 54.83333333333333,
          "zeit_ind": 3290
         },
         {
          "day": 7,
          "genotype": "mut",
          "light": true,
          "sleep-mins": 0.6363636363636364,
          "zeit": 55,
          "zeit_ind": 3300
         },
         {
          "day": 7,
          "genotype": "mut",
          "light": true,
          "sleep-mins": 0.36363636363636365,
          "zeit": 55.16666666666667,
          "zeit_ind": 3310
         },
         {
          "day": 7,
          "genotype": "mut",
          "light": true,
          "sleep-mins": 0.5454545454545454,
          "zeit": 55.33333333333333,
          "zeit_ind": 3320
         },
         {
          "day": 7,
          "genotype": "mut",
          "light": true,
          "sleep-mins": 0.5,
          "zeit": 55.5,
          "zeit_ind": 3330
         },
         {
          "day": 7,
          "genotype": "mut",
          "light": true,
          "sleep-mins": 0.6363636363636364,
          "zeit": 55.66666666666667,
          "zeit_ind": 3340
         },
         {
          "day": 7,
          "genotype": "mut",
          "light": true,
          "sleep-mins": 0.3181818181818182,
          "zeit": 55.83333333333333,
          "zeit_ind": 3350
         },
         {
          "day": 7,
          "genotype": "mut",
          "light": true,
          "sleep-mins": 0.7272727272727273,
          "zeit": 56,
          "zeit_ind": 3360
         },
         {
          "day": 7,
          "genotype": "mut",
          "light": true,
          "sleep-mins": 0.7272727272727273,
          "zeit": 56.16666666666667,
          "zeit_ind": 3370
         },
         {
          "day": 7,
          "genotype": "mut",
          "light": true,
          "sleep-mins": 0.5,
          "zeit": 56.33333333333333,
          "zeit_ind": 3380
         },
         {
          "day": 7,
          "genotype": "mut",
          "light": true,
          "sleep-mins": 0.5,
          "zeit": 56.5,
          "zeit_ind": 3390
         },
         {
          "day": 7,
          "genotype": "mut",
          "light": true,
          "sleep-mins": 0.9545454545454546,
          "zeit": 56.66666666666667,
          "zeit_ind": 3400
         },
         {
          "day": 7,
          "genotype": "mut",
          "light": true,
          "sleep-mins": 1.2727272727272727,
          "zeit": 56.83333333333333,
          "zeit_ind": 3410
         },
         {
          "day": 7,
          "genotype": "mut",
          "light": true,
          "sleep-mins": 1.0909090909090908,
          "zeit": 57,
          "zeit_ind": 3420
         },
         {
          "day": 7,
          "genotype": "mut",
          "light": true,
          "sleep-mins": 1,
          "zeit": 57.16666666666667,
          "zeit_ind": 3430
         },
         {
          "day": 7,
          "genotype": "mut",
          "light": true,
          "sleep-mins": 0.7727272727272727,
          "zeit": 57.33333333333333,
          "zeit_ind": 3440
         },
         {
          "day": 7,
          "genotype": "mut",
          "light": true,
          "sleep-mins": 0.6818181818181818,
          "zeit": 57.5,
          "zeit_ind": 3450
         },
         {
          "day": 7,
          "genotype": "mut",
          "light": true,
          "sleep-mins": 0.6363636363636364,
          "zeit": 57.66666666666667,
          "zeit_ind": 3460
         },
         {
          "day": 7,
          "genotype": "mut",
          "light": true,
          "sleep-mins": 0.45454545454545453,
          "zeit": 57.83333333333333,
          "zeit_ind": 3470
         },
         {
          "day": 7,
          "genotype": "mut",
          "light": true,
          "sleep-mins": 0.7727272727272727,
          "zeit": 58,
          "zeit_ind": 3480
         },
         {
          "day": 7,
          "genotype": "mut",
          "light": true,
          "sleep-mins": 1,
          "zeit": 58.16666666666667,
          "zeit_ind": 3490
         },
         {
          "day": 7,
          "genotype": "mut",
          "light": true,
          "sleep-mins": 0.5454545454545454,
          "zeit": 58.33333333333333,
          "zeit_ind": 3500
         },
         {
          "day": 7,
          "genotype": "mut",
          "light": true,
          "sleep-mins": 1.0909090909090908,
          "zeit": 58.5,
          "zeit_ind": 3510
         },
         {
          "day": 7,
          "genotype": "mut",
          "light": true,
          "sleep-mins": 0.6363636363636364,
          "zeit": 58.66666666666667,
          "zeit_ind": 3520
         },
         {
          "day": 7,
          "genotype": "mut",
          "light": true,
          "sleep-mins": 0.22727272727272727,
          "zeit": 58.83333333333333,
          "zeit_ind": 3530
         },
         {
          "day": 7,
          "genotype": "mut",
          "light": true,
          "sleep-mins": 0.45454545454545453,
          "zeit": 59,
          "zeit_ind": 3540
         },
         {
          "day": 7,
          "genotype": "mut",
          "light": true,
          "sleep-mins": 0.6818181818181818,
          "zeit": 59.16666666666667,
          "zeit_ind": 3550
         },
         {
          "day": 7,
          "genotype": "mut",
          "light": true,
          "sleep-mins": 0.5454545454545454,
          "zeit": 59.33333333333333,
          "zeit_ind": 3560
         },
         {
          "day": 7,
          "genotype": "mut",
          "light": true,
          "sleep-mins": 1.0454545454545454,
          "zeit": 59.5,
          "zeit_ind": 3570
         },
         {
          "day": 7,
          "genotype": "mut",
          "light": true,
          "sleep-mins": 0.7272727272727273,
          "zeit": 59.66666666666667,
          "zeit_ind": 3580
         },
         {
          "day": 7,
          "genotype": "mut",
          "light": true,
          "sleep-mins": 0.5,
          "zeit": 59.83333333333333,
          "zeit_ind": 3590
         },
         {
          "day": 7,
          "genotype": "mut",
          "light": true,
          "sleep-mins": 1.0454545454545454,
          "zeit": 60,
          "zeit_ind": 3600
         },
         {
          "day": 7,
          "genotype": "mut",
          "light": true,
          "sleep-mins": 0.8181818181818182,
          "zeit": 60.16666666666667,
          "zeit_ind": 3610
         },
         {
          "day": 7,
          "genotype": "mut",
          "light": true,
          "sleep-mins": 0.5909090909090909,
          "zeit": 60.33333333333333,
          "zeit_ind": 3620
         },
         {
          "day": 7,
          "genotype": "mut",
          "light": true,
          "sleep-mins": 0.7727272727272727,
          "zeit": 60.5,
          "zeit_ind": 3630
         },
         {
          "day": 7,
          "genotype": "mut",
          "light": true,
          "sleep-mins": 0.7272727272727273,
          "zeit": 60.66666666666667,
          "zeit_ind": 3640
         },
         {
          "day": 7,
          "genotype": "mut",
          "light": true,
          "sleep-mins": 0.2727272727272727,
          "zeit": 60.83333333333333,
          "zeit_ind": 3650
         },
         {
          "day": 7,
          "genotype": "mut",
          "light": true,
          "sleep-mins": 0.7272727272727273,
          "zeit": 61,
          "zeit_ind": 3660
         },
         {
          "day": 7,
          "genotype": "mut",
          "light": true,
          "sleep-mins": 1.2727272727272727,
          "zeit": 61.16666666666667,
          "zeit_ind": 3670
         },
         {
          "day": 7,
          "genotype": "mut",
          "light": true,
          "sleep-mins": 1.4090909090909092,
          "zeit": 61.33333333333333,
          "zeit_ind": 3680
         },
         {
          "day": 7,
          "genotype": "mut",
          "light": true,
          "sleep-mins": 1,
          "zeit": 61.5,
          "zeit_ind": 3690
         },
         {
          "day": 7,
          "genotype": "mut",
          "light": true,
          "sleep-mins": 1.4090909090909092,
          "zeit": 61.66666666666667,
          "zeit_ind": 3700
         },
         {
          "day": 7,
          "genotype": "mut",
          "light": true,
          "sleep-mins": 0.7727272727272727,
          "zeit": 61.83333333333333,
          "zeit_ind": 3710
         },
         {
          "day": 7,
          "genotype": "mut",
          "light": false,
          "sleep-mins": 1.1363636363636365,
          "zeit": 62,
          "zeit_ind": 3720
         },
         {
          "day": 7,
          "genotype": "mut",
          "light": false,
          "sleep-mins": 3,
          "zeit": 62.16666666666667,
          "zeit_ind": 3730
         },
         {
          "day": 7,
          "genotype": "mut",
          "light": false,
          "sleep-mins": 2.409090909090909,
          "zeit": 62.33333333333333,
          "zeit_ind": 3740
         },
         {
          "day": 7,
          "genotype": "mut",
          "light": false,
          "sleep-mins": 2.1818181818181817,
          "zeit": 62.5,
          "zeit_ind": 3750
         },
         {
          "day": 7,
          "genotype": "mut",
          "light": false,
          "sleep-mins": 2.1818181818181817,
          "zeit": 62.66666666666667,
          "zeit_ind": 3760
         },
         {
          "day": 7,
          "genotype": "mut",
          "light": false,
          "sleep-mins": 2.5454545454545454,
          "zeit": 62.83333333333333,
          "zeit_ind": 3770
         },
         {
          "day": 7,
          "genotype": "mut",
          "light": false,
          "sleep-mins": 2.3636363636363638,
          "zeit": 63,
          "zeit_ind": 3780
         },
         {
          "day": 7,
          "genotype": "mut",
          "light": false,
          "sleep-mins": 2.590909090909091,
          "zeit": 63.16666666666667,
          "zeit_ind": 3790
         },
         {
          "day": 7,
          "genotype": "mut",
          "light": false,
          "sleep-mins": 2.272727272727273,
          "zeit": 63.33333333333333,
          "zeit_ind": 3800
         },
         {
          "day": 7,
          "genotype": "mut",
          "light": false,
          "sleep-mins": 2.5,
          "zeit": 63.5,
          "zeit_ind": 3810
         },
         {
          "day": 7,
          "genotype": "mut",
          "light": false,
          "sleep-mins": 2.0454545454545454,
          "zeit": 63.66666666666667,
          "zeit_ind": 3820
         },
         {
          "day": 7,
          "genotype": "mut",
          "light": false,
          "sleep-mins": 2.227272727272727,
          "zeit": 63.83333333333333,
          "zeit_ind": 3830
         },
         {
          "day": 7,
          "genotype": "mut",
          "light": false,
          "sleep-mins": 2.9545454545454546,
          "zeit": 64,
          "zeit_ind": 3840
         },
         {
          "day": 7,
          "genotype": "mut",
          "light": false,
          "sleep-mins": 2.909090909090909,
          "zeit": 64.16666666666669,
          "zeit_ind": 3850
         },
         {
          "day": 7,
          "genotype": "mut",
          "light": false,
          "sleep-mins": 2.4545454545454546,
          "zeit": 64.33333333333331,
          "zeit_ind": 3860
         },
         {
          "day": 7,
          "genotype": "mut",
          "light": false,
          "sleep-mins": 2.5454545454545454,
          "zeit": 64.5,
          "zeit_ind": 3870
         },
         {
          "day": 7,
          "genotype": "mut",
          "light": false,
          "sleep-mins": 2.9545454545454546,
          "zeit": 64.66666666666669,
          "zeit_ind": 3880
         },
         {
          "day": 7,
          "genotype": "mut",
          "light": false,
          "sleep-mins": 3.6818181818181817,
          "zeit": 64.83333333333331,
          "zeit_ind": 3890
         },
         {
          "day": 7,
          "genotype": "mut",
          "light": false,
          "sleep-mins": 2.1818181818181817,
          "zeit": 65.00000000000001,
          "zeit_ind": 3900
         },
         {
          "day": 7,
          "genotype": "mut",
          "light": false,
          "sleep-mins": 2.6363636363636362,
          "zeit": 65.16666666666669,
          "zeit_ind": 3910
         },
         {
          "day": 7,
          "genotype": "mut",
          "light": false,
          "sleep-mins": 2.3181818181818183,
          "zeit": 65.33333333333333,
          "zeit_ind": 3920
         },
         {
          "day": 7,
          "genotype": "mut",
          "light": false,
          "sleep-mins": 1.8181818181818181,
          "zeit": 65.50000000000001,
          "zeit_ind": 3930
         },
         {
          "day": 7,
          "genotype": "mut",
          "light": false,
          "sleep-mins": 3.1363636363636362,
          "zeit": 65.66666666666669,
          "zeit_ind": 3940
         },
         {
          "day": 7,
          "genotype": "mut",
          "light": false,
          "sleep-mins": 2.272727272727273,
          "zeit": 65.83333333333333,
          "zeit_ind": 3950
         },
         {
          "day": 7,
          "genotype": "mut",
          "light": false,
          "sleep-mins": 2.0454545454545454,
          "zeit": 66.00000000000001,
          "zeit_ind": 3960
         },
         {
          "day": 7,
          "genotype": "mut",
          "light": false,
          "sleep-mins": 2.8181818181818183,
          "zeit": 66.16666666666669,
          "zeit_ind": 3970
         },
         {
          "day": 7,
          "genotype": "mut",
          "light": false,
          "sleep-mins": 3.1818181818181817,
          "zeit": 66.33333333333333,
          "zeit_ind": 3980
         },
         {
          "day": 7,
          "genotype": "mut",
          "light": false,
          "sleep-mins": 2.3636363636363638,
          "zeit": 66.50000000000001,
          "zeit_ind": 3990
         },
         {
          "day": 7,
          "genotype": "mut",
          "light": false,
          "sleep-mins": 2.6818181818181817,
          "zeit": 66.66666666666669,
          "zeit_ind": 4000
         },
         {
          "day": 7,
          "genotype": "mut",
          "light": false,
          "sleep-mins": 2.272727272727273,
          "zeit": 66.83333333333333,
          "zeit_ind": 4010
         },
         {
          "day": 7,
          "genotype": "mut",
          "light": false,
          "sleep-mins": 2.9545454545454546,
          "zeit": 67.00000000000001,
          "zeit_ind": 4020
         },
         {
          "day": 7,
          "genotype": "mut",
          "light": false,
          "sleep-mins": 2.6818181818181817,
          "zeit": 67.16666666666669,
          "zeit_ind": 4030
         },
         {
          "day": 7,
          "genotype": "mut",
          "light": false,
          "sleep-mins": 2.3636363636363638,
          "zeit": 67.33333333333333,
          "zeit_ind": 4040
         },
         {
          "day": 7,
          "genotype": "mut",
          "light": false,
          "sleep-mins": 3.090909090909091,
          "zeit": 67.50000000000001,
          "zeit_ind": 4050
         },
         {
          "day": 7,
          "genotype": "mut",
          "light": false,
          "sleep-mins": 2.227272727272727,
          "zeit": 67.66666666666669,
          "zeit_ind": 4060
         },
         {
          "day": 7,
          "genotype": "mut",
          "light": false,
          "sleep-mins": 2.272727272727273,
          "zeit": 67.83333333333333,
          "zeit_ind": 4070
         },
         {
          "day": 7,
          "genotype": "mut",
          "light": false,
          "sleep-mins": 2,
          "zeit": 68.00000000000001,
          "zeit_ind": 4080
         },
         {
          "day": 7,
          "genotype": "mut",
          "light": false,
          "sleep-mins": 2.3181818181818183,
          "zeit": 68.16666666666669,
          "zeit_ind": 4090
         },
         {
          "day": 7,
          "genotype": "mut",
          "light": false,
          "sleep-mins": 2.3181818181818183,
          "zeit": 68.33333333333333,
          "zeit_ind": 4100
         },
         {
          "day": 7,
          "genotype": "mut",
          "light": false,
          "sleep-mins": 2.727272727272727,
          "zeit": 68.50000000000001,
          "zeit_ind": 4110
         },
         {
          "day": 7,
          "genotype": "mut",
          "light": false,
          "sleep-mins": 2.8181818181818183,
          "zeit": 68.66666666666669,
          "zeit_ind": 4120
         },
         {
          "day": 7,
          "genotype": "mut",
          "light": false,
          "sleep-mins": 2.6818181818181817,
          "zeit": 68.83333333333333,
          "zeit_ind": 4130
         },
         {
          "day": 7,
          "genotype": "mut",
          "light": false,
          "sleep-mins": 2.6363636363636362,
          "zeit": 69.00000000000001,
          "zeit_ind": 4140
         },
         {
          "day": 7,
          "genotype": "mut",
          "light": false,
          "sleep-mins": 2,
          "zeit": 69.16666666666669,
          "zeit_ind": 4150
         },
         {
          "day": 7,
          "genotype": "mut",
          "light": false,
          "sleep-mins": 1.5909090909090908,
          "zeit": 69.33333333333333,
          "zeit_ind": 4160
         },
         {
          "day": 7,
          "genotype": "mut",
          "light": false,
          "sleep-mins": 2.6818181818181817,
          "zeit": 69.50000000000001,
          "zeit_ind": 4170
         },
         {
          "day": 7,
          "genotype": "mut",
          "light": false,
          "sleep-mins": 2.3181818181818183,
          "zeit": 69.66666666666669,
          "zeit_ind": 4180
         },
         {
          "day": 7,
          "genotype": "mut",
          "light": false,
          "sleep-mins": 2.0454545454545454,
          "zeit": 69.83333333333333,
          "zeit_ind": 4190
         },
         {
          "day": 7,
          "genotype": "mut",
          "light": false,
          "sleep-mins": 2.5,
          "zeit": 70.00000000000001,
          "zeit_ind": 4200
         },
         {
          "day": 7,
          "genotype": "mut",
          "light": false,
          "sleep-mins": 1.9545454545454546,
          "zeit": 70.16666666666669,
          "zeit_ind": 4210
         },
         {
          "day": 7,
          "genotype": "mut",
          "light": false,
          "sleep-mins": 1.6818181818181819,
          "zeit": 70.33333333333333,
          "zeit_ind": 4220
         },
         {
          "day": 7,
          "genotype": "mut",
          "light": false,
          "sleep-mins": 2.1818181818181817,
          "zeit": 70.50000000000001,
          "zeit_ind": 4230
         },
         {
          "day": 7,
          "genotype": "mut",
          "light": false,
          "sleep-mins": 2.6818181818181817,
          "zeit": 70.66666666666669,
          "zeit_ind": 4240
         },
         {
          "day": 7,
          "genotype": "mut",
          "light": false,
          "sleep-mins": 2.3181818181818183,
          "zeit": 70.83333333333333,
          "zeit_ind": 4250
         },
         {
          "day": 7,
          "genotype": "mut",
          "light": false,
          "sleep-mins": 2.590909090909091,
          "zeit": 71.00000000000001,
          "zeit_ind": 4260
         },
         {
          "day": 7,
          "genotype": "mut",
          "light": false,
          "sleep-mins": 2.590909090909091,
          "zeit": 71.16666666666669,
          "zeit_ind": 4270
         },
         {
          "day": 7,
          "genotype": "mut",
          "light": false,
          "sleep-mins": 2.727272727272727,
          "zeit": 71.33333333333333,
          "zeit_ind": 4280
         },
         {
          "day": 7,
          "genotype": "mut",
          "light": false,
          "sleep-mins": 2.590909090909091,
          "zeit": 71.50000000000001,
          "zeit_ind": 4290
         },
         {
          "day": 7,
          "genotype": "mut",
          "light": false,
          "sleep-mins": 2.3636363636363638,
          "zeit": 71.66666666666669,
          "zeit_ind": 4300
         },
         {
          "day": 7,
          "genotype": "mut",
          "light": false,
          "sleep-mins": 2.590909090909091,
          "zeit": 71.83333333333333,
          "zeit_ind": 4310
         },
         {
          "day": 8,
          "genotype": "mut",
          "light": true,
          "sleep-mins": 1.1363636363636365,
          "zeit": 72.00000000000001,
          "zeit_ind": 4320
         },
         {
          "day": 8,
          "genotype": "mut",
          "light": true,
          "sleep-mins": 0.5909090909090909,
          "zeit": 72.16666666666669,
          "zeit_ind": 4330
         },
         {
          "day": 8,
          "genotype": "mut",
          "light": true,
          "sleep-mins": 0.5,
          "zeit": 72.33333333333333,
          "zeit_ind": 4340
         },
         {
          "day": 8,
          "genotype": "mut",
          "light": true,
          "sleep-mins": 0.9545454545454546,
          "zeit": 72.50000000000001,
          "zeit_ind": 4350
         },
         {
          "day": 8,
          "genotype": "mut",
          "light": true,
          "sleep-mins": 0.7272727272727273,
          "zeit": 72.66666666666669,
          "zeit_ind": 4360
         },
         {
          "day": 8,
          "genotype": "mut",
          "light": true,
          "sleep-mins": 0.6363636363636364,
          "zeit": 72.83333333333331,
          "zeit_ind": 4370
         },
         {
          "day": 8,
          "genotype": "mut",
          "light": true,
          "sleep-mins": 0.5454545454545454,
          "zeit": 73,
          "zeit_ind": 4380
         },
         {
          "day": 8,
          "genotype": "mut",
          "light": true,
          "sleep-mins": 0.7727272727272727,
          "zeit": 73.16666666666669,
          "zeit_ind": 4390
         },
         {
          "day": 8,
          "genotype": "mut",
          "light": true,
          "sleep-mins": 0.7272727272727273,
          "zeit": 73.33333333333331,
          "zeit_ind": 4400
         },
         {
          "day": 8,
          "genotype": "mut",
          "light": true,
          "sleep-mins": 0.8636363636363636,
          "zeit": 73.5,
          "zeit_ind": 4410
         },
         {
          "day": 8,
          "genotype": "mut",
          "light": true,
          "sleep-mins": 0.8181818181818182,
          "zeit": 73.66666666666669,
          "zeit_ind": 4420
         },
         {
          "day": 8,
          "genotype": "mut",
          "light": true,
          "sleep-mins": 0.5454545454545454,
          "zeit": 73.83333333333331,
          "zeit_ind": 4430
         },
         {
          "day": 8,
          "genotype": "mut",
          "light": true,
          "sleep-mins": 0.6363636363636364,
          "zeit": 74,
          "zeit_ind": 4440
         },
         {
          "day": 8,
          "genotype": "mut",
          "light": true,
          "sleep-mins": 1.0454545454545454,
          "zeit": 74.16666666666669,
          "zeit_ind": 4450
         },
         {
          "day": 8,
          "genotype": "mut",
          "light": true,
          "sleep-mins": 1.2272727272727273,
          "zeit": 74.33333333333331,
          "zeit_ind": 4460
         },
         {
          "day": 8,
          "genotype": "mut",
          "light": true,
          "sleep-mins": 0.7727272727272727,
          "zeit": 74.5,
          "zeit_ind": 4470
         },
         {
          "day": 8,
          "genotype": "mut",
          "light": true,
          "sleep-mins": 1.0909090909090908,
          "zeit": 74.66666666666669,
          "zeit_ind": 4480
         },
         {
          "day": 8,
          "genotype": "mut",
          "light": true,
          "sleep-mins": 0.8636363636363636,
          "zeit": 74.83333333333331,
          "zeit_ind": 4490
         },
         {
          "day": 8,
          "genotype": "mut",
          "light": true,
          "sleep-mins": 0.9090909090909091,
          "zeit": 75,
          "zeit_ind": 4500
         },
         {
          "day": 4,
          "genotype": "wt",
          "light": true,
          "sleep-mins": 7.516339869281047,
          "zeit": -14.5,
          "zeit_ind": -869
         },
         {
          "day": 4,
          "genotype": "wt",
          "light": true,
          "sleep-mins": 6.705882352941177,
          "zeit": -14.333333333333337,
          "zeit_ind": -860
         },
         {
          "day": 4,
          "genotype": "wt",
          "light": true,
          "sleep-mins": 7.117647058823529,
          "zeit": -14.166666666666664,
          "zeit_ind": -850
         },
         {
          "day": 4,
          "genotype": "wt",
          "light": true,
          "sleep-mins": 6.529411764705882,
          "zeit": -14,
          "zeit_ind": -840
         },
         {
          "day": 4,
          "genotype": "wt",
          "light": true,
          "sleep-mins": 6.588235294117647,
          "zeit": -13.833333333333336,
          "zeit_ind": -830
         },
         {
          "day": 4,
          "genotype": "wt",
          "light": true,
          "sleep-mins": 8.235294117647058,
          "zeit": -13.666666666666664,
          "zeit_ind": -820
         },
         {
          "day": 4,
          "genotype": "wt",
          "light": true,
          "sleep-mins": 7.470588235294118,
          "zeit": -13.5,
          "zeit_ind": -810
         },
         {
          "day": 4,
          "genotype": "wt",
          "light": true,
          "sleep-mins": 8.294117647058824,
          "zeit": -13.333333333333336,
          "zeit_ind": -800
         },
         {
          "day": 4,
          "genotype": "wt",
          "light": true,
          "sleep-mins": 7.764705882352941,
          "zeit": -13.166666666666664,
          "zeit_ind": -790
         },
         {
          "day": 4,
          "genotype": "wt",
          "light": true,
          "sleep-mins": 7.882352941176471,
          "zeit": -13,
          "zeit_ind": -780
         },
         {
          "day": 4,
          "genotype": "wt",
          "light": true,
          "sleep-mins": 7.882352941176471,
          "zeit": -12.833333333333336,
          "zeit_ind": -770
         },
         {
          "day": 4,
          "genotype": "wt",
          "light": true,
          "sleep-mins": 6.882352941176471,
          "zeit": -12.666666666666664,
          "zeit_ind": -760
         },
         {
          "day": 4,
          "genotype": "wt",
          "light": true,
          "sleep-mins": 6.764705882352941,
          "zeit": -12.5,
          "zeit_ind": -750
         },
         {
          "day": 4,
          "genotype": "wt",
          "light": true,
          "sleep-mins": 7.0588235294117645,
          "zeit": -12.333333333333336,
          "zeit_ind": -740
         },
         {
          "day": 4,
          "genotype": "wt",
          "light": true,
          "sleep-mins": 7.176470588235294,
          "zeit": -12.166666666666664,
          "zeit_ind": -730
         },
         {
          "day": 4,
          "genotype": "wt",
          "light": true,
          "sleep-mins": 7.705882352941177,
          "zeit": -12,
          "zeit_ind": -720
         },
         {
          "day": 4,
          "genotype": "wt",
          "light": true,
          "sleep-mins": 7.294117647058823,
          "zeit": -11.833333333333336,
          "zeit_ind": -710
         },
         {
          "day": 4,
          "genotype": "wt",
          "light": true,
          "sleep-mins": 6.647058823529412,
          "zeit": -11.666666666666664,
          "zeit_ind": -700
         },
         {
          "day": 4,
          "genotype": "wt",
          "light": true,
          "sleep-mins": 6.882352941176471,
          "zeit": -11.5,
          "zeit_ind": -690
         },
         {
          "day": 4,
          "genotype": "wt",
          "light": true,
          "sleep-mins": 6.176470588235294,
          "zeit": -11.333333333333334,
          "zeit_ind": -680
         },
         {
          "day": 4,
          "genotype": "wt",
          "light": true,
          "sleep-mins": 6.117647058823529,
          "zeit": -11.166666666666666,
          "zeit_ind": -670
         },
         {
          "day": 4,
          "genotype": "wt",
          "light": true,
          "sleep-mins": 6.235294117647059,
          "zeit": -11,
          "zeit_ind": -660
         },
         {
          "day": 4,
          "genotype": "wt",
          "light": true,
          "sleep-mins": 6.764705882352941,
          "zeit": -10.833333333333334,
          "zeit_ind": -650
         },
         {
          "day": 4,
          "genotype": "wt",
          "light": true,
          "sleep-mins": 5.352941176470588,
          "zeit": -10.666666666666664,
          "zeit_ind": -640
         },
         {
          "day": 4,
          "genotype": "wt",
          "light": true,
          "sleep-mins": 6.823529411764706,
          "zeit": -10.5,
          "zeit_ind": -630
         },
         {
          "day": 4,
          "genotype": "wt",
          "light": true,
          "sleep-mins": 7.0588235294117645,
          "zeit": -10.333333333333334,
          "zeit_ind": -620
         },
         {
          "day": 4,
          "genotype": "wt",
          "light": true,
          "sleep-mins": 6.882352941176471,
          "zeit": -10.166666666666666,
          "zeit_ind": -610
         },
         {
          "day": 4,
          "genotype": "wt",
          "light": false,
          "sleep-mins": 2,
          "zeit": -10,
          "zeit_ind": -600
         },
         {
          "day": 4,
          "genotype": "wt",
          "light": false,
          "sleep-mins": 7.352941176470588,
          "zeit": -9.833333333333334,
          "zeit_ind": -590
         },
         {
          "day": 4,
          "genotype": "wt",
          "light": false,
          "sleep-mins": 7.294117647058823,
          "zeit": -9.666666666666666,
          "zeit_ind": -580
         },
         {
          "day": 4,
          "genotype": "wt",
          "light": false,
          "sleep-mins": 6.705882352941177,
          "zeit": -9.5,
          "zeit_ind": -570
         },
         {
          "day": 4,
          "genotype": "wt",
          "light": false,
          "sleep-mins": 7,
          "zeit": -9.333333333333334,
          "zeit_ind": -560
         },
         {
          "day": 4,
          "genotype": "wt",
          "light": false,
          "sleep-mins": 6.235294117647059,
          "zeit": -9.166666666666666,
          "zeit_ind": -550
         },
         {
          "day": 4,
          "genotype": "wt",
          "light": false,
          "sleep-mins": 6.176470588235294,
          "zeit": -9.000000000000002,
          "zeit_ind": -540
         },
         {
          "day": 4,
          "genotype": "wt",
          "light": false,
          "sleep-mins": 5.647058823529412,
          "zeit": -8.833333333333332,
          "zeit_ind": -530
         },
         {
          "day": 4,
          "genotype": "wt",
          "light": false,
          "sleep-mins": 5.470588235294118,
          "zeit": -8.66666666666667,
          "zeit_ind": -520
         },
         {
          "day": 4,
          "genotype": "wt",
          "light": false,
          "sleep-mins": 4.647058823529412,
          "zeit": -8.500000000000002,
          "zeit_ind": -510
         },
         {
          "day": 4,
          "genotype": "wt",
          "light": false,
          "sleep-mins": 5.235294117647059,
          "zeit": -8.333333333333332,
          "zeit_ind": -500
         },
         {
          "day": 4,
          "genotype": "wt",
          "light": false,
          "sleep-mins": 5.235294117647059,
          "zeit": -8.16666666666667,
          "zeit_ind": -490
         },
         {
          "day": 4,
          "genotype": "wt",
          "light": false,
          "sleep-mins": 5.294117647058823,
          "zeit": -8,
          "zeit_ind": -480
         },
         {
          "day": 4,
          "genotype": "wt",
          "light": false,
          "sleep-mins": 4.176470588235294,
          "zeit": -7.833333333333331,
          "zeit_ind": -470
         },
         {
          "day": 4,
          "genotype": "wt",
          "light": false,
          "sleep-mins": 4.882352941176471,
          "zeit": -7.666666666666669,
          "zeit_ind": -460
         },
         {
          "day": 4,
          "genotype": "wt",
          "light": false,
          "sleep-mins": 6.588235294117647,
          "zeit": -7.5,
          "zeit_ind": -450
         },
         {
          "day": 4,
          "genotype": "wt",
          "light": false,
          "sleep-mins": 4.882352941176471,
          "zeit": -7.333333333333331,
          "zeit_ind": -440
         },
         {
          "day": 4,
          "genotype": "wt",
          "light": false,
          "sleep-mins": 5.117647058823529,
          "zeit": -7.166666666666669,
          "zeit_ind": -430
         },
         {
          "day": 4,
          "genotype": "wt",
          "light": false,
          "sleep-mins": 4.9411764705882355,
          "zeit": -7,
          "zeit_ind": -420
         },
         {
          "day": 4,
          "genotype": "wt",
          "light": false,
          "sleep-mins": 5.470588235294118,
          "zeit": -6.833333333333332,
          "zeit_ind": -410
         },
         {
          "day": 4,
          "genotype": "wt",
          "light": false,
          "sleep-mins": 5.470588235294118,
          "zeit": -6.666666666666668,
          "zeit_ind": -400
         },
         {
          "day": 4,
          "genotype": "wt",
          "light": false,
          "sleep-mins": 4.647058823529412,
          "zeit": -6.5,
          "zeit_ind": -390
         },
         {
          "day": 4,
          "genotype": "wt",
          "light": false,
          "sleep-mins": 4.823529411764706,
          "zeit": -6.333333333333332,
          "zeit_ind": -380
         },
         {
          "day": 4,
          "genotype": "wt",
          "light": false,
          "sleep-mins": 3.8823529411764706,
          "zeit": -6.166666666666668,
          "zeit_ind": -370
         },
         {
          "day": 4,
          "genotype": "wt",
          "light": false,
          "sleep-mins": 5,
          "zeit": -6,
          "zeit_ind": -360
         },
         {
          "day": 4,
          "genotype": "wt",
          "light": false,
          "sleep-mins": 5.176470588235294,
          "zeit": -5.833333333333332,
          "zeit_ind": -350
         },
         {
          "day": 4,
          "genotype": "wt",
          "light": false,
          "sleep-mins": 5.176470588235294,
          "zeit": -5.666666666666667,
          "zeit_ind": -340
         },
         {
          "day": 4,
          "genotype": "wt",
          "light": false,
          "sleep-mins": 5.588235294117647,
          "zeit": -5.5,
          "zeit_ind": -330
         },
         {
          "day": 4,
          "genotype": "wt",
          "light": false,
          "sleep-mins": 4.764705882352941,
          "zeit": -5.333333333333332,
          "zeit_ind": -320
         },
         {
          "day": 4,
          "genotype": "wt",
          "light": false,
          "sleep-mins": 5.235294117647059,
          "zeit": -5.166666666666667,
          "zeit_ind": -310
         },
         {
          "day": 4,
          "genotype": "wt",
          "light": false,
          "sleep-mins": 4.823529411764706,
          "zeit": -5,
          "zeit_ind": -300
         },
         {
          "day": 4,
          "genotype": "wt",
          "light": false,
          "sleep-mins": 4.588235294117647,
          "zeit": -4.833333333333333,
          "zeit_ind": -290
         },
         {
          "day": 4,
          "genotype": "wt",
          "light": false,
          "sleep-mins": 5.882352941176471,
          "zeit": -4.666666666666667,
          "zeit_ind": -280
         },
         {
          "day": 4,
          "genotype": "wt",
          "light": false,
          "sleep-mins": 4.882352941176471,
          "zeit": -4.500000000000001,
          "zeit_ind": -270
         },
         {
          "day": 4,
          "genotype": "wt",
          "light": false,
          "sleep-mins": 4.0588235294117645,
          "zeit": -4.333333333333335,
          "zeit_ind": -260
         },
         {
          "day": 4,
          "genotype": "wt",
          "light": false,
          "sleep-mins": 4.0588235294117645,
          "zeit": -4.166666666666666,
          "zeit_ind": -250
         },
         {
          "day": 4,
          "genotype": "wt",
          "light": false,
          "sleep-mins": 4.294117647058823,
          "zeit": -4,
          "zeit_ind": -240
         },
         {
          "day": 4,
          "genotype": "wt",
          "light": false,
          "sleep-mins": 3.6470588235294117,
          "zeit": -3.8333333333333344,
          "zeit_ind": -230
         },
         {
          "day": 4,
          "genotype": "wt",
          "light": false,
          "sleep-mins": 2.9411764705882355,
          "zeit": -3.6666666666666656,
          "zeit_ind": -220
         },
         {
          "day": 4,
          "genotype": "wt",
          "light": false,
          "sleep-mins": 3.9411764705882355,
          "zeit": -3.5,
          "zeit_ind": -210
         },
         {
          "day": 4,
          "genotype": "wt",
          "light": false,
          "sleep-mins": 4.588235294117647,
          "zeit": -3.333333333333334,
          "zeit_ind": -200
         },
         {
          "day": 4,
          "genotype": "wt",
          "light": false,
          "sleep-mins": 3.4705882352941178,
          "zeit": -3.166666666666666,
          "zeit_ind": -190
         },
         {
          "day": 4,
          "genotype": "wt",
          "light": false,
          "sleep-mins": 4.117647058823529,
          "zeit": -3,
          "zeit_ind": -180
         },
         {
          "day": 4,
          "genotype": "wt",
          "light": false,
          "sleep-mins": 4.705882352941177,
          "zeit": -2.8333333333333335,
          "zeit_ind": -170
         },
         {
          "day": 4,
          "genotype": "wt",
          "light": false,
          "sleep-mins": 3.8823529411764706,
          "zeit": -2.666666666666666,
          "zeit_ind": -160
         },
         {
          "day": 4,
          "genotype": "wt",
          "light": false,
          "sleep-mins": 4.9411764705882355,
          "zeit": -2.5,
          "zeit_ind": -150
         },
         {
          "day": 4,
          "genotype": "wt",
          "light": false,
          "sleep-mins": 4.411764705882353,
          "zeit": -2.3333333333333335,
          "zeit_ind": -140
         },
         {
          "day": 4,
          "genotype": "wt",
          "light": false,
          "sleep-mins": 3.8823529411764706,
          "zeit": -2.1666666666666674,
          "zeit_ind": -130
         },
         {
          "day": 4,
          "genotype": "wt",
          "light": false,
          "sleep-mins": 4.529411764705882,
          "zeit": -2,
          "zeit_ind": -120
         },
         {
          "day": 4,
          "genotype": "wt",
          "light": false,
          "sleep-mins": 3.823529411764706,
          "zeit": -1.8333333333333328,
          "zeit_ind": -110
         },
         {
          "day": 4,
          "genotype": "wt",
          "light": false,
          "sleep-mins": 3.8823529411764706,
          "zeit": -1.666666666666667,
          "zeit_ind": -100
         },
         {
          "day": 4,
          "genotype": "wt",
          "light": false,
          "sleep-mins": 4.176470588235294,
          "zeit": -1.5,
          "zeit_ind": -90
         },
         {
          "day": 4,
          "genotype": "wt",
          "light": false,
          "sleep-mins": 3.8823529411764706,
          "zeit": -1.333333333333333,
          "zeit_ind": -80
         },
         {
          "day": 4,
          "genotype": "wt",
          "light": false,
          "sleep-mins": 4.235294117647059,
          "zeit": -1.1666666666666667,
          "zeit_ind": -70
         },
         {
          "day": 4,
          "genotype": "wt",
          "light": false,
          "sleep-mins": 4.823529411764706,
          "zeit": -1,
          "zeit_ind": -60
         },
         {
          "day": 4,
          "genotype": "wt",
          "light": false,
          "sleep-mins": 5.588235294117647,
          "zeit": -0.8333333333333335,
          "zeit_ind": -50
         },
         {
          "day": 4,
          "genotype": "wt",
          "light": false,
          "sleep-mins": 3.6470588235294117,
          "zeit": -0.6666666666666665,
          "zeit_ind": -40
         },
         {
          "day": 4,
          "genotype": "wt",
          "light": false,
          "sleep-mins": 4.352941176470588,
          "zeit": -0.5,
          "zeit_ind": -30
         },
         {
          "day": 4,
          "genotype": "wt",
          "light": false,
          "sleep-mins": 3.411764705882353,
          "zeit": -0.33333333333333326,
          "zeit_ind": -20
         },
         {
          "day": 4,
          "genotype": "wt",
          "light": false,
          "sleep-mins": 3.4705882352941178,
          "zeit": -0.16666666666666663,
          "zeit_ind": -10
         },
         {
          "day": 5,
          "genotype": "wt",
          "light": true,
          "sleep-mins": 1,
          "zeit": 0,
          "zeit_ind": 0
         },
         {
          "day": 5,
          "genotype": "wt",
          "light": true,
          "sleep-mins": 1.8823529411764706,
          "zeit": 0.16666666666666663,
          "zeit_ind": 10
         },
         {
          "day": 5,
          "genotype": "wt",
          "light": true,
          "sleep-mins": 1.7058823529411764,
          "zeit": 0.33333333333333326,
          "zeit_ind": 20
         },
         {
          "day": 5,
          "genotype": "wt",
          "light": true,
          "sleep-mins": 2.764705882352941,
          "zeit": 0.5,
          "zeit_ind": 30
         },
         {
          "day": 5,
          "genotype": "wt",
          "light": true,
          "sleep-mins": 2.411764705882353,
          "zeit": 0.6666666666666665,
          "zeit_ind": 40
         },
         {
          "day": 5,
          "genotype": "wt",
          "light": true,
          "sleep-mins": 2.411764705882353,
          "zeit": 0.8333333333333335,
          "zeit_ind": 50
         },
         {
          "day": 5,
          "genotype": "wt",
          "light": true,
          "sleep-mins": 2.4705882352941178,
          "zeit": 1,
          "zeit_ind": 60
         },
         {
          "day": 5,
          "genotype": "wt",
          "light": true,
          "sleep-mins": 2.176470588235294,
          "zeit": 1.1666666666666667,
          "zeit_ind": 70
         },
         {
          "day": 5,
          "genotype": "wt",
          "light": true,
          "sleep-mins": 2.9411764705882355,
          "zeit": 1.333333333333333,
          "zeit_ind": 80
         },
         {
          "day": 5,
          "genotype": "wt",
          "light": true,
          "sleep-mins": 2.6470588235294117,
          "zeit": 1.5,
          "zeit_ind": 90
         },
         {
          "day": 5,
          "genotype": "wt",
          "light": true,
          "sleep-mins": 1.1176470588235294,
          "zeit": 1.666666666666667,
          "zeit_ind": 100
         },
         {
          "day": 5,
          "genotype": "wt",
          "light": true,
          "sleep-mins": 1.7058823529411764,
          "zeit": 1.8333333333333328,
          "zeit_ind": 110
         },
         {
          "day": 5,
          "genotype": "wt",
          "light": true,
          "sleep-mins": 1.7058823529411764,
          "zeit": 2,
          "zeit_ind": 120
         },
         {
          "day": 5,
          "genotype": "wt",
          "light": true,
          "sleep-mins": 2,
          "zeit": 2.1666666666666674,
          "zeit_ind": 130
         },
         {
          "day": 5,
          "genotype": "wt",
          "light": true,
          "sleep-mins": 1.5294117647058822,
          "zeit": 2.3333333333333335,
          "zeit_ind": 140
         },
         {
          "day": 5,
          "genotype": "wt",
          "light": true,
          "sleep-mins": 1.4705882352941178,
          "zeit": 2.5,
          "zeit_ind": 150
         },
         {
          "day": 5,
          "genotype": "wt",
          "light": true,
          "sleep-mins": 1.588235294117647,
          "zeit": 2.666666666666666,
          "zeit_ind": 160
         },
         {
          "day": 5,
          "genotype": "wt",
          "light": true,
          "sleep-mins": 1.5294117647058822,
          "zeit": 2.8333333333333335,
          "zeit_ind": 170
         },
         {
          "day": 5,
          "genotype": "wt",
          "light": true,
          "sleep-mins": 1.588235294117647,
          "zeit": 3,
          "zeit_ind": 180
         },
         {
          "day": 5,
          "genotype": "wt",
          "light": true,
          "sleep-mins": 1.2941176470588236,
          "zeit": 3.166666666666666,
          "zeit_ind": 190
         },
         {
          "day": 5,
          "genotype": "wt",
          "light": true,
          "sleep-mins": 1.588235294117647,
          "zeit": 3.333333333333334,
          "zeit_ind": 200
         },
         {
          "day": 5,
          "genotype": "wt",
          "light": true,
          "sleep-mins": 1.588235294117647,
          "zeit": 3.5,
          "zeit_ind": 210
         },
         {
          "day": 5,
          "genotype": "wt",
          "light": true,
          "sleep-mins": 1.7058823529411764,
          "zeit": 3.6666666666666656,
          "zeit_ind": 220
         },
         {
          "day": 5,
          "genotype": "wt",
          "light": true,
          "sleep-mins": 1.6470588235294117,
          "zeit": 3.8333333333333344,
          "zeit_ind": 230
         },
         {
          "day": 5,
          "genotype": "wt",
          "light": true,
          "sleep-mins": 1.1764705882352942,
          "zeit": 4,
          "zeit_ind": 240
         },
         {
          "day": 5,
          "genotype": "wt",
          "light": true,
          "sleep-mins": 0.8823529411764706,
          "zeit": 4.166666666666666,
          "zeit_ind": 250
         },
         {
          "day": 5,
          "genotype": "wt",
          "light": true,
          "sleep-mins": 1.1764705882352942,
          "zeit": 4.333333333333335,
          "zeit_ind": 260
         },
         {
          "day": 5,
          "genotype": "wt",
          "light": true,
          "sleep-mins": 2.235294117647059,
          "zeit": 4.500000000000001,
          "zeit_ind": 270
         },
         {
          "day": 5,
          "genotype": "wt",
          "light": true,
          "sleep-mins": 1.6470588235294117,
          "zeit": 4.666666666666667,
          "zeit_ind": 280
         },
         {
          "day": 5,
          "genotype": "wt",
          "light": true,
          "sleep-mins": 1.7058823529411764,
          "zeit": 4.833333333333333,
          "zeit_ind": 290
         },
         {
          "day": 5,
          "genotype": "wt",
          "light": true,
          "sleep-mins": 0.9411764705882353,
          "zeit": 5,
          "zeit_ind": 300
         },
         {
          "day": 5,
          "genotype": "wt",
          "light": true,
          "sleep-mins": 0.8823529411764706,
          "zeit": 5.166666666666667,
          "zeit_ind": 310
         },
         {
          "day": 5,
          "genotype": "wt",
          "light": true,
          "sleep-mins": 1.588235294117647,
          "zeit": 5.333333333333332,
          "zeit_ind": 320
         },
         {
          "day": 5,
          "genotype": "wt",
          "light": true,
          "sleep-mins": 1.1176470588235294,
          "zeit": 5.5,
          "zeit_ind": 330
         },
         {
          "day": 5,
          "genotype": "wt",
          "light": true,
          "sleep-mins": 1.1764705882352942,
          "zeit": 5.666666666666667,
          "zeit_ind": 340
         },
         {
          "day": 5,
          "genotype": "wt",
          "light": true,
          "sleep-mins": 0.6470588235294118,
          "zeit": 5.833333333333332,
          "zeit_ind": 350
         },
         {
          "day": 5,
          "genotype": "wt",
          "light": true,
          "sleep-mins": 1,
          "zeit": 6,
          "zeit_ind": 360
         },
         {
          "day": 5,
          "genotype": "wt",
          "light": true,
          "sleep-mins": 0.8235294117647058,
          "zeit": 6.166666666666668,
          "zeit_ind": 370
         },
         {
          "day": 5,
          "genotype": "wt",
          "light": true,
          "sleep-mins": 0.7058823529411765,
          "zeit": 6.333333333333332,
          "zeit_ind": 380
         },
         {
          "day": 5,
          "genotype": "wt",
          "light": true,
          "sleep-mins": 0.5882352941176471,
          "zeit": 6.5,
          "zeit_ind": 390
         },
         {
          "day": 5,
          "genotype": "wt",
          "light": true,
          "sleep-mins": 0.9411764705882353,
          "zeit": 6.666666666666668,
          "zeit_ind": 400
         },
         {
          "day": 5,
          "genotype": "wt",
          "light": true,
          "sleep-mins": 0.7647058823529411,
          "zeit": 6.833333333333332,
          "zeit_ind": 410
         },
         {
          "day": 5,
          "genotype": "wt",
          "light": true,
          "sleep-mins": 0,
          "zeit": 7,
          "zeit_ind": 420
         },
         {
          "day": 5,
          "genotype": "wt",
          "light": true,
          "sleep-mins": 1.3529411764705883,
          "zeit": 7.166666666666669,
          "zeit_ind": 431
         },
         {
          "day": 5,
          "genotype": "wt",
          "light": true,
          "sleep-mins": 1.9411764705882353,
          "zeit": 7.333333333333331,
          "zeit_ind": 441
         },
         {
          "day": 5,
          "genotype": "wt",
          "light": true,
          "sleep-mins": 1.1764705882352942,
          "zeit": 7.5,
          "zeit_ind": 451
         },
         {
          "day": 5,
          "genotype": "wt",
          "light": true,
          "sleep-mins": 1.0588235294117647,
          "zeit": 7.666666666666669,
          "zeit_ind": 461
         },
         {
          "day": 5,
          "genotype": "wt",
          "light": true,
          "sleep-mins": 0.7058823529411765,
          "zeit": 7.833333333333331,
          "zeit_ind": 471
         },
         {
          "day": 5,
          "genotype": "wt",
          "light": true,
          "sleep-mins": 0.8823529411764706,
          "zeit": 8,
          "zeit_ind": 481
         },
         {
          "day": 5,
          "genotype": "wt",
          "light": true,
          "sleep-mins": 1.2941176470588236,
          "zeit": 8.16666666666667,
          "zeit_ind": 491
         },
         {
          "day": 5,
          "genotype": "wt",
          "light": true,
          "sleep-mins": 1.5294117647058822,
          "zeit": 8.333333333333332,
          "zeit_ind": 501
         },
         {
          "day": 5,
          "genotype": "wt",
          "light": true,
          "sleep-mins": 1.1176470588235294,
          "zeit": 8.500000000000002,
          "zeit_ind": 511
         },
         {
          "day": 5,
          "genotype": "wt",
          "light": true,
          "sleep-mins": 0.47058823529411764,
          "zeit": 8.66666666666667,
          "zeit_ind": 521
         },
         {
          "day": 5,
          "genotype": "wt",
          "light": true,
          "sleep-mins": 1.2352941176470589,
          "zeit": 8.833333333333332,
          "zeit_ind": 531
         },
         {
          "day": 5,
          "genotype": "wt",
          "light": true,
          "sleep-mins": 0.8235294117647058,
          "zeit": 9.000000000000002,
          "zeit_ind": 541
         },
         {
          "day": 5,
          "genotype": "wt",
          "light": true,
          "sleep-mins": 0.4117647058823529,
          "zeit": 9.166666666666666,
          "zeit_ind": 551
         },
         {
          "day": 5,
          "genotype": "wt",
          "light": true,
          "sleep-mins": 0.4117647058823529,
          "zeit": 9.333333333333334,
          "zeit_ind": 561
         },
         {
          "day": 5,
          "genotype": "wt",
          "light": true,
          "sleep-mins": 0.7058823529411765,
          "zeit": 9.5,
          "zeit_ind": 571
         },
         {
          "day": 5,
          "genotype": "wt",
          "light": true,
          "sleep-mins": 0.5882352941176471,
          "zeit": 9.666666666666666,
          "zeit_ind": 581
         },
         {
          "day": 5,
          "genotype": "wt",
          "light": true,
          "sleep-mins": 0.29411764705882354,
          "zeit": 9.833333333333334,
          "zeit_ind": 591
         },
         {
          "day": 5,
          "genotype": "wt",
          "light": true,
          "sleep-mins": 0.11764705882352941,
          "zeit": 10,
          "zeit_ind": 601
         },
         {
          "day": 5,
          "genotype": "wt",
          "light": true,
          "sleep-mins": 0.23529411764705882,
          "zeit": 10.166666666666666,
          "zeit_ind": 611
         },
         {
          "day": 5,
          "genotype": "wt",
          "light": true,
          "sleep-mins": 0.6470588235294118,
          "zeit": 10.333333333333334,
          "zeit_ind": 621
         },
         {
          "day": 5,
          "genotype": "wt",
          "light": true,
          "sleep-mins": 0.35294117647058826,
          "zeit": 10.5,
          "zeit_ind": 631
         },
         {
          "day": 5,
          "genotype": "wt",
          "light": true,
          "sleep-mins": 0.11764705882352941,
          "zeit": 10.666666666666664,
          "zeit_ind": 641
         },
         {
          "day": 5,
          "genotype": "wt",
          "light": true,
          "sleep-mins": 0.11764705882352941,
          "zeit": 10.833333333333334,
          "zeit_ind": 651
         },
         {
          "day": 5,
          "genotype": "wt",
          "light": true,
          "sleep-mins": 0.23529411764705882,
          "zeit": 11,
          "zeit_ind": 661
         },
         {
          "day": 5,
          "genotype": "wt",
          "light": true,
          "sleep-mins": 0,
          "zeit": 11.166666666666666,
          "zeit_ind": 671
         },
         {
          "day": 5,
          "genotype": "wt",
          "light": true,
          "sleep-mins": 0,
          "zeit": 11.333333333333334,
          "zeit_ind": 681
         },
         {
          "day": 5,
          "genotype": "wt",
          "light": true,
          "sleep-mins": 0,
          "zeit": 11.5,
          "zeit_ind": 691
         },
         {
          "day": 5,
          "genotype": "wt",
          "light": true,
          "sleep-mins": 0.058823529411764705,
          "zeit": 11.666666666666664,
          "zeit_ind": 701
         },
         {
          "day": 5,
          "genotype": "wt",
          "light": true,
          "sleep-mins": 0.058823529411764705,
          "zeit": 11.833333333333336,
          "zeit_ind": 711
         },
         {
          "day": 5,
          "genotype": "wt",
          "light": true,
          "sleep-mins": 0,
          "zeit": 12,
          "zeit_ind": 721
         },
         {
          "day": 5,
          "genotype": "wt",
          "light": true,
          "sleep-mins": 0,
          "zeit": 12.166666666666664,
          "zeit_ind": 731
         },
         {
          "day": 5,
          "genotype": "wt",
          "light": true,
          "sleep-mins": 0,
          "zeit": 12.333333333333336,
          "zeit_ind": 741
         },
         {
          "day": 5,
          "genotype": "wt",
          "light": true,
          "sleep-mins": 0,
          "zeit": 12.5,
          "zeit_ind": 751
         },
         {
          "day": 5,
          "genotype": "wt",
          "light": true,
          "sleep-mins": 0,
          "zeit": 12.666666666666664,
          "zeit_ind": 761
         },
         {
          "day": 5,
          "genotype": "wt",
          "light": true,
          "sleep-mins": 0,
          "zeit": 12.833333333333336,
          "zeit_ind": 771
         },
         {
          "day": 5,
          "genotype": "wt",
          "light": true,
          "sleep-mins": 0.29411764705882354,
          "zeit": 13,
          "zeit_ind": 781
         },
         {
          "day": 5,
          "genotype": "wt",
          "light": true,
          "sleep-mins": 0.058823529411764705,
          "zeit": 13.166666666666664,
          "zeit_ind": 791
         },
         {
          "day": 5,
          "genotype": "wt",
          "light": true,
          "sleep-mins": 0.5294117647058824,
          "zeit": 13.333333333333336,
          "zeit_ind": 801
         },
         {
          "day": 5,
          "genotype": "wt",
          "light": true,
          "sleep-mins": 0.29411764705882354,
          "zeit": 13.5,
          "zeit_ind": 811
         },
         {
          "day": 5,
          "genotype": "wt",
          "light": true,
          "sleep-mins": 0.17647058823529413,
          "zeit": 13.666666666666664,
          "zeit_ind": 821
         },
         {
          "day": 5,
          "genotype": "wt",
          "light": true,
          "sleep-mins": 0.23529411764705882,
          "zeit": 13.833333333333336,
          "zeit_ind": 831
         },
         {
          "day": 5,
          "genotype": "wt",
          "light": false,
          "sleep-mins": 0.7058823529411765,
          "zeit": 14,
          "zeit_ind": 841
         },
         {
          "day": 5,
          "genotype": "wt",
          "light": false,
          "sleep-mins": 3.3529411764705883,
          "zeit": 14.166666666666664,
          "zeit_ind": 851
         },
         {
          "day": 5,
          "genotype": "wt",
          "light": false,
          "sleep-mins": 3.4705882352941178,
          "zeit": 14.333333333333337,
          "zeit_ind": 861
         },
         {
          "day": 5,
          "genotype": "wt",
          "light": false,
          "sleep-mins": 2.823529411764706,
          "zeit": 14.5,
          "zeit_ind": 871
         },
         {
          "day": 5,
          "genotype": "wt",
          "light": false,
          "sleep-mins": 4.294117647058823,
          "zeit": 14.666666666666663,
          "zeit_ind": 881
         },
         {
          "day": 5,
          "genotype": "wt",
          "light": false,
          "sleep-mins": 2.4705882352941178,
          "zeit": 14.833333333333337,
          "zeit_ind": 891
         },
         {
          "day": 5,
          "genotype": "wt",
          "light": false,
          "sleep-mins": 3.4705882352941178,
          "zeit": 15,
          "zeit_ind": 901
         },
         {
          "day": 5,
          "genotype": "wt",
          "light": false,
          "sleep-mins": 3,
          "zeit": 15.166666666666663,
          "zeit_ind": 911
         },
         {
          "day": 5,
          "genotype": "wt",
          "light": false,
          "sleep-mins": 3.235294117647059,
          "zeit": 15.333333333333337,
          "zeit_ind": 921
         },
         {
          "day": 5,
          "genotype": "wt",
          "light": false,
          "sleep-mins": 2.6470588235294117,
          "zeit": 15.5,
          "zeit_ind": 931
         },
         {
          "day": 5,
          "genotype": "wt",
          "light": false,
          "sleep-mins": 3.9411764705882355,
          "zeit": 15.666666666666663,
          "zeit_ind": 941
         },
         {
          "day": 5,
          "genotype": "wt",
          "light": false,
          "sleep-mins": 4.235294117647059,
          "zeit": 15.833333333333337,
          "zeit_ind": 951
         },
         {
          "day": 5,
          "genotype": "wt",
          "light": false,
          "sleep-mins": 3.0588235294117645,
          "zeit": 16,
          "zeit_ind": 961
         },
         {
          "day": 5,
          "genotype": "wt",
          "light": false,
          "sleep-mins": 4.117647058823529,
          "zeit": 16.166666666666664,
          "zeit_ind": 971
         },
         {
          "day": 5,
          "genotype": "wt",
          "light": false,
          "sleep-mins": 3.5294117647058822,
          "zeit": 16.33333333333334,
          "zeit_ind": 981
         },
         {
          "day": 5,
          "genotype": "wt",
          "light": false,
          "sleep-mins": 3.8823529411764706,
          "zeit": 16.500000000000004,
          "zeit_ind": 991
         },
         {
          "day": 5,
          "genotype": "wt",
          "light": false,
          "sleep-mins": 4.294117647058823,
          "zeit": 16.666666666666664,
          "zeit_ind": 1001
         },
         {
          "day": 5,
          "genotype": "wt",
          "light": false,
          "sleep-mins": 2.5294117647058822,
          "zeit": 16.83333333333334,
          "zeit_ind": 1011
         },
         {
          "day": 5,
          "genotype": "wt",
          "light": false,
          "sleep-mins": 3.411764705882353,
          "zeit": 17.000000000000004,
          "zeit_ind": 1021
         },
         {
          "day": 5,
          "genotype": "wt",
          "light": false,
          "sleep-mins": 3.7058823529411766,
          "zeit": 17.166666666666664,
          "zeit_ind": 1031
         },
         {
          "day": 5,
          "genotype": "wt",
          "light": false,
          "sleep-mins": 4.235294117647059,
          "zeit": 17.33333333333334,
          "zeit_ind": 1041
         },
         {
          "day": 5,
          "genotype": "wt",
          "light": false,
          "sleep-mins": 4.117647058823529,
          "zeit": 17.500000000000004,
          "zeit_ind": 1051
         },
         {
          "day": 5,
          "genotype": "wt",
          "light": false,
          "sleep-mins": 3.8823529411764706,
          "zeit": 17.666666666666664,
          "zeit_ind": 1061
         },
         {
          "day": 5,
          "genotype": "wt",
          "light": false,
          "sleep-mins": 4.764705882352941,
          "zeit": 17.83333333333334,
          "zeit_ind": 1071
         },
         {
          "day": 5,
          "genotype": "wt",
          "light": false,
          "sleep-mins": 4.176470588235294,
          "zeit": 18.000000000000004,
          "zeit_ind": 1081
         },
         {
          "day": 5,
          "genotype": "wt",
          "light": false,
          "sleep-mins": 4.823529411764706,
          "zeit": 18.166666666666664,
          "zeit_ind": 1091
         },
         {
          "day": 5,
          "genotype": "wt",
          "light": false,
          "sleep-mins": 3.5294117647058822,
          "zeit": 18.333333333333332,
          "zeit_ind": 1101
         },
         {
          "day": 5,
          "genotype": "wt",
          "light": false,
          "sleep-mins": 4.529411764705882,
          "zeit": 18.5,
          "zeit_ind": 1111
         },
         {
          "day": 5,
          "genotype": "wt",
          "light": false,
          "sleep-mins": 3.823529411764706,
          "zeit": 18.666666666666668,
          "zeit_ind": 1121
         },
         {
          "day": 5,
          "genotype": "wt",
          "light": false,
          "sleep-mins": 4.647058823529412,
          "zeit": 18.833333333333332,
          "zeit_ind": 1131
         },
         {
          "day": 5,
          "genotype": "wt",
          "light": false,
          "sleep-mins": 4.0588235294117645,
          "zeit": 19,
          "zeit_ind": 1141
         },
         {
          "day": 5,
          "genotype": "wt",
          "light": false,
          "sleep-mins": 4.176470588235294,
          "zeit": 19.166666666666668,
          "zeit_ind": 1151
         },
         {
          "day": 5,
          "genotype": "wt",
          "light": false,
          "sleep-mins": 4.117647058823529,
          "zeit": 19.333333333333332,
          "zeit_ind": 1161
         },
         {
          "day": 5,
          "genotype": "wt",
          "light": false,
          "sleep-mins": 4.588235294117647,
          "zeit": 19.5,
          "zeit_ind": 1171
         },
         {
          "day": 5,
          "genotype": "wt",
          "light": false,
          "sleep-mins": 4.647058823529412,
          "zeit": 19.666666666666668,
          "zeit_ind": 1181
         },
         {
          "day": 5,
          "genotype": "wt",
          "light": false,
          "sleep-mins": 3.823529411764706,
          "zeit": 19.833333333333332,
          "zeit_ind": 1191
         },
         {
          "day": 5,
          "genotype": "wt",
          "light": false,
          "sleep-mins": 4,
          "zeit": 20,
          "zeit_ind": 1201
         },
         {
          "day": 5,
          "genotype": "wt",
          "light": false,
          "sleep-mins": 3.411764705882353,
          "zeit": 20.166666666666668,
          "zeit_ind": 1211
         },
         {
          "day": 5,
          "genotype": "wt",
          "light": false,
          "sleep-mins": 2.411764705882353,
          "zeit": 20.333333333333332,
          "zeit_ind": 1221
         },
         {
          "day": 5,
          "genotype": "wt",
          "light": false,
          "sleep-mins": 3.235294117647059,
          "zeit": 20.5,
          "zeit_ind": 1231
         },
         {
          "day": 5,
          "genotype": "wt",
          "light": false,
          "sleep-mins": 4.294117647058823,
          "zeit": 20.666666666666668,
          "zeit_ind": 1241
         },
         {
          "day": 5,
          "genotype": "wt",
          "light": false,
          "sleep-mins": 4.0588235294117645,
          "zeit": 20.833333333333332,
          "zeit_ind": 1251
         },
         {
          "day": 5,
          "genotype": "wt",
          "light": false,
          "sleep-mins": 4.235294117647059,
          "zeit": 21,
          "zeit_ind": 1261
         },
         {
          "day": 5,
          "genotype": "wt",
          "light": false,
          "sleep-mins": 3.8823529411764706,
          "zeit": 21.166666666666668,
          "zeit_ind": 1271
         },
         {
          "day": 5,
          "genotype": "wt",
          "light": false,
          "sleep-mins": 3.3529411764705883,
          "zeit": 21.33333333333333,
          "zeit_ind": 1281
         },
         {
          "day": 5,
          "genotype": "wt",
          "light": false,
          "sleep-mins": 4.176470588235294,
          "zeit": 21.5,
          "zeit_ind": 1291
         },
         {
          "day": 5,
          "genotype": "wt",
          "light": false,
          "sleep-mins": 4.411764705882353,
          "zeit": 21.666666666666668,
          "zeit_ind": 1301
         },
         {
          "day": 5,
          "genotype": "wt",
          "light": false,
          "sleep-mins": 4.882352941176471,
          "zeit": 21.833333333333332,
          "zeit_ind": 1311
         },
         {
          "day": 5,
          "genotype": "wt",
          "light": false,
          "sleep-mins": 4.235294117647059,
          "zeit": 22,
          "zeit_ind": 1321
         },
         {
          "day": 5,
          "genotype": "wt",
          "light": false,
          "sleep-mins": 3.411764705882353,
          "zeit": 22.166666666666668,
          "zeit_ind": 1331
         },
         {
          "day": 5,
          "genotype": "wt",
          "light": false,
          "sleep-mins": 4.294117647058823,
          "zeit": 22.333333333333332,
          "zeit_ind": 1341
         },
         {
          "day": 5,
          "genotype": "wt",
          "light": false,
          "sleep-mins": 3.7058823529411766,
          "zeit": 22.5,
          "zeit_ind": 1351
         },
         {
          "day": 5,
          "genotype": "wt",
          "light": false,
          "sleep-mins": 4.352941176470588,
          "zeit": 22.666666666666668,
          "zeit_ind": 1361
         },
         {
          "day": 5,
          "genotype": "wt",
          "light": false,
          "sleep-mins": 4.411764705882353,
          "zeit": 22.833333333333332,
          "zeit_ind": 1371
         },
         {
          "day": 5,
          "genotype": "wt",
          "light": false,
          "sleep-mins": 4,
          "zeit": 23,
          "zeit_ind": 1381
         },
         {
          "day": 5,
          "genotype": "wt",
          "light": false,
          "sleep-mins": 5.0588235294117645,
          "zeit": 23.166666666666668,
          "zeit_ind": 1391
         },
         {
          "day": 5,
          "genotype": "wt",
          "light": false,
          "sleep-mins": 5.411764705882353,
          "zeit": 23.33333333333333,
          "zeit_ind": 1401
         },
         {
          "day": 5,
          "genotype": "wt",
          "light": false,
          "sleep-mins": 4.647058823529412,
          "zeit": 23.5,
          "zeit_ind": 1411
         },
         {
          "day": 5,
          "genotype": "wt",
          "light": false,
          "sleep-mins": 4.529411764705882,
          "zeit": 23.66666666666667,
          "zeit_ind": 1421
         },
         {
          "day": 5,
          "genotype": "wt",
          "light": false,
          "sleep-mins": 4.705882352941177,
          "zeit": 23.83333333333333,
          "zeit_ind": 1431
         },
         {
          "day": 6,
          "genotype": "wt",
          "light": true,
          "sleep-mins": 0.47058823529411764,
          "zeit": 24,
          "zeit_ind": 1441
         },
         {
          "day": 6,
          "genotype": "wt",
          "light": true,
          "sleep-mins": 0,
          "zeit": 24.16666666666667,
          "zeit_ind": 1451
         },
         {
          "day": 6,
          "genotype": "wt",
          "light": true,
          "sleep-mins": 0,
          "zeit": 24.33333333333333,
          "zeit_ind": 1461
         },
         {
          "day": 6,
          "genotype": "wt",
          "light": true,
          "sleep-mins": 0.11764705882352941,
          "zeit": 24.5,
          "zeit_ind": 1471
         },
         {
          "day": 6,
          "genotype": "wt",
          "light": true,
          "sleep-mins": 0.23529411764705882,
          "zeit": 24.66666666666667,
          "zeit_ind": 1481
         },
         {
          "day": 6,
          "genotype": "wt",
          "light": true,
          "sleep-mins": 0,
          "zeit": 24.83333333333333,
          "zeit_ind": 1491
         },
         {
          "day": 6,
          "genotype": "wt",
          "light": true,
          "sleep-mins": 0.058823529411764705,
          "zeit": 25,
          "zeit_ind": 1501
         },
         {
          "day": 6,
          "genotype": "wt",
          "light": true,
          "sleep-mins": 0.11764705882352941,
          "zeit": 25.16666666666667,
          "zeit_ind": 1511
         },
         {
          "day": 6,
          "genotype": "wt",
          "light": true,
          "sleep-mins": 0.058823529411764705,
          "zeit": 25.33333333333333,
          "zeit_ind": 1521
         },
         {
          "day": 6,
          "genotype": "wt",
          "light": true,
          "sleep-mins": 0,
          "zeit": 25.5,
          "zeit_ind": 1531
         },
         {
          "day": 6,
          "genotype": "wt",
          "light": true,
          "sleep-mins": 0.058823529411764705,
          "zeit": 25.66666666666667,
          "zeit_ind": 1541
         },
         {
          "day": 6,
          "genotype": "wt",
          "light": true,
          "sleep-mins": 0.11764705882352941,
          "zeit": 25.83333333333333,
          "zeit_ind": 1551
         },
         {
          "day": 6,
          "genotype": "wt",
          "light": true,
          "sleep-mins": 0,
          "zeit": 26,
          "zeit_ind": 1561
         },
         {
          "day": 6,
          "genotype": "wt",
          "light": true,
          "sleep-mins": 0.23529411764705882,
          "zeit": 26.16666666666667,
          "zeit_ind": 1571
         },
         {
          "day": 6,
          "genotype": "wt",
          "light": true,
          "sleep-mins": 0.29411764705882354,
          "zeit": 26.33333333333333,
          "zeit_ind": 1581
         },
         {
          "day": 6,
          "genotype": "wt",
          "light": true,
          "sleep-mins": 0.11764705882352941,
          "zeit": 26.5,
          "zeit_ind": 1591
         },
         {
          "day": 6,
          "genotype": "wt",
          "light": true,
          "sleep-mins": 0.11764705882352941,
          "zeit": 26.66666666666667,
          "zeit_ind": 1601
         },
         {
          "day": 6,
          "genotype": "wt",
          "light": true,
          "sleep-mins": 0.058823529411764705,
          "zeit": 26.83333333333333,
          "zeit_ind": 1611
         },
         {
          "day": 6,
          "genotype": "wt",
          "light": true,
          "sleep-mins": 0,
          "zeit": 27,
          "zeit_ind": 1621
         },
         {
          "day": 6,
          "genotype": "wt",
          "light": true,
          "sleep-mins": 0.058823529411764705,
          "zeit": 27.16666666666667,
          "zeit_ind": 1631
         },
         {
          "day": 6,
          "genotype": "wt",
          "light": true,
          "sleep-mins": 0.058823529411764705,
          "zeit": 27.33333333333333,
          "zeit_ind": 1641
         },
         {
          "day": 6,
          "genotype": "wt",
          "light": true,
          "sleep-mins": 0.058823529411764705,
          "zeit": 27.5,
          "zeit_ind": 1651
         },
         {
          "day": 6,
          "genotype": "wt",
          "light": true,
          "sleep-mins": 0.23529411764705882,
          "zeit": 27.66666666666667,
          "zeit_ind": 1661
         },
         {
          "day": 6,
          "genotype": "wt",
          "light": true,
          "sleep-mins": 0.5294117647058824,
          "zeit": 27.83333333333333,
          "zeit_ind": 1671
         },
         {
          "day": 6,
          "genotype": "wt",
          "light": true,
          "sleep-mins": 0.23529411764705882,
          "zeit": 28,
          "zeit_ind": 1681
         },
         {
          "day": 6,
          "genotype": "wt",
          "light": true,
          "sleep-mins": 0.17647058823529413,
          "zeit": 28.16666666666667,
          "zeit_ind": 1691
         },
         {
          "day": 6,
          "genotype": "wt",
          "light": true,
          "sleep-mins": 0.058823529411764705,
          "zeit": 28.33333333333333,
          "zeit_ind": 1701
         },
         {
          "day": 6,
          "genotype": "wt",
          "light": true,
          "sleep-mins": 0.058823529411764705,
          "zeit": 28.5,
          "zeit_ind": 1711
         },
         {
          "day": 6,
          "genotype": "wt",
          "light": true,
          "sleep-mins": 0.29411764705882354,
          "zeit": 28.666666666666675,
          "zeit_ind": 1721
         },
         {
          "day": 6,
          "genotype": "wt",
          "light": true,
          "sleep-mins": 0.17647058823529413,
          "zeit": 28.833333333333325,
          "zeit_ind": 1731
         },
         {
          "day": 6,
          "genotype": "wt",
          "light": true,
          "sleep-mins": 0.29411764705882354,
          "zeit": 29,
          "zeit_ind": 1741
         },
         {
          "day": 6,
          "genotype": "wt",
          "light": true,
          "sleep-mins": 0.058823529411764705,
          "zeit": 29.166666666666675,
          "zeit_ind": 1751
         },
         {
          "day": 6,
          "genotype": "wt",
          "light": true,
          "sleep-mins": 0.4117647058823529,
          "zeit": 29.333333333333325,
          "zeit_ind": 1761
         },
         {
          "day": 6,
          "genotype": "wt",
          "light": true,
          "sleep-mins": 0.17647058823529413,
          "zeit": 29.5,
          "zeit_ind": 1771
         },
         {
          "day": 6,
          "genotype": "wt",
          "light": true,
          "sleep-mins": 0.4117647058823529,
          "zeit": 29.666666666666675,
          "zeit_ind": 1781
         },
         {
          "day": 6,
          "genotype": "wt",
          "light": true,
          "sleep-mins": 0.6470588235294118,
          "zeit": 29.833333333333325,
          "zeit_ind": 1791
         },
         {
          "day": 6,
          "genotype": "wt",
          "light": true,
          "sleep-mins": 0.5294117647058824,
          "zeit": 30,
          "zeit_ind": 1801
         },
         {
          "day": 6,
          "genotype": "wt",
          "light": true,
          "sleep-mins": 0.5294117647058824,
          "zeit": 30.166666666666675,
          "zeit_ind": 1811
         },
         {
          "day": 6,
          "genotype": "wt",
          "light": true,
          "sleep-mins": 0.5294117647058824,
          "zeit": 30.333333333333325,
          "zeit_ind": 1821
         },
         {
          "day": 6,
          "genotype": "wt",
          "light": true,
          "sleep-mins": 0.29411764705882354,
          "zeit": 30.5,
          "zeit_ind": 1831
         },
         {
          "day": 6,
          "genotype": "wt",
          "light": true,
          "sleep-mins": 0.7058823529411765,
          "zeit": 30.666666666666675,
          "zeit_ind": 1841
         },
         {
          "day": 6,
          "genotype": "wt",
          "light": true,
          "sleep-mins": 0.35294117647058826,
          "zeit": 30.833333333333325,
          "zeit_ind": 1851
         },
         {
          "day": 6,
          "genotype": "wt",
          "light": true,
          "sleep-mins": 0.5882352941176471,
          "zeit": 31,
          "zeit_ind": 1861
         },
         {
          "day": 6,
          "genotype": "wt",
          "light": true,
          "sleep-mins": 0.7058823529411765,
          "zeit": 31.166666666666675,
          "zeit_ind": 1871
         },
         {
          "day": 6,
          "genotype": "wt",
          "light": true,
          "sleep-mins": 0.5294117647058824,
          "zeit": 31.333333333333325,
          "zeit_ind": 1881
         },
         {
          "day": 6,
          "genotype": "wt",
          "light": true,
          "sleep-mins": 0.6470588235294118,
          "zeit": 31.5,
          "zeit_ind": 1891
         },
         {
          "day": 6,
          "genotype": "wt",
          "light": true,
          "sleep-mins": 0.11764705882352941,
          "zeit": 31.666666666666675,
          "zeit_ind": 1901
         },
         {
          "day": 6,
          "genotype": "wt",
          "light": true,
          "sleep-mins": 0.17647058823529413,
          "zeit": 31.833333333333325,
          "zeit_ind": 1911
         },
         {
          "day": 6,
          "genotype": "wt",
          "light": true,
          "sleep-mins": 0.17647058823529413,
          "zeit": 32,
          "zeit_ind": 1921
         },
         {
          "day": 6,
          "genotype": "wt",
          "light": true,
          "sleep-mins": 0.4117647058823529,
          "zeit": 32.16666666666667,
          "zeit_ind": 1931
         },
         {
          "day": 6,
          "genotype": "wt",
          "light": true,
          "sleep-mins": 0.29411764705882354,
          "zeit": 32.33333333333333,
          "zeit_ind": 1941
         },
         {
          "day": 6,
          "genotype": "wt",
          "light": true,
          "sleep-mins": 0.4117647058823529,
          "zeit": 32.50000000000001,
          "zeit_ind": 1951
         },
         {
          "day": 6,
          "genotype": "wt",
          "light": true,
          "sleep-mins": 0.058823529411764705,
          "zeit": 32.66666666666668,
          "zeit_ind": 1961
         },
         {
          "day": 6,
          "genotype": "wt",
          "light": true,
          "sleep-mins": 1.2352941176470589,
          "zeit": 32.83333333333333,
          "zeit_ind": 1971
         },
         {
          "day": 6,
          "genotype": "wt",
          "light": true,
          "sleep-mins": 0.35294117647058826,
          "zeit": 33.00000000000001,
          "zeit_ind": 1981
         },
         {
          "day": 6,
          "genotype": "wt",
          "light": true,
          "sleep-mins": 0,
          "zeit": 33.16666666666668,
          "zeit_ind": 1991
         },
         {
          "day": 6,
          "genotype": "wt",
          "light": true,
          "sleep-mins": 0.4117647058823529,
          "zeit": 33.33333333333333,
          "zeit_ind": 2001
         },
         {
          "day": 6,
          "genotype": "wt",
          "light": true,
          "sleep-mins": 0.29411764705882354,
          "zeit": 33.50000000000001,
          "zeit_ind": 2011
         },
         {
          "day": 6,
          "genotype": "wt",
          "light": true,
          "sleep-mins": 0.17647058823529413,
          "zeit": 33.66666666666668,
          "zeit_ind": 2021
         },
         {
          "day": 6,
          "genotype": "wt",
          "light": true,
          "sleep-mins": 0.17647058823529413,
          "zeit": 33.83333333333333,
          "zeit_ind": 2031
         },
         {
          "day": 6,
          "genotype": "wt",
          "light": true,
          "sleep-mins": 0.058823529411764705,
          "zeit": 34.00000000000001,
          "zeit_ind": 2041
         },
         {
          "day": 6,
          "genotype": "wt",
          "light": true,
          "sleep-mins": 0.5882352941176471,
          "zeit": 34.16666666666668,
          "zeit_ind": 2051
         },
         {
          "day": 6,
          "genotype": "wt",
          "light": true,
          "sleep-mins": 0.29411764705882354,
          "zeit": 34.33333333333333,
          "zeit_ind": 2061
         },
         {
          "day": 6,
          "genotype": "wt",
          "light": true,
          "sleep-mins": 0.35294117647058826,
          "zeit": 34.50000000000001,
          "zeit_ind": 2071
         },
         {
          "day": 6,
          "genotype": "wt",
          "light": true,
          "sleep-mins": 0.6470588235294118,
          "zeit": 34.66666666666668,
          "zeit_ind": 2081
         },
         {
          "day": 6,
          "genotype": "wt",
          "light": true,
          "sleep-mins": 0.6470588235294118,
          "zeit": 34.83333333333333,
          "zeit_ind": 2091
         },
         {
          "day": 6,
          "genotype": "wt",
          "light": true,
          "sleep-mins": 0.29411764705882354,
          "zeit": 35.00000000000001,
          "zeit_ind": 2101
         },
         {
          "day": 6,
          "genotype": "wt",
          "light": true,
          "sleep-mins": 0.5882352941176471,
          "zeit": 35.16666666666668,
          "zeit_ind": 2111
         },
         {
          "day": 6,
          "genotype": "wt",
          "light": true,
          "sleep-mins": 0.35294117647058826,
          "zeit": 35.33333333333333,
          "zeit_ind": 2121
         },
         {
          "day": 6,
          "genotype": "wt",
          "light": true,
          "sleep-mins": 0.5882352941176471,
          "zeit": 35.50000000000001,
          "zeit_ind": 2131
         },
         {
          "day": 6,
          "genotype": "wt",
          "light": true,
          "sleep-mins": 0.23529411764705882,
          "zeit": 35.66666666666668,
          "zeit_ind": 2141
         },
         {
          "day": 6,
          "genotype": "wt",
          "light": true,
          "sleep-mins": 0.058823529411764705,
          "zeit": 35.83333333333333,
          "zeit_ind": 2151
         },
         {
          "day": 6,
          "genotype": "wt",
          "light": true,
          "sleep-mins": 0.23529411764705882,
          "zeit": 36.00000000000001,
          "zeit_ind": 2161
         },
         {
          "day": 6,
          "genotype": "wt",
          "light": true,
          "sleep-mins": 0.35294117647058826,
          "zeit": 36.16666666666668,
          "zeit_ind": 2171
         },
         {
          "day": 6,
          "genotype": "wt",
          "light": true,
          "sleep-mins": 0.4117647058823529,
          "zeit": 36.33333333333333,
          "zeit_ind": 2181
         },
         {
          "day": 6,
          "genotype": "wt",
          "light": true,
          "sleep-mins": 0.7647058823529411,
          "zeit": 36.5,
          "zeit_ind": 2191
         },
         {
          "day": 6,
          "genotype": "wt",
          "light": true,
          "sleep-mins": 0.5294117647058824,
          "zeit": 36.666666666666664,
          "zeit_ind": 2201
         },
         {
          "day": 6,
          "genotype": "wt",
          "light": true,
          "sleep-mins": 0.35294117647058826,
          "zeit": 36.833333333333336,
          "zeit_ind": 2211
         },
         {
          "day": 6,
          "genotype": "wt",
          "light": true,
          "sleep-mins": 0,
          "zeit": 37,
          "zeit_ind": 2221
         },
         {
          "day": 6,
          "genotype": "wt",
          "light": true,
          "sleep-mins": 0.47058823529411764,
          "zeit": 37.166666666666664,
          "zeit_ind": 2231
         },
         {
          "day": 6,
          "genotype": "wt",
          "light": true,
          "sleep-mins": 0.6470588235294118,
          "zeit": 37.333333333333336,
          "zeit_ind": 2241
         },
         {
          "day": 6,
          "genotype": "wt",
          "light": true,
          "sleep-mins": 0.9411764705882353,
          "zeit": 37.5,
          "zeit_ind": 2251
         },
         {
          "day": 6,
          "genotype": "wt",
          "light": true,
          "sleep-mins": 0.47058823529411764,
          "zeit": 37.666666666666664,
          "zeit_ind": 2261
         },
         {
          "day": 6,
          "genotype": "wt",
          "light": true,
          "sleep-mins": 0.4117647058823529,
          "zeit": 37.833333333333336,
          "zeit_ind": 2271
         },
         {
          "day": 6,
          "genotype": "wt",
          "light": false,
          "sleep-mins": 0.8823529411764706,
          "zeit": 38,
          "zeit_ind": 2281
         },
         {
          "day": 6,
          "genotype": "wt",
          "light": false,
          "sleep-mins": 3.823529411764706,
          "zeit": 38.166666666666664,
          "zeit_ind": 2291
         },
         {
          "day": 6,
          "genotype": "wt",
          "light": false,
          "sleep-mins": 4,
          "zeit": 38.333333333333336,
          "zeit_ind": 2301
         },
         {
          "day": 6,
          "genotype": "wt",
          "light": false,
          "sleep-mins": 3.235294117647059,
          "zeit": 38.5,
          "zeit_ind": 2311
         },
         {
          "day": 6,
          "genotype": "wt",
          "light": false,
          "sleep-mins": 2.5294117647058822,
          "zeit": 38.666666666666664,
          "zeit_ind": 2321
         },
         {
          "day": 6,
          "genotype": "wt",
          "light": false,
          "sleep-mins": 2.7058823529411766,
          "zeit": 38.833333333333336,
          "zeit_ind": 2331
         },
         {
          "day": 6,
          "genotype": "wt",
          "light": false,
          "sleep-mins": 3.235294117647059,
          "zeit": 39,
          "zeit_ind": 2341
         },
         {
          "day": 6,
          "genotype": "wt",
          "light": false,
          "sleep-mins": 2.5294117647058822,
          "zeit": 39.166666666666664,
          "zeit_ind": 2351
         },
         {
          "day": 6,
          "genotype": "wt",
          "light": false,
          "sleep-mins": 3.5294117647058822,
          "zeit": 39.333333333333336,
          "zeit_ind": 2361
         },
         {
          "day": 6,
          "genotype": "wt",
          "light": false,
          "sleep-mins": 2.764705882352941,
          "zeit": 39.5,
          "zeit_ind": 2371
         },
         {
          "day": 6,
          "genotype": "wt",
          "light": false,
          "sleep-mins": 2.5294117647058822,
          "zeit": 39.666666666666664,
          "zeit_ind": 2381
         },
         {
          "day": 6,
          "genotype": "wt",
          "light": false,
          "sleep-mins": 2.8823529411764706,
          "zeit": 39.833333333333336,
          "zeit_ind": 2391
         },
         {
          "day": 6,
          "genotype": "wt",
          "light": false,
          "sleep-mins": 2.3529411764705883,
          "zeit": 40,
          "zeit_ind": 2401
         },
         {
          "day": 6,
          "genotype": "wt",
          "light": false,
          "sleep-mins": 2.823529411764706,
          "zeit": 40.166666666666664,
          "zeit_ind": 2411
         },
         {
          "day": 6,
          "genotype": "wt",
          "light": false,
          "sleep-mins": 4.117647058823529,
          "zeit": 40.333333333333336,
          "zeit_ind": 2421
         },
         {
          "day": 6,
          "genotype": "wt",
          "light": false,
          "sleep-mins": 3.411764705882353,
          "zeit": 40.5,
          "zeit_ind": 2431
         },
         {
          "day": 6,
          "genotype": "wt",
          "light": false,
          "sleep-mins": 3.4705882352941178,
          "zeit": 40.666666666666664,
          "zeit_ind": 2441
         },
         {
          "day": 6,
          "genotype": "wt",
          "light": false,
          "sleep-mins": 4.0588235294117645,
          "zeit": 40.833333333333336,
          "zeit_ind": 2451
         },
         {
          "day": 6,
          "genotype": "wt",
          "light": false,
          "sleep-mins": 3.4705882352941178,
          "zeit": 41,
          "zeit_ind": 2461
         },
         {
          "day": 6,
          "genotype": "wt",
          "light": false,
          "sleep-mins": 2.6470588235294117,
          "zeit": 41.166666666666664,
          "zeit_ind": 2471
         },
         {
          "day": 6,
          "genotype": "wt",
          "light": false,
          "sleep-mins": 2.9411764705882355,
          "zeit": 41.333333333333336,
          "zeit_ind": 2481
         },
         {
          "day": 6,
          "genotype": "wt",
          "light": false,
          "sleep-mins": 3.6470588235294117,
          "zeit": 41.5,
          "zeit_ind": 2491
         },
         {
          "day": 6,
          "genotype": "wt",
          "light": false,
          "sleep-mins": 3.7058823529411766,
          "zeit": 41.666666666666664,
          "zeit_ind": 2501
         },
         {
          "day": 6,
          "genotype": "wt",
          "light": false,
          "sleep-mins": 3.3529411764705883,
          "zeit": 41.833333333333336,
          "zeit_ind": 2511
         },
         {
          "day": 6,
          "genotype": "wt",
          "light": false,
          "sleep-mins": 3.5294117647058822,
          "zeit": 42,
          "zeit_ind": 2521
         },
         {
          "day": 6,
          "genotype": "wt",
          "light": false,
          "sleep-mins": 3.6470588235294117,
          "zeit": 42.166666666666664,
          "zeit_ind": 2531
         },
         {
          "day": 6,
          "genotype": "wt",
          "light": false,
          "sleep-mins": 2.9411764705882355,
          "zeit": 42.333333333333336,
          "zeit_ind": 2541
         },
         {
          "day": 6,
          "genotype": "wt",
          "light": false,
          "sleep-mins": 3.411764705882353,
          "zeit": 42.5,
          "zeit_ind": 2551
         },
         {
          "day": 6,
          "genotype": "wt",
          "light": false,
          "sleep-mins": 3.3529411764705883,
          "zeit": 42.66666666666666,
          "zeit_ind": 2561
         },
         {
          "day": 6,
          "genotype": "wt",
          "light": false,
          "sleep-mins": 3.176470588235294,
          "zeit": 42.833333333333336,
          "zeit_ind": 2571
         },
         {
          "day": 6,
          "genotype": "wt",
          "light": false,
          "sleep-mins": 3.7058823529411766,
          "zeit": 43,
          "zeit_ind": 2581
         },
         {
          "day": 6,
          "genotype": "wt",
          "light": false,
          "sleep-mins": 2.823529411764706,
          "zeit": 43.166666666666664,
          "zeit_ind": 2591
         },
         {
          "day": 6,
          "genotype": "wt",
          "light": false,
          "sleep-mins": 3.6470588235294117,
          "zeit": 43.333333333333336,
          "zeit_ind": 2601
         },
         {
          "day": 6,
          "genotype": "wt",
          "light": false,
          "sleep-mins": 2.823529411764706,
          "zeit": 43.5,
          "zeit_ind": 2611
         },
         {
          "day": 6,
          "genotype": "wt",
          "light": false,
          "sleep-mins": 2.7058823529411766,
          "zeit": 43.666666666666664,
          "zeit_ind": 2621
         },
         {
          "day": 6,
          "genotype": "wt",
          "light": false,
          "sleep-mins": 3.3529411764705883,
          "zeit": 43.833333333333336,
          "zeit_ind": 2631
         },
         {
          "day": 6,
          "genotype": "wt",
          "light": false,
          "sleep-mins": 2.235294117647059,
          "zeit": 44,
          "zeit_ind": 2641
         },
         {
          "day": 6,
          "genotype": "wt",
          "light": false,
          "sleep-mins": 3.0588235294117645,
          "zeit": 44.166666666666664,
          "zeit_ind": 2651
         },
         {
          "day": 6,
          "genotype": "wt",
          "light": false,
          "sleep-mins": 3.9411764705882355,
          "zeit": 44.333333333333336,
          "zeit_ind": 2661
         },
         {
          "day": 6,
          "genotype": "wt",
          "light": false,
          "sleep-mins": 3.588235294117647,
          "zeit": 44.5,
          "zeit_ind": 2671
         },
         {
          "day": 6,
          "genotype": "wt",
          "light": false,
          "sleep-mins": 2.5294117647058822,
          "zeit": 44.666666666666664,
          "zeit_ind": 2681
         },
         {
          "day": 6,
          "genotype": "wt",
          "light": false,
          "sleep-mins": 2.5294117647058822,
          "zeit": 44.833333333333336,
          "zeit_ind": 2691
         },
         {
          "day": 6,
          "genotype": "wt",
          "light": false,
          "sleep-mins": 4.117647058823529,
          "zeit": 45,
          "zeit_ind": 2701
         },
         {
          "day": 6,
          "genotype": "wt",
          "light": false,
          "sleep-mins": 3.2941176470588234,
          "zeit": 45.166666666666664,
          "zeit_ind": 2711
         },
         {
          "day": 6,
          "genotype": "wt",
          "light": false,
          "sleep-mins": 3.8823529411764706,
          "zeit": 45.333333333333336,
          "zeit_ind": 2721
         },
         {
          "day": 6,
          "genotype": "wt",
          "light": false,
          "sleep-mins": 2.1176470588235294,
          "zeit": 45.5,
          "zeit_ind": 2731
         },
         {
          "day": 6,
          "genotype": "wt",
          "light": false,
          "sleep-mins": 2.9411764705882355,
          "zeit": 45.666666666666664,
          "zeit_ind": 2741
         },
         {
          "day": 6,
          "genotype": "wt",
          "light": false,
          "sleep-mins": 3.588235294117647,
          "zeit": 45.833333333333336,
          "zeit_ind": 2751
         },
         {
          "day": 6,
          "genotype": "wt",
          "light": false,
          "sleep-mins": 3.4705882352941178,
          "zeit": 46,
          "zeit_ind": 2761
         },
         {
          "day": 6,
          "genotype": "wt",
          "light": false,
          "sleep-mins": 3.3529411764705883,
          "zeit": 46.166666666666664,
          "zeit_ind": 2771
         },
         {
          "day": 6,
          "genotype": "wt",
          "light": false,
          "sleep-mins": 3.0588235294117645,
          "zeit": 46.333333333333336,
          "zeit_ind": 2781
         },
         {
          "day": 6,
          "genotype": "wt",
          "light": false,
          "sleep-mins": 3.6470588235294117,
          "zeit": 46.5,
          "zeit_ind": 2791
         },
         {
          "day": 6,
          "genotype": "wt",
          "light": false,
          "sleep-mins": 3.411764705882353,
          "zeit": 46.66666666666666,
          "zeit_ind": 2801
         },
         {
          "day": 6,
          "genotype": "wt",
          "light": false,
          "sleep-mins": 3.9411764705882355,
          "zeit": 46.83333333333334,
          "zeit_ind": 2811
         },
         {
          "day": 6,
          "genotype": "wt",
          "light": false,
          "sleep-mins": 3.8823529411764706,
          "zeit": 47,
          "zeit_ind": 2821
         },
         {
          "day": 6,
          "genotype": "wt",
          "light": false,
          "sleep-mins": 3.9411764705882355,
          "zeit": 47.16666666666666,
          "zeit_ind": 2831
         },
         {
          "day": 6,
          "genotype": "wt",
          "light": false,
          "sleep-mins": 5,
          "zeit": 47.33333333333334,
          "zeit_ind": 2841
         },
         {
          "day": 6,
          "genotype": "wt",
          "light": false,
          "sleep-mins": 4.588235294117647,
          "zeit": 47.5,
          "zeit_ind": 2851
         },
         {
          "day": 6,
          "genotype": "wt",
          "light": false,
          "sleep-mins": 3.7058823529411766,
          "zeit": 47.66666666666666,
          "zeit_ind": 2861
         },
         {
          "day": 6,
          "genotype": "wt",
          "light": false,
          "sleep-mins": 4.0588235294117645,
          "zeit": 47.83333333333334,
          "zeit_ind": 2871
         },
         {
          "day": 7,
          "genotype": "wt",
          "light": true,
          "sleep-mins": 0.17647058823529413,
          "zeit": 48,
          "zeit_ind": 2881
         },
         {
          "day": 7,
          "genotype": "wt",
          "light": true,
          "sleep-mins": 0,
          "zeit": 48.16666666666666,
          "zeit_ind": 2891
         },
         {
          "day": 7,
          "genotype": "wt",
          "light": true,
          "sleep-mins": 0,
          "zeit": 48.33333333333334,
          "zeit_ind": 2901
         },
         {
          "day": 7,
          "genotype": "wt",
          "light": true,
          "sleep-mins": 0.29411764705882354,
          "zeit": 48.5,
          "zeit_ind": 2911
         },
         {
          "day": 7,
          "genotype": "wt",
          "light": true,
          "sleep-mins": 0.17647058823529413,
          "zeit": 48.66666666666666,
          "zeit_ind": 2921
         },
         {
          "day": 7,
          "genotype": "wt",
          "light": true,
          "sleep-mins": 0.058823529411764705,
          "zeit": 48.83333333333334,
          "zeit_ind": 2931
         },
         {
          "day": 7,
          "genotype": "wt",
          "light": true,
          "sleep-mins": 0.35294117647058826,
          "zeit": 49,
          "zeit_ind": 2941
         },
         {
          "day": 7,
          "genotype": "wt",
          "light": true,
          "sleep-mins": 0.17647058823529413,
          "zeit": 49.16666666666666,
          "zeit_ind": 2951
         },
         {
          "day": 7,
          "genotype": "wt",
          "light": true,
          "sleep-mins": 0.17647058823529413,
          "zeit": 49.33333333333334,
          "zeit_ind": 2961
         },
         {
          "day": 7,
          "genotype": "wt",
          "light": true,
          "sleep-mins": 0.47058823529411764,
          "zeit": 49.5,
          "zeit_ind": 2971
         },
         {
          "day": 7,
          "genotype": "wt",
          "light": true,
          "sleep-mins": 0.11764705882352941,
          "zeit": 49.66666666666666,
          "zeit_ind": 2981
         },
         {
          "day": 7,
          "genotype": "wt",
          "light": true,
          "sleep-mins": 0.17647058823529413,
          "zeit": 49.83333333333334,
          "zeit_ind": 2991
         },
         {
          "day": 7,
          "genotype": "wt",
          "light": true,
          "sleep-mins": 0.058823529411764705,
          "zeit": 50,
          "zeit_ind": 3001
         },
         {
          "day": 7,
          "genotype": "wt",
          "light": true,
          "sleep-mins": 0,
          "zeit": 50.16666666666666,
          "zeit_ind": 3011
         },
         {
          "day": 7,
          "genotype": "wt",
          "light": true,
          "sleep-mins": 0.4117647058823529,
          "zeit": 50.33333333333334,
          "zeit_ind": 3021
         },
         {
          "day": 7,
          "genotype": "wt",
          "light": true,
          "sleep-mins": 0.29411764705882354,
          "zeit": 50.5,
          "zeit_ind": 3031
         },
         {
          "day": 7,
          "genotype": "wt",
          "light": true,
          "sleep-mins": 0.11764705882352941,
          "zeit": 50.66666666666666,
          "zeit_ind": 3041
         },
         {
          "day": 7,
          "genotype": "wt",
          "light": true,
          "sleep-mins": 0.6470588235294118,
          "zeit": 50.83333333333334,
          "zeit_ind": 3051
         },
         {
          "day": 7,
          "genotype": "wt",
          "light": true,
          "sleep-mins": 0.29411764705882354,
          "zeit": 51,
          "zeit_ind": 3061
         },
         {
          "day": 7,
          "genotype": "wt",
          "light": true,
          "sleep-mins": 0.47058823529411764,
          "zeit": 51.16666666666666,
          "zeit_ind": 3071
         },
         {
          "day": 7,
          "genotype": "wt",
          "light": true,
          "sleep-mins": 0.17647058823529413,
          "zeit": 51.33333333333334,
          "zeit_ind": 3081
         },
         {
          "day": 7,
          "genotype": "wt",
          "light": true,
          "sleep-mins": 0.22058823529411764,
          "zeit": 51.5,
          "zeit_ind": 3091
         },
         {
          "day": 7,
          "genotype": "wt",
          "light": true,
          "sleep-mins": 0.14705882352941177,
          "zeit": 51.66666666666666,
          "zeit_ind": 3102
         },
         {
          "day": 7,
          "genotype": "wt",
          "light": true,
          "sleep-mins": 0.29411764705882354,
          "zeit": 51.83333333333334,
          "zeit_ind": 3110
         },
         {
          "day": 7,
          "genotype": "wt",
          "light": true,
          "sleep-mins": 0.47058823529411764,
          "zeit": 52,
          "zeit_ind": 3120
         },
         {
          "day": 7,
          "genotype": "wt",
          "light": true,
          "sleep-mins": 0.17647058823529413,
          "zeit": 52.16666666666666,
          "zeit_ind": 3130
         },
         {
          "day": 7,
          "genotype": "wt",
          "light": true,
          "sleep-mins": 0.17647058823529413,
          "zeit": 52.33333333333334,
          "zeit_ind": 3140
         },
         {
          "day": 7,
          "genotype": "wt",
          "light": true,
          "sleep-mins": 0.4117647058823529,
          "zeit": 52.5,
          "zeit_ind": 3150
         },
         {
          "day": 7,
          "genotype": "wt",
          "light": true,
          "sleep-mins": 0.29411764705882354,
          "zeit": 52.66666666666666,
          "zeit_ind": 3160
         },
         {
          "day": 7,
          "genotype": "wt",
          "light": true,
          "sleep-mins": 0.17647058823529413,
          "zeit": 52.83333333333334,
          "zeit_ind": 3170
         },
         {
          "day": 7,
          "genotype": "wt",
          "light": true,
          "sleep-mins": 0.5294117647058824,
          "zeit": 53,
          "zeit_ind": 3180
         },
         {
          "day": 7,
          "genotype": "wt",
          "light": true,
          "sleep-mins": 0.29411764705882354,
          "zeit": 53.16666666666666,
          "zeit_ind": 3190
         },
         {
          "day": 7,
          "genotype": "wt",
          "light": true,
          "sleep-mins": 0.17647058823529413,
          "zeit": 53.33333333333334,
          "zeit_ind": 3200
         },
         {
          "day": 7,
          "genotype": "wt",
          "light": true,
          "sleep-mins": 0.35294117647058826,
          "zeit": 53.5,
          "zeit_ind": 3210
         },
         {
          "day": 7,
          "genotype": "wt",
          "light": true,
          "sleep-mins": 0.8235294117647058,
          "zeit": 53.66666666666666,
          "zeit_ind": 3220
         },
         {
          "day": 7,
          "genotype": "wt",
          "light": true,
          "sleep-mins": 0.8235294117647058,
          "zeit": 53.83333333333334,
          "zeit_ind": 3230
         },
         {
          "day": 7,
          "genotype": "wt",
          "light": true,
          "sleep-mins": 0.47058823529411764,
          "zeit": 54,
          "zeit_ind": 3240
         },
         {
          "day": 7,
          "genotype": "wt",
          "light": true,
          "sleep-mins": 0.17647058823529413,
          "zeit": 54.16666666666666,
          "zeit_ind": 3250
         },
         {
          "day": 7,
          "genotype": "wt",
          "light": true,
          "sleep-mins": 0.29411764705882354,
          "zeit": 54.33333333333334,
          "zeit_ind": 3260
         },
         {
          "day": 7,
          "genotype": "wt",
          "light": true,
          "sleep-mins": 0.5294117647058824,
          "zeit": 54.5,
          "zeit_ind": 3270
         },
         {
          "day": 7,
          "genotype": "wt",
          "light": true,
          "sleep-mins": 0.5882352941176471,
          "zeit": 54.66666666666666,
          "zeit_ind": 3280
         },
         {
          "day": 7,
          "genotype": "wt",
          "light": true,
          "sleep-mins": 0.5294117647058824,
          "zeit": 54.83333333333334,
          "zeit_ind": 3290
         },
         {
          "day": 7,
          "genotype": "wt",
          "light": true,
          "sleep-mins": 0.35294117647058826,
          "zeit": 55,
          "zeit_ind": 3300
         },
         {
          "day": 7,
          "genotype": "wt",
          "light": true,
          "sleep-mins": 0.29411764705882354,
          "zeit": 55.16666666666666,
          "zeit_ind": 3310
         },
         {
          "day": 7,
          "genotype": "wt",
          "light": true,
          "sleep-mins": 0.5882352941176471,
          "zeit": 55.33333333333334,
          "zeit_ind": 3320
         },
         {
          "day": 7,
          "genotype": "wt",
          "light": true,
          "sleep-mins": 0.4117647058823529,
          "zeit": 55.5,
          "zeit_ind": 3330
         },
         {
          "day": 7,
          "genotype": "wt",
          "light": true,
          "sleep-mins": 0.23529411764705882,
          "zeit": 55.66666666666666,
          "zeit_ind": 3340
         },
         {
          "day": 7,
          "genotype": "wt",
          "light": true,
          "sleep-mins": 0.6470588235294118,
          "zeit": 55.83333333333334,
          "zeit_ind": 3350
         },
         {
          "day": 7,
          "genotype": "wt",
          "light": true,
          "sleep-mins": 0.35294117647058826,
          "zeit": 56,
          "zeit_ind": 3360
         },
         {
          "day": 7,
          "genotype": "wt",
          "light": true,
          "sleep-mins": 0.7058823529411765,
          "zeit": 56.16666666666666,
          "zeit_ind": 3370
         },
         {
          "day": 7,
          "genotype": "wt",
          "light": true,
          "sleep-mins": 0.7058823529411765,
          "zeit": 56.33333333333334,
          "zeit_ind": 3380
         },
         {
          "day": 7,
          "genotype": "wt",
          "light": true,
          "sleep-mins": 0.8823529411764706,
          "zeit": 56.5,
          "zeit_ind": 3390
         },
         {
          "day": 7,
          "genotype": "wt",
          "light": true,
          "sleep-mins": 0.5882352941176471,
          "zeit": 56.66666666666666,
          "zeit_ind": 3400
         },
         {
          "day": 7,
          "genotype": "wt",
          "light": true,
          "sleep-mins": 1.0588235294117647,
          "zeit": 56.83333333333334,
          "zeit_ind": 3410
         },
         {
          "day": 7,
          "genotype": "wt",
          "light": true,
          "sleep-mins": 0.35294117647058826,
          "zeit": 57,
          "zeit_ind": 3420
         },
         {
          "day": 7,
          "genotype": "wt",
          "light": true,
          "sleep-mins": 0.6470588235294118,
          "zeit": 57.16666666666665,
          "zeit_ind": 3430
         },
         {
          "day": 7,
          "genotype": "wt",
          "light": true,
          "sleep-mins": 0.8235294117647058,
          "zeit": 57.33333333333335,
          "zeit_ind": 3440
         },
         {
          "day": 7,
          "genotype": "wt",
          "light": true,
          "sleep-mins": 0.47058823529411764,
          "zeit": 57.5,
          "zeit_ind": 3450
         },
         {
          "day": 7,
          "genotype": "wt",
          "light": true,
          "sleep-mins": 0.4117647058823529,
          "zeit": 57.66666666666665,
          "zeit_ind": 3460
         },
         {
          "day": 7,
          "genotype": "wt",
          "light": true,
          "sleep-mins": 1.0588235294117647,
          "zeit": 57.83333333333335,
          "zeit_ind": 3470
         },
         {
          "day": 7,
          "genotype": "wt",
          "light": true,
          "sleep-mins": 0.47058823529411764,
          "zeit": 58,
          "zeit_ind": 3480
         },
         {
          "day": 7,
          "genotype": "wt",
          "light": true,
          "sleep-mins": 0.8235294117647058,
          "zeit": 58.16666666666665,
          "zeit_ind": 3490
         },
         {
          "day": 7,
          "genotype": "wt",
          "light": true,
          "sleep-mins": 0.9411764705882353,
          "zeit": 58.33333333333335,
          "zeit_ind": 3500
         },
         {
          "day": 7,
          "genotype": "wt",
          "light": true,
          "sleep-mins": 0.9411764705882353,
          "zeit": 58.5,
          "zeit_ind": 3510
         },
         {
          "day": 7,
          "genotype": "wt",
          "light": true,
          "sleep-mins": 0.7647058823529411,
          "zeit": 58.66666666666665,
          "zeit_ind": 3520
         },
         {
          "day": 7,
          "genotype": "wt",
          "light": true,
          "sleep-mins": 0.7058823529411765,
          "zeit": 58.83333333333335,
          "zeit_ind": 3530
         },
         {
          "day": 7,
          "genotype": "wt",
          "light": true,
          "sleep-mins": 0.47058823529411764,
          "zeit": 59,
          "zeit_ind": 3540
         },
         {
          "day": 7,
          "genotype": "wt",
          "light": true,
          "sleep-mins": 0.35294117647058826,
          "zeit": 59.16666666666665,
          "zeit_ind": 3550
         },
         {
          "day": 7,
          "genotype": "wt",
          "light": true,
          "sleep-mins": 0.8235294117647058,
          "zeit": 59.33333333333335,
          "zeit_ind": 3560
         },
         {
          "day": 7,
          "genotype": "wt",
          "light": true,
          "sleep-mins": 0.6470588235294118,
          "zeit": 59.5,
          "zeit_ind": 3570
         },
         {
          "day": 7,
          "genotype": "wt",
          "light": true,
          "sleep-mins": 0.9411764705882353,
          "zeit": 59.66666666666665,
          "zeit_ind": 3580
         },
         {
          "day": 7,
          "genotype": "wt",
          "light": true,
          "sleep-mins": 0.7058823529411765,
          "zeit": 59.83333333333335,
          "zeit_ind": 3590
         },
         {
          "day": 7,
          "genotype": "wt",
          "light": true,
          "sleep-mins": 0.5294117647058824,
          "zeit": 60,
          "zeit_ind": 3600
         },
         {
          "day": 7,
          "genotype": "wt",
          "light": true,
          "sleep-mins": 0.8235294117647058,
          "zeit": 60.16666666666665,
          "zeit_ind": 3610
         },
         {
          "day": 7,
          "genotype": "wt",
          "light": true,
          "sleep-mins": 0.9411764705882353,
          "zeit": 60.33333333333335,
          "zeit_ind": 3620
         },
         {
          "day": 7,
          "genotype": "wt",
          "light": true,
          "sleep-mins": 0.7058823529411765,
          "zeit": 60.5,
          "zeit_ind": 3630
         },
         {
          "day": 7,
          "genotype": "wt",
          "light": true,
          "sleep-mins": 1.1176470588235294,
          "zeit": 60.66666666666665,
          "zeit_ind": 3640
         },
         {
          "day": 7,
          "genotype": "wt",
          "light": true,
          "sleep-mins": 0.9411764705882353,
          "zeit": 60.83333333333335,
          "zeit_ind": 3650
         },
         {
          "day": 7,
          "genotype": "wt",
          "light": true,
          "sleep-mins": 1.3529411764705883,
          "zeit": 61,
          "zeit_ind": 3660
         },
         {
          "day": 7,
          "genotype": "wt",
          "light": true,
          "sleep-mins": 1.4705882352941178,
          "zeit": 61.16666666666665,
          "zeit_ind": 3670
         },
         {
          "day": 7,
          "genotype": "wt",
          "light": true,
          "sleep-mins": 1.2352941176470589,
          "zeit": 61.33333333333335,
          "zeit_ind": 3680
         },
         {
          "day": 7,
          "genotype": "wt",
          "light": true,
          "sleep-mins": 0.7647058823529411,
          "zeit": 61.5,
          "zeit_ind": 3690
         },
         {
          "day": 7,
          "genotype": "wt",
          "light": true,
          "sleep-mins": 1.0588235294117647,
          "zeit": 61.66666666666665,
          "zeit_ind": 3700
         },
         {
          "day": 7,
          "genotype": "wt",
          "light": true,
          "sleep-mins": 1.0588235294117647,
          "zeit": 61.83333333333335,
          "zeit_ind": 3710
         },
         {
          "day": 7,
          "genotype": "wt",
          "light": false,
          "sleep-mins": 1.8235294117647058,
          "zeit": 62,
          "zeit_ind": 3720
         },
         {
          "day": 7,
          "genotype": "wt",
          "light": false,
          "sleep-mins": 4.294117647058823,
          "zeit": 62.16666666666665,
          "zeit_ind": 3730
         },
         {
          "day": 7,
          "genotype": "wt",
          "light": false,
          "sleep-mins": 5.176470588235294,
          "zeit": 62.33333333333335,
          "zeit_ind": 3740
         },
         {
          "day": 7,
          "genotype": "wt",
          "light": false,
          "sleep-mins": 4.823529411764706,
          "zeit": 62.5,
          "zeit_ind": 3750
         },
         {
          "day": 7,
          "genotype": "wt",
          "light": false,
          "sleep-mins": 4.764705882352941,
          "zeit": 62.66666666666665,
          "zeit_ind": 3760
         },
         {
          "day": 7,
          "genotype": "wt",
          "light": false,
          "sleep-mins": 4.294117647058823,
          "zeit": 62.83333333333335,
          "zeit_ind": 3770
         },
         {
          "day": 7,
          "genotype": "wt",
          "light": false,
          "sleep-mins": 6.411764705882353,
          "zeit": 63,
          "zeit_ind": 3780
         },
         {
          "day": 7,
          "genotype": "wt",
          "light": false,
          "sleep-mins": 4,
          "zeit": 63.16666666666665,
          "zeit_ind": 3790
         },
         {
          "day": 7,
          "genotype": "wt",
          "light": false,
          "sleep-mins": 4.117647058823529,
          "zeit": 63.33333333333335,
          "zeit_ind": 3800
         },
         {
          "day": 7,
          "genotype": "wt",
          "light": false,
          "sleep-mins": 5.176470588235294,
          "zeit": 63.5,
          "zeit_ind": 3810
         },
         {
          "day": 7,
          "genotype": "wt",
          "light": false,
          "sleep-mins": 3.6470588235294117,
          "zeit": 63.66666666666665,
          "zeit_ind": 3820
         },
         {
          "day": 7,
          "genotype": "wt",
          "light": false,
          "sleep-mins": 5.235294117647059,
          "zeit": 63.83333333333335,
          "zeit_ind": 3830
         },
         {
          "day": 7,
          "genotype": "wt",
          "light": false,
          "sleep-mins": 4.176470588235294,
          "zeit": 64,
          "zeit_ind": 3840
         },
         {
          "day": 7,
          "genotype": "wt",
          "light": false,
          "sleep-mins": 5.352941176470588,
          "zeit": 64.16666666666666,
          "zeit_ind": 3850
         },
         {
          "day": 7,
          "genotype": "wt",
          "light": false,
          "sleep-mins": 6,
          "zeit": 64.33333333333334,
          "zeit_ind": 3860
         },
         {
          "day": 7,
          "genotype": "wt",
          "light": false,
          "sleep-mins": 4.647058823529412,
          "zeit": 64.5,
          "zeit_ind": 3870
         },
         {
          "day": 7,
          "genotype": "wt",
          "light": false,
          "sleep-mins": 5.588235294117647,
          "zeit": 64.66666666666666,
          "zeit_ind": 3880
         },
         {
          "day": 7,
          "genotype": "wt",
          "light": false,
          "sleep-mins": 4.764705882352941,
          "zeit": 64.83333333333334,
          "zeit_ind": 3890
         },
         {
          "day": 7,
          "genotype": "wt",
          "light": false,
          "sleep-mins": 5.294117647058823,
          "zeit": 65.00000000000001,
          "zeit_ind": 3900
         },
         {
          "day": 7,
          "genotype": "wt",
          "light": false,
          "sleep-mins": 5.352941176470588,
          "zeit": 65.16666666666666,
          "zeit_ind": 3910
         },
         {
          "day": 7,
          "genotype": "wt",
          "light": false,
          "sleep-mins": 4.647058823529412,
          "zeit": 65.33333333333336,
          "zeit_ind": 3920
         },
         {
          "day": 7,
          "genotype": "wt",
          "light": false,
          "sleep-mins": 5.117647058823529,
          "zeit": 65.50000000000001,
          "zeit_ind": 3930
         },
         {
          "day": 7,
          "genotype": "wt",
          "light": false,
          "sleep-mins": 3.3529411764705883,
          "zeit": 65.66666666666666,
          "zeit_ind": 3940
         },
         {
          "day": 7,
          "genotype": "wt",
          "light": false,
          "sleep-mins": 4.117647058823529,
          "zeit": 65.83333333333336,
          "zeit_ind": 3950
         },
         {
          "day": 7,
          "genotype": "wt",
          "light": false,
          "sleep-mins": 4.529411764705882,
          "zeit": 66.00000000000001,
          "zeit_ind": 3960
         },
         {
          "day": 7,
          "genotype": "wt",
          "light": false,
          "sleep-mins": 4.764705882352941,
          "zeit": 66.16666666666666,
          "zeit_ind": 3970
         },
         {
          "day": 7,
          "genotype": "wt",
          "light": false,
          "sleep-mins": 4.235294117647059,
          "zeit": 66.33333333333336,
          "zeit_ind": 3980
         },
         {
          "day": 7,
          "genotype": "wt",
          "light": false,
          "sleep-mins": 4.764705882352941,
          "zeit": 66.50000000000001,
          "zeit_ind": 3990
         },
         {
          "day": 7,
          "genotype": "wt",
          "light": false,
          "sleep-mins": 4.705882352941177,
          "zeit": 66.66666666666666,
          "zeit_ind": 4000
         },
         {
          "day": 7,
          "genotype": "wt",
          "light": false,
          "sleep-mins": 4.9411764705882355,
          "zeit": 66.83333333333336,
          "zeit_ind": 4010
         },
         {
          "day": 7,
          "genotype": "wt",
          "light": false,
          "sleep-mins": 3.8823529411764706,
          "zeit": 67.00000000000001,
          "zeit_ind": 4020
         },
         {
          "day": 7,
          "genotype": "wt",
          "light": false,
          "sleep-mins": 4.352941176470588,
          "zeit": 67.16666666666666,
          "zeit_ind": 4030
         },
         {
          "day": 7,
          "genotype": "wt",
          "light": false,
          "sleep-mins": 4.235294117647059,
          "zeit": 67.33333333333336,
          "zeit_ind": 4040
         },
         {
          "day": 7,
          "genotype": "wt",
          "light": false,
          "sleep-mins": 3.9411764705882355,
          "zeit": 67.50000000000001,
          "zeit_ind": 4050
         },
         {
          "day": 7,
          "genotype": "wt",
          "light": false,
          "sleep-mins": 4.411764705882353,
          "zeit": 67.66666666666666,
          "zeit_ind": 4060
         },
         {
          "day": 7,
          "genotype": "wt",
          "light": false,
          "sleep-mins": 4.9411764705882355,
          "zeit": 67.83333333333336,
          "zeit_ind": 4070
         },
         {
          "day": 7,
          "genotype": "wt",
          "light": false,
          "sleep-mins": 4.352941176470588,
          "zeit": 68.00000000000001,
          "zeit_ind": 4080
         },
         {
          "day": 7,
          "genotype": "wt",
          "light": false,
          "sleep-mins": 4.176470588235294,
          "zeit": 68.16666666666666,
          "zeit_ind": 4090
         },
         {
          "day": 7,
          "genotype": "wt",
          "light": false,
          "sleep-mins": 4.0588235294117645,
          "zeit": 68.33333333333336,
          "zeit_ind": 4100
         },
         {
          "day": 7,
          "genotype": "wt",
          "light": false,
          "sleep-mins": 3.6470588235294117,
          "zeit": 68.50000000000001,
          "zeit_ind": 4110
         },
         {
          "day": 7,
          "genotype": "wt",
          "light": false,
          "sleep-mins": 4.470588235294118,
          "zeit": 68.66666666666666,
          "zeit_ind": 4120
         },
         {
          "day": 7,
          "genotype": "wt",
          "light": false,
          "sleep-mins": 4.411764705882353,
          "zeit": 68.83333333333336,
          "zeit_ind": 4130
         },
         {
          "day": 7,
          "genotype": "wt",
          "light": false,
          "sleep-mins": 3.9411764705882355,
          "zeit": 69.00000000000001,
          "zeit_ind": 4140
         },
         {
          "day": 7,
          "genotype": "wt",
          "light": false,
          "sleep-mins": 3.411764705882353,
          "zeit": 69.16666666666666,
          "zeit_ind": 4150
         },
         {
          "day": 7,
          "genotype": "wt",
          "light": false,
          "sleep-mins": 4.470588235294118,
          "zeit": 69.33333333333336,
          "zeit_ind": 4160
         },
         {
          "day": 7,
          "genotype": "wt",
          "light": false,
          "sleep-mins": 3.6470588235294117,
          "zeit": 69.50000000000001,
          "zeit_ind": 4170
         },
         {
          "day": 7,
          "genotype": "wt",
          "light": false,
          "sleep-mins": 3.9411764705882355,
          "zeit": 69.66666666666666,
          "zeit_ind": 4180
         },
         {
          "day": 7,
          "genotype": "wt",
          "light": false,
          "sleep-mins": 3.4705882352941178,
          "zeit": 69.83333333333336,
          "zeit_ind": 4190
         },
         {
          "day": 7,
          "genotype": "wt",
          "light": false,
          "sleep-mins": 4.0588235294117645,
          "zeit": 70.00000000000001,
          "zeit_ind": 4200
         },
         {
          "day": 7,
          "genotype": "wt",
          "light": false,
          "sleep-mins": 4.470588235294118,
          "zeit": 70.16666666666666,
          "zeit_ind": 4210
         },
         {
          "day": 7,
          "genotype": "wt",
          "light": false,
          "sleep-mins": 4.823529411764706,
          "zeit": 70.33333333333336,
          "zeit_ind": 4220
         },
         {
          "day": 7,
          "genotype": "wt",
          "light": false,
          "sleep-mins": 4.823529411764706,
          "zeit": 70.50000000000001,
          "zeit_ind": 4230
         },
         {
          "day": 7,
          "genotype": "wt",
          "light": false,
          "sleep-mins": 4.529411764705882,
          "zeit": 70.66666666666666,
          "zeit_ind": 4240
         },
         {
          "day": 7,
          "genotype": "wt",
          "light": false,
          "sleep-mins": 4.470588235294118,
          "zeit": 70.83333333333336,
          "zeit_ind": 4250
         },
         {
          "day": 7,
          "genotype": "wt",
          "light": false,
          "sleep-mins": 4.705882352941177,
          "zeit": 71.00000000000001,
          "zeit_ind": 4260
         },
         {
          "day": 7,
          "genotype": "wt",
          "light": false,
          "sleep-mins": 4.588235294117647,
          "zeit": 71.16666666666666,
          "zeit_ind": 4270
         },
         {
          "day": 7,
          "genotype": "wt",
          "light": false,
          "sleep-mins": 4.235294117647059,
          "zeit": 71.33333333333336,
          "zeit_ind": 4280
         },
         {
          "day": 7,
          "genotype": "wt",
          "light": false,
          "sleep-mins": 5.0588235294117645,
          "zeit": 71.50000000000001,
          "zeit_ind": 4290
         },
         {
          "day": 7,
          "genotype": "wt",
          "light": false,
          "sleep-mins": 4.176470588235294,
          "zeit": 71.66666666666666,
          "zeit_ind": 4300
         },
         {
          "day": 7,
          "genotype": "wt",
          "light": false,
          "sleep-mins": 4.588235294117647,
          "zeit": 71.83333333333336,
          "zeit_ind": 4310
         },
         {
          "day": 8,
          "genotype": "wt",
          "light": true,
          "sleep-mins": 0.9411764705882353,
          "zeit": 72.00000000000001,
          "zeit_ind": 4320
         },
         {
          "day": 8,
          "genotype": "wt",
          "light": true,
          "sleep-mins": 0,
          "zeit": 72.16666666666666,
          "zeit_ind": 4330
         },
         {
          "day": 8,
          "genotype": "wt",
          "light": true,
          "sleep-mins": 0,
          "zeit": 72.33333333333336,
          "zeit_ind": 4340
         },
         {
          "day": 8,
          "genotype": "wt",
          "light": true,
          "sleep-mins": 0.058823529411764705,
          "zeit": 72.50000000000001,
          "zeit_ind": 4350
         },
         {
          "day": 8,
          "genotype": "wt",
          "light": true,
          "sleep-mins": 0.23529411764705882,
          "zeit": 72.66666666666666,
          "zeit_ind": 4360
         },
         {
          "day": 8,
          "genotype": "wt",
          "light": true,
          "sleep-mins": 0.29411764705882354,
          "zeit": 72.83333333333334,
          "zeit_ind": 4370
         },
         {
          "day": 8,
          "genotype": "wt",
          "light": true,
          "sleep-mins": 0.23529411764705882,
          "zeit": 73,
          "zeit_ind": 4380
         },
         {
          "day": 8,
          "genotype": "wt",
          "light": true,
          "sleep-mins": 0.11764705882352941,
          "zeit": 73.16666666666667,
          "zeit_ind": 4390
         },
         {
          "day": 8,
          "genotype": "wt",
          "light": true,
          "sleep-mins": 0.29411764705882354,
          "zeit": 73.33333333333333,
          "zeit_ind": 4400
         },
         {
          "day": 8,
          "genotype": "wt",
          "light": true,
          "sleep-mins": 0.35294117647058826,
          "zeit": 73.5,
          "zeit_ind": 4410
         },
         {
          "day": 8,
          "genotype": "wt",
          "light": true,
          "sleep-mins": 0.058823529411764705,
          "zeit": 73.66666666666667,
          "zeit_ind": 4420
         },
         {
          "day": 8,
          "genotype": "wt",
          "light": true,
          "sleep-mins": 0.4117647058823529,
          "zeit": 73.83333333333333,
          "zeit_ind": 4430
         },
         {
          "day": 8,
          "genotype": "wt",
          "light": true,
          "sleep-mins": 0.47058823529411764,
          "zeit": 74,
          "zeit_ind": 4440
         },
         {
          "day": 8,
          "genotype": "wt",
          "light": true,
          "sleep-mins": 0.5294117647058824,
          "zeit": 74.16666666666667,
          "zeit_ind": 4450
         },
         {
          "day": 8,
          "genotype": "wt",
          "light": true,
          "sleep-mins": 0.4117647058823529,
          "zeit": 74.33333333333333,
          "zeit_ind": 4460
         },
         {
          "day": 8,
          "genotype": "wt",
          "light": true,
          "sleep-mins": 0.29411764705882354,
          "zeit": 74.5,
          "zeit_ind": 4470
         },
         {
          "day": 8,
          "genotype": "wt",
          "light": true,
          "sleep-mins": 0.35294117647058826,
          "zeit": 74.66666666666667,
          "zeit_ind": 4480
         },
         {
          "day": 8,
          "genotype": "wt",
          "light": true,
          "sleep-mins": 0.6470588235294118,
          "zeit": 74.83333333333333,
          "zeit_ind": 4490
         },
         {
          "day": 8,
          "genotype": "wt",
          "light": true,
          "sleep-mins": 0.5882352941176471,
          "zeit": 75,
          "zeit_ind": 4500
         }
        ]
       },
       "encoding": {
        "color": {
         "field": "genotype",
         "sort": [
          "wt",
          "het",
          "mut"
         ],
         "type": "nominal"
        },
        "order": {
         "field": "zeit",
         "type": "quantitative"
        },
        "x": {
         "field": "zeit",
         "title": "zeit time (hours)",
         "type": "quantitative"
        },
        "y": {
         "field": "sleep-mins",
         "title": "Amount of Sleep (mins)",
         "type": "quantitative"
        }
       },
       "height": 500,
       "mark": {
        "strokeJoin": "bevel",
        "type": "line"
       },
       "title": "Figure 1: Mean Sleep Minutes per 10 mins. window for Zebrafish Genotype Group",
       "width": 1000
      },
      "image/png": "[encoded data removed]",
      "text/plain": [
       "<VegaLite 3 object>\n",
       "\n",
       "If you see this message, it means the renderer has not been properly enabled\n",
       "for the frontend that you are using. For more information, see\n",
       "https://altair-viz.github.io/user_guide/troubleshooting.html\n"
      ]
     },
     "execution_count": 11,
     "metadata": {},
     "output_type": "execute_result"
    }
   ],
   "source": [
    "# Plot the average sleep minutes for each genotype\n",
    "alt.Chart(averaged_df_sleep, \n",
    "          title = 'Figure 1: Mean Sleep Minutes per 10 mins. window for Zebrafish Genotype Group'\n",
    "         ).mark_line(\n",
    "            strokeJoin = 'bevel'\n",
    "        ).encode(\n",
    "            x=alt.X('zeit:Q', title = 'zeit time (hours)'),\n",
    "            y=alt.Y('sleep-mins:Q', title = 'Amount of Sleep (mins)'),\n",
    "            color=alt.Color('genotype:N', sort=['wt', 'het', 'mut']),\n",
    "            order = 'zeit:Q'\n",
    "        ).properties(\n",
    "            height = 500,\n",
    "            width = 1000\n",
    "        ).configure_title(\n",
    "            fontSize = 25\n",
    "        ).configure_axis(\n",
    "            titleFontSize = 20\n",
    ").configure_legend(\n",
    "            labelFontSize = 20,\n",
    "            symbolSize = 500,\n",
    "            titleFontSize = 20\n",
    ")\n",
    "\n",
    "    "
   ]
  },
  {
   "cell_type": "markdown",
   "metadata": {},
   "source": [
    "# Analysis of Method 1 Graph: Sleep Minutes\n",
    "Based on viewing the average sleep minutes from each genotype group, there are regular periods of relatively high sleep-minutes when the light is turned on for all three groups, as compared to periods of very low sleep-minutes when the white lights are activated (as expected). Comparing the groups during light-off periods, we can see the blue-colored wild-type (aana2+/+) and the orange-colored heterogenous (aana2+/-) both have very similar levels of sleep-minute, with the orange-colored genotype with slightly less sleep minutes during the 3rd sleep period. However, the mutant red-colored (aanat2-/-) group has consistently lower levels of sleep-minutes per 10-minute interval compared to the other 2 groups. We can conclude that the complete loss of aanat2 is associated with a reduction in sleep that zebrafish larva gain at night.\n",
    "\n",
    "However, loss of aana2t does not appear to have any affect on sleep during daytime hours."
   ]
  },
  {
   "cell_type": "markdown",
   "metadata": {},
   "source": [
    "# Second Method: Sleep Latency\n",
    "Another method of parameterizing is sleep latency, the time it takes for the zebrafish larvae to enter a sleep state. In contrast to measuring the proportion of time a larva stays asleep compared to its awake time, sleep latency measures how long it takes to go to sleep. This can be measured by how long it takes for sleep to begin upon receiving triggering stimuli (lights out). Our definition of a sleep state is when a fish has displayed no movement for at least 1 minute."
   ]
  },
  {
   "cell_type": "code",
   "execution_count": 12,
   "metadata": {},
   "outputs": [
    {
     "data": {
      "text/html": [
       "<div>\n",
       "<style scoped>\n",
       "    .dataframe tbody tr th:only-of-type {\n",
       "        vertical-align: middle;\n",
       "    }\n",
       "\n",
       "    .dataframe tbody tr th {\n",
       "        vertical-align: top;\n",
       "    }\n",
       "\n",
       "    .dataframe thead th {\n",
       "        text-align: right;\n",
       "    }\n",
       "</style>\n",
       "<table border=\"1\" class=\"dataframe\">\n",
       "  <thead>\n",
       "    <tr style=\"text-align: right;\">\n",
       "      <th></th>\n",
       "      <th>location</th>\n",
       "      <th>activity</th>\n",
       "      <th>time</th>\n",
       "      <th>zeit</th>\n",
       "      <th>zeit_ind</th>\n",
       "      <th>day</th>\n",
       "      <th>genotype</th>\n",
       "      <th>light</th>\n",
       "      <th>asleep</th>\n",
       "    </tr>\n",
       "  </thead>\n",
       "  <tbody>\n",
       "    <tr>\n",
       "      <th>0</th>\n",
       "      <td>1</td>\n",
       "      <td>4.8</td>\n",
       "      <td>2013-03-15 23:00:09</td>\n",
       "      <td>-9.997500</td>\n",
       "      <td>-600</td>\n",
       "      <td>4</td>\n",
       "      <td>het</td>\n",
       "      <td>False</td>\n",
       "      <td>False</td>\n",
       "    </tr>\n",
       "    <tr>\n",
       "      <th>1</th>\n",
       "      <td>1</td>\n",
       "      <td>2.4</td>\n",
       "      <td>2013-03-15 23:01:09</td>\n",
       "      <td>-9.980833</td>\n",
       "      <td>-599</td>\n",
       "      <td>4</td>\n",
       "      <td>het</td>\n",
       "      <td>False</td>\n",
       "      <td>False</td>\n",
       "    </tr>\n",
       "    <tr>\n",
       "      <th>2</th>\n",
       "      <td>1</td>\n",
       "      <td>1.3</td>\n",
       "      <td>2013-03-15 23:02:09</td>\n",
       "      <td>-9.964167</td>\n",
       "      <td>-598</td>\n",
       "      <td>4</td>\n",
       "      <td>het</td>\n",
       "      <td>False</td>\n",
       "      <td>False</td>\n",
       "    </tr>\n",
       "    <tr>\n",
       "      <th>3</th>\n",
       "      <td>1</td>\n",
       "      <td>0.9</td>\n",
       "      <td>2013-03-15 23:03:09</td>\n",
       "      <td>-9.947500</td>\n",
       "      <td>-597</td>\n",
       "      <td>4</td>\n",
       "      <td>het</td>\n",
       "      <td>False</td>\n",
       "      <td>False</td>\n",
       "    </tr>\n",
       "    <tr>\n",
       "      <th>4</th>\n",
       "      <td>1</td>\n",
       "      <td>0.0</td>\n",
       "      <td>2013-03-15 23:04:09</td>\n",
       "      <td>-9.930833</td>\n",
       "      <td>-596</td>\n",
       "      <td>4</td>\n",
       "      <td>het</td>\n",
       "      <td>False</td>\n",
       "      <td>True</td>\n",
       "    </tr>\n",
       "  </tbody>\n",
       "</table>\n",
       "</div>"
      ],
      "text/plain": [
       "   location  activity                time      zeit  zeit_ind  day genotype  \\\n",
       "0         1       4.8 2013-03-15 23:00:09 -9.997500      -600    4      het   \n",
       "1         1       2.4 2013-03-15 23:01:09 -9.980833      -599    4      het   \n",
       "2         1       1.3 2013-03-15 23:02:09 -9.964167      -598    4      het   \n",
       "3         1       0.9 2013-03-15 23:03:09 -9.947500      -597    4      het   \n",
       "4         1       0.0 2013-03-15 23:04:09 -9.930833      -596    4      het   \n",
       "\n",
       "   light  asleep  \n",
       "0  False   False  \n",
       "1  False   False  \n",
       "2  False   False  \n",
       "3  False   False  \n",
       "4  False    True  "
      ]
     },
     "execution_count": 12,
     "metadata": {},
     "output_type": "execute_result"
    }
   ],
   "source": [
    "#  isolating the times in the data set right after lights out (23:00:00) up to 4 hours after lights out\n",
    "df_latent = df.loc[ (df['time'].dt.time >= pd.to_datetime('23:00:00').time()) | (df['time'].dt.time < pd.to_datetime('3:00:00').time())]\n",
    "\n",
    "df_latent.index = pd.RangeIndex(len(df_latent.index))\n",
    "\n",
    "df_latent.head()"
   ]
  },
  {
   "cell_type": "code",
   "execution_count": 13,
   "metadata": {},
   "outputs": [],
   "source": [
    "# Isolate datapoints within the 1st minute right after lights out at 23:00:00\n",
    "df_lights_out = df_latent.loc[ (df_latent['time'].dt.time >= pd.to_datetime('23:00:00').time()) &\n",
    "                              (df_latent['time'].dt.time < pd.to_datetime('23:01:00').time()) ]\n",
    "\n",
    "# Save the index of lights-out datapoints in list for the next \"for\" loop\n",
    "lightsout = df_lights_out.index"
   ]
  },
  {
   "cell_type": "code",
   "execution_count": 14,
   "metadata": {},
   "outputs": [
    {
     "data": {
      "text/html": [
       "<div>\n",
       "<style scoped>\n",
       "    .dataframe tbody tr th:only-of-type {\n",
       "        vertical-align: middle;\n",
       "    }\n",
       "\n",
       "    .dataframe tbody tr th {\n",
       "        vertical-align: top;\n",
       "    }\n",
       "\n",
       "    .dataframe thead th {\n",
       "        text-align: right;\n",
       "    }\n",
       "</style>\n",
       "<table border=\"1\" class=\"dataframe\">\n",
       "  <thead>\n",
       "    <tr style=\"text-align: right;\">\n",
       "      <th></th>\n",
       "      <th>genotype</th>\n",
       "      <th>latency(min)</th>\n",
       "      <th>lights-out time</th>\n",
       "      <th>location</th>\n",
       "    </tr>\n",
       "  </thead>\n",
       "  <tbody>\n",
       "    <tr>\n",
       "      <th>0</th>\n",
       "      <td>het</td>\n",
       "      <td>4</td>\n",
       "      <td>2013-03-15 23:00:09</td>\n",
       "      <td>1</td>\n",
       "    </tr>\n",
       "    <tr>\n",
       "      <th>1</th>\n",
       "      <td>het</td>\n",
       "      <td>21</td>\n",
       "      <td>2013-03-16 23:00:40</td>\n",
       "      <td>1</td>\n",
       "    </tr>\n",
       "    <tr>\n",
       "      <th>2</th>\n",
       "      <td>het</td>\n",
       "      <td>6</td>\n",
       "      <td>2013-03-17 23:00:40</td>\n",
       "      <td>1</td>\n",
       "    </tr>\n",
       "    <tr>\n",
       "      <th>3</th>\n",
       "      <td>het</td>\n",
       "      <td>22</td>\n",
       "      <td>2013-03-18 23:00:29</td>\n",
       "      <td>1</td>\n",
       "    </tr>\n",
       "    <tr>\n",
       "      <th>4</th>\n",
       "      <td>wt</td>\n",
       "      <td>6</td>\n",
       "      <td>2013-03-15 23:00:09</td>\n",
       "      <td>2</td>\n",
       "    </tr>\n",
       "  </tbody>\n",
       "</table>\n",
       "</div>"
      ],
      "text/plain": [
       "  genotype  latency(min)     lights-out time  location\n",
       "0      het             4 2013-03-15 23:00:09         1\n",
       "1      het            21 2013-03-16 23:00:40         1\n",
       "2      het             6 2013-03-17 23:00:40         1\n",
       "3      het            22 2013-03-18 23:00:29         1\n",
       "4       wt             6 2013-03-15 23:00:09         2"
      ]
     },
     "execution_count": 14,
     "metadata": {},
     "output_type": "execute_result"
    }
   ],
   "source": [
    "# First, declare a blank list\n",
    "lst = []\n",
    "\n",
    "# Next, create a \"for\" loop to fill the list\n",
    "for i in lightsout:\n",
    "    j = 0\n",
    "    while (df_latent['asleep'][i+j] == False) & (j < 240): #up to the 4 hour mark\n",
    "        j += 1\n",
    "        \n",
    "    lst.append({'location':df_lights_out['location'][i],\n",
    "                    'lights-out time':df_lights_out['time'][i],\n",
    "                    'genotype':df_lights_out['genotype'][i],\n",
    "                    'latency(min)':j\n",
    "                   })\n",
    "        \n",
    "latency_list = pd.DataFrame(lst)\n",
    "\n",
    "latency_list.head()"
   ]
  },
  {
   "cell_type": "code",
   "execution_count": 15,
   "metadata": {},
   "outputs": [
    {
     "data": {
      "text/html": [
       "<div>\n",
       "<style scoped>\n",
       "    .dataframe tbody tr th:only-of-type {\n",
       "        vertical-align: middle;\n",
       "    }\n",
       "\n",
       "    .dataframe tbody tr th {\n",
       "        vertical-align: top;\n",
       "    }\n",
       "\n",
       "    .dataframe thead th {\n",
       "        text-align: right;\n",
       "    }\n",
       "</style>\n",
       "<table border=\"1\" class=\"dataframe\">\n",
       "  <thead>\n",
       "    <tr style=\"text-align: right;\">\n",
       "      <th></th>\n",
       "      <th>genotype</th>\n",
       "      <th>latency(min)</th>\n",
       "    </tr>\n",
       "  </thead>\n",
       "  <tbody>\n",
       "    <tr>\n",
       "      <th>0</th>\n",
       "      <td>het</td>\n",
       "      <td>10.536765</td>\n",
       "    </tr>\n",
       "    <tr>\n",
       "      <th>1</th>\n",
       "      <td>mut</td>\n",
       "      <td>27.602273</td>\n",
       "    </tr>\n",
       "    <tr>\n",
       "      <th>2</th>\n",
       "      <td>wt</td>\n",
       "      <td>11.102941</td>\n",
       "    </tr>\n",
       "  </tbody>\n",
       "</table>\n",
       "</div>"
      ],
      "text/plain": [
       "  genotype  latency(min)\n",
       "0      het     10.536765\n",
       "1      mut     27.602273\n",
       "2       wt     11.102941"
      ]
     },
     "execution_count": 15,
     "metadata": {},
     "output_type": "execute_result"
    }
   ],
   "source": [
    "# find the mean sleep latency within each group for some extra, at-a-glance information\n",
    "averaged_latency = latency_list.groupby(['genotype']).mean().reset_index()\n",
    "\n",
    "# Delete location column\n",
    "del averaged_latency['location']\n",
    "\n",
    "\n",
    "# Display the mean latency of each genotype group\n",
    "averaged_latency"
   ]
  },
  {
   "cell_type": "code",
   "execution_count": 16,
   "metadata": {},
   "outputs": [
    {
     "data": {
      "application/vnd.vegalite.v3+json": {
       "$schema": "https://vega.github.io/schema/vega-lite/v3.4.0.json",
       "config": {
        "axisX": {
         "labelAngle": 0
        },
        "bar": {
         "fillOpacity": 0.75
        },
        "mark": {
         "tooltip": null
        },
        "view": {
         "height": 300,
         "width": 400
        }
       },
       "datasets": {
        "data-11475d83ba44c159d43b48c11e194ddc": [
         {
          "bottom": 6,
          "bottom_whisker": 2,
          "genotype": "het",
          "middle": 8,
          "top": 13,
          "top_whisker": 23.5
         },
         {
          "bottom": 8,
          "bottom_whisker": 0,
          "genotype": "mut",
          "middle": 12,
          "top": 26.75,
          "top_whisker": 54.875
         },
         {
          "bottom": 6,
          "bottom_whisker": 3,
          "genotype": "wt",
          "middle": 10,
          "top": 12,
          "top_whisker": 21
         }
        ],
        "data-fc9c4df9fefd1baeaa329aa5440ec332": [
         {
          "genotype": "het",
          "latency(min)": 41
         },
         {
          "genotype": "het",
          "latency(min)": 42
         },
         {
          "genotype": "het",
          "latency(min)": 26
         },
         {
          "genotype": "het",
          "latency(min)": 34
         },
         {
          "genotype": "het",
          "latency(min)": 28
         },
         {
          "genotype": "het",
          "latency(min)": 44
         },
         {
          "genotype": "mut",
          "latency(min)": 74
         },
         {
          "genotype": "mut",
          "latency(min)": 60
         },
         {
          "genotype": "mut",
          "latency(min)": 240
         },
         {
          "genotype": "mut",
          "latency(min)": 57
         },
         {
          "genotype": "mut",
          "latency(min)": 240
         },
         {
          "genotype": "mut",
          "latency(min)": 240
         },
         {
          "genotype": "mut",
          "latency(min)": 155
         },
         {
          "genotype": "mut",
          "latency(min)": 56
         },
         {
          "genotype": "mut",
          "latency(min)": 105
         },
         {
          "genotype": "wt",
          "latency(min)": 25
         },
         {
          "genotype": "wt",
          "latency(min)": 25
         },
         {
          "genotype": "wt",
          "latency(min)": 53
         },
         {
          "genotype": "wt",
          "latency(min)": 39
         },
         {
          "genotype": "wt",
          "latency(min)": 27
         },
         {
          "genotype": "wt",
          "latency(min)": 46
         }
        ]
       },
       "layer": [
        {
         "data": {
          "name": "data-11475d83ba44c159d43b48c11e194ddc"
         },
         "encoding": {
          "color": {
           "field": "genotype",
           "legend": null,
           "scale": {},
           "type": "nominal"
          },
          "x": {
           "field": "genotype",
           "scale": {},
           "title": null,
           "type": "nominal"
          },
          "y": {
           "field": "bottom_whisker",
           "title": "latency(min)",
           "type": "quantitative"
          },
          "y2": {
           "field": "bottom"
          }
         },
         "height": 500,
         "mark": {
          "type": "rule"
         },
         "title": "Figure 2: Sleep Latencies of Zebrafish by Genotype",
         "width": 300
        },
        {
         "data": {
          "name": "data-11475d83ba44c159d43b48c11e194ddc"
         },
         "encoding": {
          "color": {
           "field": "genotype",
           "legend": null,
           "scale": {},
           "type": "nominal"
          },
          "x": {
           "field": "genotype",
           "scale": {},
           "title": null,
           "type": "nominal"
          },
          "y": {
           "field": "top",
           "title": "latency(min)",
           "type": "quantitative"
          },
          "y2": {
           "field": "top_whisker"
          }
         },
         "height": 500,
         "mark": {
          "type": "rule"
         },
         "title": "Figure 2: Sleep Latencies of Zebrafish by Genotype",
         "width": 300
        },
        {
         "data": {
          "name": "data-11475d83ba44c159d43b48c11e194ddc"
         },
         "encoding": {
          "color": {
           "field": "genotype",
           "legend": null,
           "scale": {},
           "type": "nominal"
          },
          "x": {
           "field": "genotype",
           "scale": {},
           "title": null,
           "type": "nominal"
          },
          "y": {
           "field": "bottom",
           "title": "latency(min)",
           "type": "quantitative"
          },
          "y2": {
           "field": "top"
          }
         },
         "height": 500,
         "mark": {
          "size": 70,
          "type": "bar"
         },
         "title": "Figure 2: Sleep Latencies of Zebrafish by Genotype",
         "width": 300
        },
        {
         "data": {
          "name": "data-11475d83ba44c159d43b48c11e194ddc"
         },
         "encoding": {
          "x": {
           "field": "genotype",
           "scale": {},
           "title": null,
           "type": "nominal"
          },
          "y": {
           "field": "middle",
           "title": "latency(min)",
           "type": "quantitative"
          }
         },
         "height": 500,
         "mark": {
          "color": "white",
          "opacity": 1,
          "size": 70,
          "type": "tick"
         },
         "title": "Figure 2: Sleep Latencies of Zebrafish by Genotype",
         "width": 300
        },
        {
         "data": {
          "name": "data-fc9c4df9fefd1baeaa329aa5440ec332"
         },
         "encoding": {
          "color": {
           "field": "genotype",
           "legend": null,
           "scale": {},
           "type": "nominal"
          },
          "x": {
           "field": "genotype",
           "scale": {},
           "title": null,
           "type": "nominal"
          },
          "y": {
           "field": "latency(min)",
           "title": "latency(min)",
           "type": "quantitative"
          }
         },
         "height": 500,
         "mark": {
          "type": "point"
         },
         "title": "Figure 2: Sleep Latencies of Zebrafish by Genotype",
         "width": 300
        },
        {
         "data": {
          "name": "data-11475d83ba44c159d43b48c11e194ddc"
         },
         "encoding": {
          "color": {
           "field": "genotype",
           "legend": null,
           "scale": {},
           "type": "nominal"
          },
          "x": {
           "field": "genotype",
           "scale": {},
           "title": null,
           "type": "nominal"
          },
          "y": {
           "field": "bottom_whisker",
           "title": "latency(min)",
           "type": "quantitative"
          }
         },
         "height": 500,
         "mark": {
          "opacity": 1,
          "size": 17.5,
          "type": "tick"
         },
         "title": "Figure 2: Sleep Latencies of Zebrafish by Genotype",
         "width": 300
        },
        {
         "data": {
          "name": "data-11475d83ba44c159d43b48c11e194ddc"
         },
         "encoding": {
          "color": {
           "field": "genotype",
           "legend": null,
           "scale": {},
           "type": "nominal"
          },
          "x": {
           "field": "genotype",
           "scale": {},
           "title": null,
           "type": "nominal"
          },
          "y": {
           "field": "top_whisker",
           "title": "latency(min)",
           "type": "quantitative"
          }
         },
         "height": 500,
         "mark": {
          "opacity": 1,
          "size": 17.5,
          "type": "tick"
         },
         "title": "Figure 2: Sleep Latencies of Zebrafish by Genotype",
         "width": 300
        }
       ]
      },
      "image/png": "[encoded data removed]",
      "text/plain": [
       "<VegaLite 3 object>\n",
       "\n",
       "If you see this message, it means the renderer has not been properly enabled\n",
       "for the frontend that you are using. For more information, see\n",
       "https://altair-viz.github.io/user_guide/troubleshooting.html\n"
      ]
     },
     "execution_count": 16,
     "metadata": {},
     "output_type": "execute_result"
    }
   ],
   "source": [
    "# Whisker Plot\n",
    "altcat.catplot(data=latency_list,\n",
    "               title = 'Figure 2: Sleep Latencies of Zebrafish by Genotype',\n",
    "               height = 500,\n",
    "               width = 300,\n",
    "              encoding=dict(x=alt.X('genotype:N', title = None),\n",
    "                           y = 'latency(min):Q',\n",
    "                           color = alt.Color('genotype:N', legend = None)),\n",
    "              transform='box'\n",
    "              ).configure_bar(\n",
    "                    fillOpacity=0.75\n",
    "            ).configure_axisX(\n",
    "                labelAngle=0\n",
    ")"
   ]
  },
  {
   "cell_type": "markdown",
   "metadata": {},
   "source": [
    "# Notable Data Issues\n",
    "\n",
    "As shown in the graph, there are notable issues with fish appearing at the maximum latency of 240 minutes. Verifying the data shows that these points come from fish 21 and fish 67. Due to abnormal sickness-caused behavior with these fish, these data points can be considered outliers and removed from the data. \n",
    "We will make a new plot excluding these fish."
   ]
  },
  {
   "cell_type": "code",
   "execution_count": 17,
   "metadata": {},
   "outputs": [
    {
     "data": {
      "application/vnd.vegalite.v3+json": {
       "$schema": "https://vega.github.io/schema/vega-lite/v3.4.0.json",
       "config": {
        "axisX": {
         "labelAngle": 0
        },
        "bar": {
         "fillOpacity": 0.75
        },
        "mark": {
         "tooltip": null
        },
        "view": {
         "height": 300,
         "width": 400
        }
       },
       "datasets": {
        "data-514371a1865da824b11384079626509e": [
         {
          "genotype": "het",
          "latency(min)": 41
         },
         {
          "genotype": "het",
          "latency(min)": 42
         },
         {
          "genotype": "het",
          "latency(min)": 26
         },
         {
          "genotype": "het",
          "latency(min)": 34
         },
         {
          "genotype": "het",
          "latency(min)": 28
         },
         {
          "genotype": "het",
          "latency(min)": 44
         },
         {
          "genotype": "mut",
          "latency(min)": 74
         },
         {
          "genotype": "mut",
          "latency(min)": 57
         },
         {
          "genotype": "mut",
          "latency(min)": 155
         },
         {
          "genotype": "mut",
          "latency(min)": 56
         },
         {
          "genotype": "mut",
          "latency(min)": 52
         },
         {
          "genotype": "mut",
          "latency(min)": 105
         },
         {
          "genotype": "mut",
          "latency(min)": 48
         },
         {
          "genotype": "wt",
          "latency(min)": 25
         },
         {
          "genotype": "wt",
          "latency(min)": 25
         },
         {
          "genotype": "wt",
          "latency(min)": 53
         },
         {
          "genotype": "wt",
          "latency(min)": 39
         },
         {
          "genotype": "wt",
          "latency(min)": 27
         },
         {
          "genotype": "wt",
          "latency(min)": 46
         }
        ],
        "data-5d1e019b57fc772dd0252784be020468": [
         {
          "bottom": 6,
          "bottom_whisker": 2,
          "genotype": "het",
          "middle": 8,
          "top": 13,
          "top_whisker": 23.5
         },
         {
          "bottom": 8,
          "bottom_whisker": 0,
          "genotype": "mut",
          "middle": 12,
          "top": 23.25,
          "top_whisker": 46.125
         },
         {
          "bottom": 6,
          "bottom_whisker": 3,
          "genotype": "wt",
          "middle": 10,
          "top": 12,
          "top_whisker": 21
         }
        ]
       },
       "layer": [
        {
         "data": {
          "name": "data-5d1e019b57fc772dd0252784be020468"
         },
         "encoding": {
          "color": {
           "field": "genotype",
           "legend": null,
           "scale": {},
           "type": "nominal"
          },
          "x": {
           "field": "genotype",
           "scale": {},
           "title": null,
           "type": "nominal"
          },
          "y": {
           "field": "bottom_whisker",
           "title": "latency(min)",
           "type": "quantitative"
          },
          "y2": {
           "field": "bottom"
          }
         },
         "height": 300,
         "mark": {
          "type": "rule"
         },
         "width": 200
        },
        {
         "data": {
          "name": "data-5d1e019b57fc772dd0252784be020468"
         },
         "encoding": {
          "color": {
           "field": "genotype",
           "legend": null,
           "scale": {},
           "type": "nominal"
          },
          "x": {
           "field": "genotype",
           "scale": {},
           "title": null,
           "type": "nominal"
          },
          "y": {
           "field": "top",
           "title": "latency(min)",
           "type": "quantitative"
          },
          "y2": {
           "field": "top_whisker"
          }
         },
         "height": 300,
         "mark": {
          "type": "rule"
         },
         "width": 200
        },
        {
         "data": {
          "name": "data-5d1e019b57fc772dd0252784be020468"
         },
         "encoding": {
          "color": {
           "field": "genotype",
           "legend": null,
           "scale": {},
           "type": "nominal"
          },
          "x": {
           "field": "genotype",
           "scale": {},
           "title": null,
           "type": "nominal"
          },
          "y": {
           "field": "bottom",
           "title": "latency(min)",
           "type": "quantitative"
          },
          "y2": {
           "field": "top"
          }
         },
         "height": 300,
         "mark": {
          "size": 46.666666666666664,
          "type": "bar"
         },
         "width": 200
        },
        {
         "data": {
          "name": "data-5d1e019b57fc772dd0252784be020468"
         },
         "encoding": {
          "x": {
           "field": "genotype",
           "scale": {},
           "title": null,
           "type": "nominal"
          },
          "y": {
           "field": "middle",
           "title": "latency(min)",
           "type": "quantitative"
          }
         },
         "height": 300,
         "mark": {
          "color": "white",
          "opacity": 1,
          "size": 46.666666666666664,
          "type": "tick"
         },
         "width": 200
        },
        {
         "data": {
          "name": "data-514371a1865da824b11384079626509e"
         },
         "encoding": {
          "color": {
           "field": "genotype",
           "legend": null,
           "scale": {},
           "type": "nominal"
          },
          "x": {
           "field": "genotype",
           "scale": {},
           "title": null,
           "type": "nominal"
          },
          "y": {
           "field": "latency(min)",
           "title": "latency(min)",
           "type": "quantitative"
          }
         },
         "height": 300,
         "mark": {
          "type": "point"
         },
         "width": 200
        },
        {
         "data": {
          "name": "data-5d1e019b57fc772dd0252784be020468"
         },
         "encoding": {
          "color": {
           "field": "genotype",
           "legend": null,
           "scale": {},
           "type": "nominal"
          },
          "x": {
           "field": "genotype",
           "scale": {},
           "title": null,
           "type": "nominal"
          },
          "y": {
           "field": "bottom_whisker",
           "title": "latency(min)",
           "type": "quantitative"
          }
         },
         "height": 300,
         "mark": {
          "opacity": 1,
          "size": 11.666666666666666,
          "type": "tick"
         },
         "width": 200
        },
        {
         "data": {
          "name": "data-5d1e019b57fc772dd0252784be020468"
         },
         "encoding": {
          "color": {
           "field": "genotype",
           "legend": null,
           "scale": {},
           "type": "nominal"
          },
          "x": {
           "field": "genotype",
           "scale": {},
           "title": null,
           "type": "nominal"
          },
          "y": {
           "field": "top_whisker",
           "title": "latency(min)",
           "type": "quantitative"
          }
         },
         "height": 300,
         "mark": {
          "opacity": 1,
          "size": 11.666666666666666,
          "type": "tick"
         },
         "width": 200
        }
       ]
      },
      "image/png": "[encoded data removed]",
      "text/plain": [
       "<VegaLite 3 object>\n",
       "\n",
       "If you see this message, it means the renderer has not been properly enabled\n",
       "for the frontend that you are using. For more information, see\n",
       "https://altair-viz.github.io/user_guide/troubleshooting.html\n"
      ]
     },
     "execution_count": 17,
     "metadata": {},
     "output_type": "execute_result"
    }
   ],
   "source": [
    "# Drop the outlier fish 21 and 67\n",
    "latency_list = latency_list.loc[(latency_list['location'] != 21) & (latency_list['location'] != 67)]\n",
    "\n",
    "\n",
    "# Plot a new box plot!\n",
    "\n",
    "# Whisker Plot\n",
    "altcat.catplot(data=latency_list,\n",
    "              encoding=dict(x=alt.X('genotype:N', title = None),\n",
    "                           y = 'latency(min):Q',\n",
    "                           color = alt.Color('genotype:N', legend = None)),\n",
    "              transform='box'\n",
    "              ).configure_bar(\n",
    "                    fillOpacity=0.75\n",
    "            ).configure_axisX(\n",
    "                labelAngle=0,\n",
    ")"
   ]
  },
  {
   "cell_type": "markdown",
   "metadata": {},
   "source": [
    "#### Method 2 Analysis: Sleep Latency\n",
    "As displayed from both the mean sleep latency of each genotype and the box plot displaying all sleep latency data points within each genotype group, it generally takes about 10-20 minutes for most zebrafish larvae to enter their first sleep stage after the lights are turned off. \n",
    "Comparing the genotypes directly with one another through the box plot, it is visibly shown that the wild and heterogenous genotype groups contain very similar means and standard deviations in sleep latency. In contrast, the mutant genotype group has a higher mean sleep latency, as well as significantly wider standard deviation and range of values. When removing the two outlier fish, the longest sleep latency was nearly 160 minutes once the lights went out, much higher as compared to the highest sleep latencies as the other two genotypes.\n",
    "\n",
    "From these parametrizations, we can see that the total loss of anaat2 is associated with an increased and less stable sleep latency as compared to both heterogenous and wild type genotype groups. Therefore, we can make the connection taht the loss of anaat2 has some negative effects on the zebrafish larvae's abiliy to fall asleep upon introducing a sleep-inducing stimuli (lights-out)."
   ]
  },
  {
   "cell_type": "code",
   "execution_count": 18,
   "metadata": {},
   "outputs": [],
   "source": [
    "%load_ext watermark"
   ]
  },
  {
   "cell_type": "code",
   "execution_count": 19,
   "metadata": {},
   "outputs": [
    {
     "name": "stdout",
     "output_type": "stream",
     "text": [
      "CPython 3.7.3\n",
      "IPython 7.6.1\n",
      "\n",
      "numpy 1.16.4\n",
      "pandas 0.24.2\n",
      "altair 3.2.0\n",
      "altair_catplot 0.0.5\n",
      "jupyterlab 1.0.2\n"
     ]
    }
   ],
   "source": [
    "%watermark -v -p numpy,pandas,altair,altair_catplot,jupyterlab"
   ]
  },
  {
   "cell_type": "markdown",
   "metadata": {},
   "source": [
    "## Contribution Block\n",
    "\n",
    "Together, we both analyzed the research papers, decided on our desired sleep behavior methodology of parametrizing sleep behavior, and \n",
    "\n",
    "Kevin Low formatted the charts, check the file for errors, and contributed to the coding process of performing method 2.\n",
    "\n",
    "Jethro Lim performed the data tidying, headed the data translation from movement activity to sleep minutes for method 1, and wrote the markdown cells."
   ]
  }
 ],
 "metadata": {
  "anaconda-cloud": {},
  "kernelspec": {
   "display_name": "Python 3",
   "language": "python",
   "name": "python3"
  },
  "language_info": {
   "codemirror_mode": {
    "name": "ipython",
    "version": 3
   },
   "file_extension": ".py",
   "mimetype": "text/x-python",
   "name": "python",
   "nbconvert_exporter": "python",
   "pygments_lexer": "ipython3",
   "version": "3.7.3"
  }
 },
 "nbformat": 4,
 "nbformat_minor": 4
}
